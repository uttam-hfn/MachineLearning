{
 "cells": [
  {
   "cell_type": "code",
   "execution_count": 1,
   "id": "90154afc-3c49-4b7e-8164-d355c316e2a3",
   "metadata": {
    "execution": {
     "iopub.execute_input": "2023-11-02T15:30:22.351785Z",
     "iopub.status.busy": "2023-11-02T15:30:22.351359Z",
     "iopub.status.idle": "2023-11-02T15:30:23.169031Z",
     "shell.execute_reply": "2023-11-02T15:30:23.168743Z"
    },
    "id": "90154afc-3c49-4b7e-8164-d355c316e2a3"
   },
   "outputs": [],
   "source": [
    "# Import packages and functions\n",
    "import matplotlib.pyplot as plt\n",
    "import numpy as np\n",
    "import pandas as pd\n",
    "import seaborn as sns\n",
    "from sklearn.feature_extraction.text import CountVectorizer\n",
    "from sklearn.metrics import confusion_matrix\n",
    "from sklearn.model_selection import train_test_split\n",
    "from sklearn.naive_bayes import MultinomialNB"
   ]
  },
  {
   "cell_type": "code",
   "execution_count": 2,
   "id": "e1c3caad-7c70-44ad-bc07-c2a639e957d6",
   "metadata": {
    "execution": {
     "iopub.execute_input": "2023-11-02T15:30:23.170783Z",
     "iopub.status.busy": "2023-11-02T15:30:23.170636Z",
     "iopub.status.idle": "2023-11-02T15:30:23.179864Z",
     "shell.execute_reply": "2023-11-02T15:30:23.179620Z"
    },
    "id": "e1c3caad-7c70-44ad-bc07-c2a639e957d6",
    "outputId": "4c731119-c3d0-487d-8250-39c54d98659c"
   },
   "outputs": [
    {
     "data": {
      "text/html": [
       "<div>\n",
       "<style scoped>\n",
       "    .dataframe tbody tr th:only-of-type {\n",
       "        vertical-align: middle;\n",
       "    }\n",
       "\n",
       "    .dataframe tbody tr th {\n",
       "        vertical-align: top;\n",
       "    }\n",
       "\n",
       "    .dataframe thead th {\n",
       "        text-align: right;\n",
       "    }\n",
       "</style>\n",
       "<table border=\"1\" class=\"dataframe\">\n",
       "  <thead>\n",
       "    <tr style=\"text-align: right;\">\n",
       "      <th></th>\n",
       "      <th>Class</th>\n",
       "      <th>Message</th>\n",
       "    </tr>\n",
       "  </thead>\n",
       "  <tbody>\n",
       "    <tr>\n",
       "      <th>0</th>\n",
       "      <td>ham</td>\n",
       "      <td>Go until jurong point, crazy.. Available only ...</td>\n",
       "    </tr>\n",
       "    <tr>\n",
       "      <th>1</th>\n",
       "      <td>ham</td>\n",
       "      <td>Ok lar... Joking wif u oni...</td>\n",
       "    </tr>\n",
       "    <tr>\n",
       "      <th>2</th>\n",
       "      <td>spam</td>\n",
       "      <td>Free entry in 2 a wkly comp to win FA Cup fina...</td>\n",
       "    </tr>\n",
       "    <tr>\n",
       "      <th>3</th>\n",
       "      <td>ham</td>\n",
       "      <td>U dun say so early hor... U c already then say...</td>\n",
       "    </tr>\n",
       "    <tr>\n",
       "      <th>4</th>\n",
       "      <td>ham</td>\n",
       "      <td>Nah I don't think he goes to usf, he lives aro...</td>\n",
       "    </tr>\n",
       "  </tbody>\n",
       "</table>\n",
       "</div>"
      ],
      "text/plain": [
       "  Class                                            Message\n",
       "0   ham  Go until jurong point, crazy.. Available only ...\n",
       "1   ham                      Ok lar... Joking wif u oni...\n",
       "2  spam  Free entry in 2 a wkly comp to win FA Cup fina...\n",
       "3   ham  U dun say so early hor... U c already then say...\n",
       "4   ham  Nah I don't think he goes to usf, he lives aro..."
      ]
     },
     "execution_count": 2,
     "metadata": {},
     "output_type": "execute_result"
    }
   ],
   "source": [
    "# Read in the data and view the first five instances.\n",
    "# File does not include column headers so they are provided via names.\n",
    "messages = pd.read_table('SMSSpamCollection', names=['Class', 'Message'])\n",
    "messages.head()"
   ]
  },
  {
   "cell_type": "code",
   "execution_count": 3,
   "id": "9e24370e-1659-4a3e-9657-ffea1dc54f2b",
   "metadata": {
    "execution": {
     "iopub.execute_input": "2023-11-02T15:30:23.181421Z",
     "iopub.status.busy": "2023-11-02T15:30:23.181332Z",
     "iopub.status.idle": "2023-11-02T15:30:23.183643Z",
     "shell.execute_reply": "2023-11-02T15:30:23.183405Z"
    },
    "id": "9e24370e-1659-4a3e-9657-ffea1dc54f2b"
   },
   "outputs": [],
   "source": [
    "# Split into testing and training sets\n",
    "X_train, X_test, Y_train, Y_test = train_test_split(\n",
    "    messages['Message'], messages['Class'], random_state=20220530\n",
    ")"
   ]
  },
  {
   "cell_type": "code",
   "execution_count": 4,
   "id": "a28ab368-1e7e-460a-9773-fcd4d517eae3",
   "metadata": {
    "execution": {
     "iopub.execute_input": "2023-11-02T15:30:23.185034Z",
     "iopub.status.busy": "2023-11-02T15:30:23.184958Z",
     "iopub.status.idle": "2023-11-02T15:30:23.215513Z",
     "shell.execute_reply": "2023-11-02T15:30:23.215262Z"
    },
    "id": "a28ab368-1e7e-460a-9773-fcd4d517eae3",
    "outputId": "4fe1aeaf-c991-47d8-a5ef-060a948135fb",
    "tags": []
   },
   "outputs": [
    {
     "data": {
      "text/plain": [
       "CountVectorizer()"
      ]
     },
     "execution_count": 4,
     "metadata": {},
     "output_type": "execute_result"
    }
   ],
   "source": [
    "# Count the words that appear in the messages\n",
    "vectorizer = CountVectorizer(ngram_range=(1, 1))\n",
    "vectorizer.fit(X_train)\n",
    "# Uncomment the line below to see the words.\n",
    "#vectorizer.vocabulary_"
   ]
  },
  {
   "cell_type": "code",
   "execution_count": 5,
   "id": "82bb341c-d41f-481b-b0d0-db7d8bbaf104",
   "metadata": {
    "execution": {
     "iopub.execute_input": "2023-11-02T15:30:23.216998Z",
     "iopub.status.busy": "2023-11-02T15:30:23.216917Z",
     "iopub.status.idle": "2023-11-02T15:30:23.241218Z",
     "shell.execute_reply": "2023-11-02T15:30:23.240994Z"
    },
    "id": "82bb341c-d41f-481b-b0d0-db7d8bbaf104",
    "outputId": "3b70a0c8-0dbf-477e-a115-0b536ba08432"
   },
   "outputs": [
    {
     "data": {
      "text/plain": [
       "<4179x7474 sparse matrix of type '<class 'numpy.int64'>'\n",
       "\twith 55755 stored elements in Compressed Sparse Row format>"
      ]
     },
     "execution_count": 5,
     "metadata": {},
     "output_type": "execute_result"
    }
   ],
   "source": [
    "# Count the words in the training set and store in a matrix\n",
    "X_train_vectorized = vectorizer.transform(X_train)\n",
    "X_train_vectorized"
   ]
  },
  {
   "cell_type": "code",
   "execution_count": 6,
   "id": "967ff724-21d3-4d95-b08d-f311ce017c94",
   "metadata": {
    "execution": {
     "iopub.execute_input": "2023-11-02T15:30:23.242596Z",
     "iopub.status.busy": "2023-11-02T15:30:23.242517Z",
     "iopub.status.idle": "2023-11-02T15:30:23.249000Z",
     "shell.execute_reply": "2023-11-02T15:30:23.248757Z"
    },
    "id": "967ff724-21d3-4d95-b08d-f311ce017c94",
    "outputId": "e1b25402-33fc-4546-d1b4-8357cb814387"
   },
   "outputs": [
    {
     "data": {
      "text/plain": [
       "MultinomialNB()"
      ]
     },
     "execution_count": 6,
     "metadata": {},
     "output_type": "execute_result"
    }
   ],
   "source": [
    "# Initialize the model and fit with the training data\n",
    "NBmodel = MultinomialNB()\n",
    "NBmodel.fit(X_train_vectorized, Y_train)"
   ]
  },
  {
   "cell_type": "code",
   "execution_count": 7,
   "id": "a3d222f8-e4d1-48f5-a001-939917ffe9ce",
   "metadata": {
    "execution": {
     "iopub.execute_input": "2023-11-02T15:30:23.250476Z",
     "iopub.status.busy": "2023-11-02T15:30:23.250388Z",
     "iopub.status.idle": "2023-11-02T15:30:23.282639Z",
     "shell.execute_reply": "2023-11-02T15:30:23.282392Z"
    },
    "id": "a3d222f8-e4d1-48f5-a001-939917ffe9ce"
   },
   "outputs": [],
   "source": [
    "# Make predictions onto the training and testing sets.\n",
    "trainPredictions = NBmodel.predict(vectorizer.transform(X_train))\n",
    "testPredictions = NBmodel.predict(vectorizer.transform(X_test))"
   ]
  },
  {
   "cell_type": "code",
   "execution_count": 8,
   "id": "fcebbe7f-5b78-40ce-82f7-7915ca703e9f",
   "metadata": {
    "execution": {
     "iopub.execute_input": "2023-11-02T15:30:23.284064Z",
     "iopub.status.busy": "2023-11-02T15:30:23.283984Z",
     "iopub.status.idle": "2023-11-02T15:30:23.292011Z",
     "shell.execute_reply": "2023-11-02T15:30:23.291765Z"
    },
    "id": "fcebbe7f-5b78-40ce-82f7-7915ca703e9f",
    "outputId": "e4cc3f04-517c-42c1-fef3-c173b8f9946b"
   },
   "outputs": [
    {
     "data": {
      "text/plain": [
       "array([[3610,   10],\n",
       "       [  18,  541]])"
      ]
     },
     "execution_count": 8,
     "metadata": {},
     "output_type": "execute_result"
    }
   ],
   "source": [
    "# How does the model work on the training set?\n",
    "confusion_matrix(Y_train, trainPredictions)"
   ]
  },
  {
   "cell_type": "code",
   "execution_count": 9,
   "id": "9a9dfb7d-ab5b-4580-b3da-3fe2c606dd68",
   "metadata": {
    "execution": {
     "iopub.execute_input": "2023-11-02T15:30:23.293461Z",
     "iopub.status.busy": "2023-11-02T15:30:23.293386Z",
     "iopub.status.idle": "2023-11-02T15:30:23.301294Z",
     "shell.execute_reply": "2023-11-02T15:30:23.301080Z"
    },
    "id": "9a9dfb7d-ab5b-4580-b3da-3fe2c606dd68",
    "outputId": "843e43d3-bbfd-42b1-80f1-fe76c713fe09"
   },
   "outputs": [
    {
     "data": {
      "text/plain": [
       "array([[0.99723757, 0.00276243],\n",
       "       [0.03220036, 0.96779964]])"
      ]
     },
     "execution_count": 9,
     "metadata": {},
     "output_type": "execute_result"
    }
   ],
   "source": [
    "# Display that in terms of correct porportions\n",
    "confusion_matrix(Y_train, trainPredictions, normalize='true')"
   ]
  },
  {
   "cell_type": "markdown",
   "id": "8f90a383-1f2e-40a4-972d-da2e9c7863c8",
   "metadata": {
    "id": "8f90a383-1f2e-40a4-972d-da2e9c7863c8"
   },
   "source": [
    "99.7% of real messages are classified correctly.\n",
    "Just over 3% of spam messages are thought to be real."
   ]
  },
  {
   "cell_type": "code",
   "execution_count": 10,
   "id": "ace7805e-884c-40bd-8b0f-b878dec045c7",
   "metadata": {
    "execution": {
     "iopub.execute_input": "2023-11-02T15:30:23.302788Z",
     "iopub.status.busy": "2023-11-02T15:30:23.302707Z",
     "iopub.status.idle": "2023-11-02T15:30:23.306772Z",
     "shell.execute_reply": "2023-11-02T15:30:23.306554Z"
    },
    "id": "ace7805e-884c-40bd-8b0f-b878dec045c7",
    "outputId": "08f85cd7-8420-4c74-d91f-d18b70b6aee8"
   },
   "outputs": [
    {
     "data": {
      "text/plain": [
       "array([[0.99585062, 0.00414938],\n",
       "       [0.07446809, 0.92553191]])"
      ]
     },
     "execution_count": 10,
     "metadata": {},
     "output_type": "execute_result"
    }
   ],
   "source": [
    "# How does the model work on the test set?\n",
    "confusion_matrix(Y_test, testPredictions, normalize='true')"
   ]
  },
  {
   "cell_type": "markdown",
   "id": "7d6a4666-d370-48a5-8c49-2cab853d559a",
   "metadata": {
    "id": "7d6a4666-d370-48a5-8c49-2cab853d559a"
   },
   "source": [
    "About 7.5% of spam messages are classified as real in the test data and only 0.4 % of real messages are classified as spam."
   ]
  },
  {
   "cell_type": "code",
   "execution_count": 11,
   "id": "8ccde5fe-11b9-438f-b71e-3a491158a5fb",
   "metadata": {
    "execution": {
     "iopub.execute_input": "2023-11-02T15:30:23.308090Z",
     "iopub.status.busy": "2023-11-02T15:30:23.308013Z",
     "iopub.status.idle": "2023-11-02T15:30:23.310267Z",
     "shell.execute_reply": "2023-11-02T15:30:23.310052Z"
    },
    "id": "8ccde5fe-11b9-438f-b71e-3a491158a5fb",
    "outputId": "5fd77a1a-7e17-4d68-a5dd-1f528fa34401"
   },
   "outputs": [
    {
     "data": {
      "text/plain": [
       "array(['spam', 'ham'], dtype='<U4')"
      ]
     },
     "execution_count": 11,
     "metadata": {},
     "output_type": "execute_result"
    }
   ],
   "source": [
    "# Predict some phrases. Add your own.\n",
    "NBmodel.predict(\n",
    "    vectorizer.transform(\n",
    "        [\"Big sale today! Free cash.\",\n",
    "        \"I'll be there in 5\"]))"
   ]
  }
 ],
 "metadata": {
  "colab": {
   "provenance": []
  },
  "kernelspec": {
   "display_name": "base",
   "language": "python",
   "name": "python3"
  },
  "language_info": {
   "codemirror_mode": {
    "name": "ipython",
    "version": 3
   },
   "file_extension": ".py",
   "mimetype": "text/x-python",
   "name": "python",
   "nbconvert_exporter": "python",
   "pygments_lexer": "ipython3",
   "version": "3.10.12"
  },
  "vscode": {
   "interpreter": {
    "hash": "8da5f44f3c50f4b8c4de790cb93e33dd9ef9127e35d33e4e57b9ae04d20a0668"
   }
  }
 },
 "nbformat": 4,
 "nbformat_minor": 5
}
