{
 "cells": [
  {
   "cell_type": "code",
   "execution_count": 1,
   "id": "5ca28f6c-f2f8-47fd-bf06-3d10f3353af0",
   "metadata": {
    "execution": {
     "iopub.execute_input": "2023-07-26T13:23:36.909660Z",
     "iopub.status.busy": "2023-07-26T13:23:36.909171Z",
     "iopub.status.idle": "2023-07-26T13:23:37.583469Z",
     "shell.execute_reply": "2023-07-26T13:23:37.583149Z"
    }
   },
   "outputs": [],
   "source": [
    "# Import needed packages for classification\n",
    "from sklearn.neighbors import KNeighborsClassifier\n",
    "import pandas as pd\n",
    "import numpy as np\n",
    "from sklearn.preprocessing import StandardScaler\n",
    "\n",
    "# Import packages for visualization of results\n",
    "import seaborn as sns\n",
    "import matplotlib.pyplot as plt\n",
    "from sklearn import preprocessing\n",
    "from matplotlib.colors import ListedColormap\n",
    "\n",
    "# Iport packages for evaluation\n",
    "from sklearn.model_selection import train_test_split\n",
    "from sklearn import metrics"
   ]
  },
  {
   "cell_type": "code",
   "execution_count": 2,
   "id": "87fc799e-cdf0-4706-b084-269f1a75ec24",
   "metadata": {
    "execution": {
     "iopub.execute_input": "2023-07-26T13:23:37.585167Z",
     "iopub.status.busy": "2023-07-26T13:23:37.585036Z",
     "iopub.status.idle": "2023-07-26T13:23:37.620670Z",
     "shell.execute_reply": "2023-07-26T13:23:37.620370Z"
    }
   },
   "outputs": [
    {
     "name": "stdout",
     "output_type": "stream",
     "text": [
      "(13611, 17)\n"
     ]
    },
    {
     "data": {
      "text/html": [
       "<div>\n",
       "<style scoped>\n",
       "    .dataframe tbody tr th:only-of-type {\n",
       "        vertical-align: middle;\n",
       "    }\n",
       "\n",
       "    .dataframe tbody tr th {\n",
       "        vertical-align: top;\n",
       "    }\n",
       "\n",
       "    .dataframe thead th {\n",
       "        text-align: right;\n",
       "    }\n",
       "</style>\n",
       "<table border=\"1\" class=\"dataframe\">\n",
       "  <thead>\n",
       "    <tr style=\"text-align: right;\">\n",
       "      <th></th>\n",
       "      <th>Area</th>\n",
       "      <th>Perimeter</th>\n",
       "      <th>MajorAxisLength</th>\n",
       "      <th>MinorAxisLength</th>\n",
       "      <th>AspectRation</th>\n",
       "      <th>Eccentricity</th>\n",
       "      <th>ConvexArea</th>\n",
       "      <th>EquivDiameter</th>\n",
       "      <th>Extent</th>\n",
       "      <th>Solidity</th>\n",
       "      <th>roundness</th>\n",
       "      <th>Compactness</th>\n",
       "      <th>ShapeFactor1</th>\n",
       "      <th>ShapeFactor2</th>\n",
       "      <th>ShapeFactor3</th>\n",
       "      <th>ShapeFactor4</th>\n",
       "    </tr>\n",
       "  </thead>\n",
       "  <tbody>\n",
       "    <tr>\n",
       "      <th>count</th>\n",
       "      <td>13611.000000</td>\n",
       "      <td>13611.000000</td>\n",
       "      <td>13611.000000</td>\n",
       "      <td>13611.000000</td>\n",
       "      <td>13611.000000</td>\n",
       "      <td>13611.000000</td>\n",
       "      <td>13611.000000</td>\n",
       "      <td>13611.000000</td>\n",
       "      <td>13611.000000</td>\n",
       "      <td>13611.000000</td>\n",
       "      <td>13611.000000</td>\n",
       "      <td>13611.000000</td>\n",
       "      <td>13611.000000</td>\n",
       "      <td>13611.000000</td>\n",
       "      <td>13611.000000</td>\n",
       "      <td>13611.000000</td>\n",
       "    </tr>\n",
       "    <tr>\n",
       "      <th>mean</th>\n",
       "      <td>53048.284549</td>\n",
       "      <td>855.283459</td>\n",
       "      <td>320.141867</td>\n",
       "      <td>202.270714</td>\n",
       "      <td>1.583242</td>\n",
       "      <td>0.750895</td>\n",
       "      <td>53768.200206</td>\n",
       "      <td>253.064220</td>\n",
       "      <td>0.749733</td>\n",
       "      <td>0.987143</td>\n",
       "      <td>0.873282</td>\n",
       "      <td>0.799864</td>\n",
       "      <td>0.006564</td>\n",
       "      <td>0.001716</td>\n",
       "      <td>0.643590</td>\n",
       "      <td>0.995063</td>\n",
       "    </tr>\n",
       "    <tr>\n",
       "      <th>std</th>\n",
       "      <td>29324.095717</td>\n",
       "      <td>214.289696</td>\n",
       "      <td>85.694186</td>\n",
       "      <td>44.970091</td>\n",
       "      <td>0.246678</td>\n",
       "      <td>0.092002</td>\n",
       "      <td>29774.915817</td>\n",
       "      <td>59.177120</td>\n",
       "      <td>0.049086</td>\n",
       "      <td>0.004660</td>\n",
       "      <td>0.059520</td>\n",
       "      <td>0.061713</td>\n",
       "      <td>0.001128</td>\n",
       "      <td>0.000596</td>\n",
       "      <td>0.098996</td>\n",
       "      <td>0.004366</td>\n",
       "    </tr>\n",
       "    <tr>\n",
       "      <th>min</th>\n",
       "      <td>20420.000000</td>\n",
       "      <td>524.736000</td>\n",
       "      <td>183.601165</td>\n",
       "      <td>122.512653</td>\n",
       "      <td>1.024868</td>\n",
       "      <td>0.218951</td>\n",
       "      <td>20684.000000</td>\n",
       "      <td>161.243764</td>\n",
       "      <td>0.555315</td>\n",
       "      <td>0.919246</td>\n",
       "      <td>0.489618</td>\n",
       "      <td>0.640577</td>\n",
       "      <td>0.002778</td>\n",
       "      <td>0.000564</td>\n",
       "      <td>0.410339</td>\n",
       "      <td>0.947687</td>\n",
       "    </tr>\n",
       "    <tr>\n",
       "      <th>25%</th>\n",
       "      <td>36328.000000</td>\n",
       "      <td>703.523500</td>\n",
       "      <td>253.303633</td>\n",
       "      <td>175.848170</td>\n",
       "      <td>1.432307</td>\n",
       "      <td>0.715928</td>\n",
       "      <td>36714.500000</td>\n",
       "      <td>215.068003</td>\n",
       "      <td>0.718634</td>\n",
       "      <td>0.985670</td>\n",
       "      <td>0.832096</td>\n",
       "      <td>0.762469</td>\n",
       "      <td>0.005900</td>\n",
       "      <td>0.001154</td>\n",
       "      <td>0.581359</td>\n",
       "      <td>0.993703</td>\n",
       "    </tr>\n",
       "    <tr>\n",
       "      <th>50%</th>\n",
       "      <td>44652.000000</td>\n",
       "      <td>794.941000</td>\n",
       "      <td>296.883367</td>\n",
       "      <td>192.431733</td>\n",
       "      <td>1.551124</td>\n",
       "      <td>0.764441</td>\n",
       "      <td>45178.000000</td>\n",
       "      <td>238.438026</td>\n",
       "      <td>0.759859</td>\n",
       "      <td>0.988283</td>\n",
       "      <td>0.883157</td>\n",
       "      <td>0.801277</td>\n",
       "      <td>0.006645</td>\n",
       "      <td>0.001694</td>\n",
       "      <td>0.642044</td>\n",
       "      <td>0.996386</td>\n",
       "    </tr>\n",
       "    <tr>\n",
       "      <th>75%</th>\n",
       "      <td>61332.000000</td>\n",
       "      <td>977.213000</td>\n",
       "      <td>376.495012</td>\n",
       "      <td>217.031741</td>\n",
       "      <td>1.707109</td>\n",
       "      <td>0.810466</td>\n",
       "      <td>62294.000000</td>\n",
       "      <td>279.446467</td>\n",
       "      <td>0.786851</td>\n",
       "      <td>0.990013</td>\n",
       "      <td>0.916869</td>\n",
       "      <td>0.834270</td>\n",
       "      <td>0.007271</td>\n",
       "      <td>0.002170</td>\n",
       "      <td>0.696006</td>\n",
       "      <td>0.997883</td>\n",
       "    </tr>\n",
       "    <tr>\n",
       "      <th>max</th>\n",
       "      <td>254616.000000</td>\n",
       "      <td>1985.370000</td>\n",
       "      <td>738.860154</td>\n",
       "      <td>460.198497</td>\n",
       "      <td>2.430306</td>\n",
       "      <td>0.911423</td>\n",
       "      <td>263261.000000</td>\n",
       "      <td>569.374358</td>\n",
       "      <td>0.866195</td>\n",
       "      <td>0.994677</td>\n",
       "      <td>0.990685</td>\n",
       "      <td>0.987303</td>\n",
       "      <td>0.010451</td>\n",
       "      <td>0.003665</td>\n",
       "      <td>0.974767</td>\n",
       "      <td>0.999733</td>\n",
       "    </tr>\n",
       "  </tbody>\n",
       "</table>\n",
       "</div>"
      ],
      "text/plain": [
       "                Area     Perimeter  MajorAxisLength  MinorAxisLength  \\\n",
       "count   13611.000000  13611.000000     13611.000000     13611.000000   \n",
       "mean    53048.284549    855.283459       320.141867       202.270714   \n",
       "std     29324.095717    214.289696        85.694186        44.970091   \n",
       "min     20420.000000    524.736000       183.601165       122.512653   \n",
       "25%     36328.000000    703.523500       253.303633       175.848170   \n",
       "50%     44652.000000    794.941000       296.883367       192.431733   \n",
       "75%     61332.000000    977.213000       376.495012       217.031741   \n",
       "max    254616.000000   1985.370000       738.860154       460.198497   \n",
       "\n",
       "       AspectRation  Eccentricity     ConvexArea  EquivDiameter        Extent  \\\n",
       "count  13611.000000  13611.000000   13611.000000   13611.000000  13611.000000   \n",
       "mean       1.583242      0.750895   53768.200206     253.064220      0.749733   \n",
       "std        0.246678      0.092002   29774.915817      59.177120      0.049086   \n",
       "min        1.024868      0.218951   20684.000000     161.243764      0.555315   \n",
       "25%        1.432307      0.715928   36714.500000     215.068003      0.718634   \n",
       "50%        1.551124      0.764441   45178.000000     238.438026      0.759859   \n",
       "75%        1.707109      0.810466   62294.000000     279.446467      0.786851   \n",
       "max        2.430306      0.911423  263261.000000     569.374358      0.866195   \n",
       "\n",
       "           Solidity     roundness   Compactness  ShapeFactor1  ShapeFactor2  \\\n",
       "count  13611.000000  13611.000000  13611.000000  13611.000000  13611.000000   \n",
       "mean       0.987143      0.873282      0.799864      0.006564      0.001716   \n",
       "std        0.004660      0.059520      0.061713      0.001128      0.000596   \n",
       "min        0.919246      0.489618      0.640577      0.002778      0.000564   \n",
       "25%        0.985670      0.832096      0.762469      0.005900      0.001154   \n",
       "50%        0.988283      0.883157      0.801277      0.006645      0.001694   \n",
       "75%        0.990013      0.916869      0.834270      0.007271      0.002170   \n",
       "max        0.994677      0.990685      0.987303      0.010451      0.003665   \n",
       "\n",
       "       ShapeFactor3  ShapeFactor4  \n",
       "count  13611.000000  13611.000000  \n",
       "mean       0.643590      0.995063  \n",
       "std        0.098996      0.004366  \n",
       "min        0.410339      0.947687  \n",
       "25%        0.581359      0.993703  \n",
       "50%        0.642044      0.996386  \n",
       "75%        0.696006      0.997883  \n",
       "max        0.974767      0.999733  "
      ]
     },
     "execution_count": 2,
     "metadata": {},
     "output_type": "execute_result"
    }
   ],
   "source": [
    "# Read data, clean up names\n",
    "\n",
    "beans = pd.read_csv(\"Dry_Bean_Dataset.csv\")\n",
    "beans[\"Class\"] = beans[\"Class\"].str.capitalize()\n",
    "print(beans.shape)\n",
    "beans.describe()"
   ]
  },
  {
   "cell_type": "code",
   "execution_count": 3,
   "id": "caa0825f-976e-4afe-ac71-40db37f88335",
   "metadata": {
    "execution": {
     "iopub.execute_input": "2023-07-26T13:23:37.622163Z",
     "iopub.status.busy": "2023-07-26T13:23:37.622058Z",
     "iopub.status.idle": "2023-07-26T13:23:37.625357Z",
     "shell.execute_reply": "2023-07-26T13:23:37.625098Z"
    },
    "tags": []
   },
   "outputs": [],
   "source": [
    "# Initialize model\n",
    "beanKnnClassifier = KNeighborsClassifier(n_neighbors=5)\n",
    "# Split data\n",
    "X = beans[[\"MajorAxisLength\", \"MinorAxisLength\"]]\n",
    "y = beans[[\"Class\"]]\n",
    "X_train, X_test, y_train, y_test = train_test_split(X, y, test_size=0.3)"
   ]
  },
  {
   "cell_type": "code",
   "execution_count": 4,
   "id": "a8fce06c-b498-47b8-8b6c-d2093df8f2c9",
   "metadata": {
    "execution": {
     "iopub.execute_input": "2023-07-26T13:23:37.626636Z",
     "iopub.status.busy": "2023-07-26T13:23:37.626559Z",
     "iopub.status.idle": "2023-07-26T13:23:37.629425Z",
     "shell.execute_reply": "2023-07-26T13:23:37.629182Z"
    }
   },
   "outputs": [],
   "source": [
    "# Scale data\n",
    "scaler = StandardScaler()\n",
    "X_train_scaled = scaler.fit_transform(X_train)"
   ]
  },
  {
   "cell_type": "code",
   "execution_count": 5,
   "id": "1b5b49e0-78d1-4226-bc8c-2f3bb4b05105",
   "metadata": {
    "execution": {
     "iopub.execute_input": "2023-07-26T13:23:37.630673Z",
     "iopub.status.busy": "2023-07-26T13:23:37.630599Z",
     "iopub.status.idle": "2023-07-26T13:23:37.669777Z",
     "shell.execute_reply": "2023-07-26T13:23:37.669488Z"
    }
   },
   "outputs": [],
   "source": [
    "# Train model and make predictions for the test set.\n",
    "beanKnnClassifier.fit(X_train_scaled, np.ravel(y_train))\n",
    "y_pred = beanKnnClassifier.predict(scaler.transform(X_test))"
   ]
  },
  {
   "cell_type": "code",
   "execution_count": 6,
   "id": "7d143e11-f409-4d9a-8bbc-b6017e494b65",
   "metadata": {
    "execution": {
     "iopub.execute_input": "2023-07-26T13:23:37.671319Z",
     "iopub.status.busy": "2023-07-26T13:23:37.671233Z",
     "iopub.status.idle": "2023-07-26T13:23:37.674466Z",
     "shell.execute_reply": "2023-07-26T13:23:37.674221Z"
    }
   },
   "outputs": [
    {
     "data": {
      "text/plain": [
       "array(['Horoz'], dtype=object)"
      ]
     },
     "execution_count": 6,
     "metadata": {},
     "output_type": "execute_result"
    }
   ],
   "source": [
    "# Predict one bean\n",
    "bean = pd.DataFrame(data={\"MajorAxisLength\": [400], \"MinorAxisLength\": [200]})\n",
    "beanKnnClassifier.predict(scaler.transform(bean))"
   ]
  },
  {
   "cell_type": "code",
   "execution_count": 7,
   "id": "25bfb4d0-aa2b-4298-b6b3-820e43752647",
   "metadata": {
    "execution": {
     "iopub.execute_input": "2023-07-26T13:23:37.675804Z",
     "iopub.status.busy": "2023-07-26T13:23:37.675722Z",
     "iopub.status.idle": "2023-07-26T13:23:37.687124Z",
     "shell.execute_reply": "2023-07-26T13:23:37.686887Z"
    }
   },
   "outputs": [
    {
     "name": "stdout",
     "output_type": "stream",
     "text": [
      "0.8731635651322233\n",
      "[[ 287    0   67    0    4    3    7]\n",
      " [   0  151    0    0    0    0    0]\n",
      " [  93    0  413    0    9    0    1]\n",
      " [   0    0    0 1020    1   12  100]\n",
      " [   1    0   10    3  513    0   19]\n",
      " [   2    0    0   20    0  536   13]\n",
      " [  21    0    3   86   23   20  646]]\n"
     ]
    }
   ],
   "source": [
    "# Compute metrics\n",
    "print(metrics.accuracy_score(y_pred, y_test))\n",
    "print(metrics.confusion_matrix(y_pred, y_test))"
   ]
  },
  {
   "cell_type": "markdown",
   "id": "7598e46f-1ca7-4f3f-ba7b-305ffd14bda0",
   "metadata": {},
   "source": [
    "# Visualizing the regions of classification"
   ]
  },
  {
   "cell_type": "code",
   "execution_count": 8,
   "id": "f63ee3d8-ca5a-4048-a559-f50450061397",
   "metadata": {
    "execution": {
     "iopub.execute_input": "2023-07-26T13:23:37.688520Z",
     "iopub.status.busy": "2023-07-26T13:23:37.688438Z",
     "iopub.status.idle": "2023-07-26T13:23:37.692325Z",
     "shell.execute_reply": "2023-07-26T13:23:37.692104Z"
    },
    "jupyter": {
     "source_hidden": true
    },
    "tags": []
   },
   "outputs": [],
   "source": [
    "# Define function for the plot.\n",
    "#  X - two feature data frame,\n",
    "#  y - output feature,\n",
    "#  classifier - model that has been fit,\n",
    "#  le - label encoder\n",
    "#  with_data - plot the data with the regions\n",
    "\n",
    "\n",
    "def plot_classification_regions(X, y, classifier, le, with_data=False):\n",
    "\n",
    "    # Predict class on a regular grid\n",
    "\n",
    "    # Plot the decision boundary. For that, we will assign a color to each\n",
    "    # point in the mesh [x_min, x_max]x[y_min, y_max].\n",
    "    x_min, x_max = X.iloc[:, 0].min() - 10, X.iloc[:, 0].max() + 10\n",
    "    y_min, y_max = X.iloc[:, 1].min() - 10, X.iloc[:, 1].max() + 10\n",
    "    xh = (x_max - x_min) / 200  # step size in the mesh for the x direction\n",
    "    yh = (y_max - y_min) / 200  # step size in the mesh for the y direction\n",
    "\n",
    "    xx, yy = np.meshgrid(np.arange(x_min, x_max, xh), np.arange(y_min, y_max, yh))\n",
    "    Z = classifier.predict(np.c_[xx.ravel(), yy.ravel()])\n",
    "    # Get outputs ready for plotting\n",
    "    Z = le.transform(Z)\n",
    "    Z = Z.reshape(xx.shape)\n",
    "    numClasses = len(le.classes_)\n",
    "    # Plot the regions classified as different classes\n",
    "    plt.figure(figsize=(8, 6))\n",
    "    plt.contourf(\n",
    "        xx,\n",
    "        yy,\n",
    "        Z,\n",
    "        levels=[i - 0.5 for i in range(numClasses + 1)],\n",
    "        cmap=ListedColormap(\n",
    "            sns.color_palette(\"colorblind\", as_cmap=False, n_colors=numClasses)\n",
    "        ),\n",
    "    )\n",
    "\n",
    "    if with_data:\n",
    "        p1 = sns.scatterplot(\n",
    "            data=X,\n",
    "            x=X.columns[0],\n",
    "            y=X.columns[1],\n",
    "            hue=le.transform(np.ravel(y)),\n",
    "            palette=\"colorblind\",\n",
    "            alpha=1,\n",
    "            edgecolor=\"black\",\n",
    "            style=le.transform(np.ravel(y)),\n",
    "        )\n",
    "        leg = p1.legend()\n",
    "        leg.set_title(\"Variety\")\n",
    "        for t, l in zip(leg.texts, le.inverse_transform(range(7))):\n",
    "            t.set_text(l)"
   ]
  },
  {
   "cell_type": "code",
   "execution_count": 9,
   "id": "3a76fa8e-b72d-49cf-89dd-1c17b561d320",
   "metadata": {
    "execution": {
     "iopub.execute_input": "2023-07-26T13:23:37.693656Z",
     "iopub.status.busy": "2023-07-26T13:23:37.693577Z",
     "iopub.status.idle": "2023-07-26T13:23:37.708295Z",
     "shell.execute_reply": "2023-07-26T13:23:37.708040Z"
    },
    "tags": []
   },
   "outputs": [
    {
     "data": {
      "text/html": [
       "<div>\n",
       "<style scoped>\n",
       "    .dataframe tbody tr th:only-of-type {\n",
       "        vertical-align: middle;\n",
       "    }\n",
       "\n",
       "    .dataframe tbody tr th {\n",
       "        vertical-align: top;\n",
       "    }\n",
       "\n",
       "    .dataframe thead th {\n",
       "        text-align: right;\n",
       "    }\n",
       "</style>\n",
       "<table border=\"1\" class=\"dataframe\">\n",
       "  <thead>\n",
       "    <tr style=\"text-align: right;\">\n",
       "      <th></th>\n",
       "      <th>Area</th>\n",
       "      <th>Perimeter</th>\n",
       "      <th>MajorAxisLength</th>\n",
       "      <th>MinorAxisLength</th>\n",
       "      <th>AspectRation</th>\n",
       "      <th>Eccentricity</th>\n",
       "      <th>ConvexArea</th>\n",
       "      <th>EquivDiameter</th>\n",
       "      <th>Extent</th>\n",
       "      <th>Solidity</th>\n",
       "      <th>roundness</th>\n",
       "      <th>Compactness</th>\n",
       "      <th>ShapeFactor1</th>\n",
       "      <th>ShapeFactor2</th>\n",
       "      <th>ShapeFactor3</th>\n",
       "      <th>ShapeFactor4</th>\n",
       "    </tr>\n",
       "  </thead>\n",
       "  <tbody>\n",
       "    <tr>\n",
       "      <th>count</th>\n",
       "      <td>750.000000</td>\n",
       "      <td>750.000000</td>\n",
       "      <td>750.000000</td>\n",
       "      <td>750.000000</td>\n",
       "      <td>750.000000</td>\n",
       "      <td>750.000000</td>\n",
       "      <td>750.000000</td>\n",
       "      <td>750.000000</td>\n",
       "      <td>750.000000</td>\n",
       "      <td>750.000000</td>\n",
       "      <td>750.000000</td>\n",
       "      <td>750.000000</td>\n",
       "      <td>750.000000</td>\n",
       "      <td>750.000000</td>\n",
       "      <td>750.000000</td>\n",
       "      <td>750.000000</td>\n",
       "    </tr>\n",
       "    <tr>\n",
       "      <th>mean</th>\n",
       "      <td>53057.461333</td>\n",
       "      <td>856.526845</td>\n",
       "      <td>320.577447</td>\n",
       "      <td>202.055629</td>\n",
       "      <td>1.589865</td>\n",
       "      <td>0.754276</td>\n",
       "      <td>53779.113333</td>\n",
       "      <td>253.116813</td>\n",
       "      <td>0.748570</td>\n",
       "      <td>0.987180</td>\n",
       "      <td>0.871183</td>\n",
       "      <td>0.798051</td>\n",
       "      <td>0.006578</td>\n",
       "      <td>0.001699</td>\n",
       "      <td>0.640577</td>\n",
       "      <td>0.995033</td>\n",
       "    </tr>\n",
       "    <tr>\n",
       "      <th>std</th>\n",
       "      <td>29446.976695</td>\n",
       "      <td>213.951409</td>\n",
       "      <td>83.984543</td>\n",
       "      <td>45.914581</td>\n",
       "      <td>0.246755</td>\n",
       "      <td>0.087670</td>\n",
       "      <td>29909.388487</td>\n",
       "      <td>59.088002</td>\n",
       "      <td>0.050335</td>\n",
       "      <td>0.004647</td>\n",
       "      <td>0.060906</td>\n",
       "      <td>0.060800</td>\n",
       "      <td>0.001140</td>\n",
       "      <td>0.000578</td>\n",
       "      <td>0.096964</td>\n",
       "      <td>0.004698</td>\n",
       "    </tr>\n",
       "    <tr>\n",
       "      <th>min</th>\n",
       "      <td>22144.000000</td>\n",
       "      <td>545.278000</td>\n",
       "      <td>199.122967</td>\n",
       "      <td>141.785143</td>\n",
       "      <td>1.115234</td>\n",
       "      <td>0.442694</td>\n",
       "      <td>22445.000000</td>\n",
       "      <td>167.912526</td>\n",
       "      <td>0.573367</td>\n",
       "      <td>0.957982</td>\n",
       "      <td>0.593708</td>\n",
       "      <td>0.649039</td>\n",
       "      <td>0.002860</td>\n",
       "      <td>0.000667</td>\n",
       "      <td>0.421251</td>\n",
       "      <td>0.956867</td>\n",
       "    </tr>\n",
       "    <tr>\n",
       "      <th>25%</th>\n",
       "      <td>36336.000000</td>\n",
       "      <td>703.288500</td>\n",
       "      <td>254.171134</td>\n",
       "      <td>174.807924</td>\n",
       "      <td>1.432352</td>\n",
       "      <td>0.715949</td>\n",
       "      <td>36672.500000</td>\n",
       "      <td>215.091676</td>\n",
       "      <td>0.719762</td>\n",
       "      <td>0.985835</td>\n",
       "      <td>0.827452</td>\n",
       "      <td>0.764651</td>\n",
       "      <td>0.005902</td>\n",
       "      <td>0.001164</td>\n",
       "      <td>0.584691</td>\n",
       "      <td>0.993739</td>\n",
       "    </tr>\n",
       "    <tr>\n",
       "      <th>50%</th>\n",
       "      <td>45151.500000</td>\n",
       "      <td>800.566500</td>\n",
       "      <td>300.868796</td>\n",
       "      <td>191.589276</td>\n",
       "      <td>1.558308</td>\n",
       "      <td>0.766937</td>\n",
       "      <td>45656.500000</td>\n",
       "      <td>239.767961</td>\n",
       "      <td>0.758405</td>\n",
       "      <td>0.988403</td>\n",
       "      <td>0.879597</td>\n",
       "      <td>0.799744</td>\n",
       "      <td>0.006674</td>\n",
       "      <td>0.001648</td>\n",
       "      <td>0.639590</td>\n",
       "      <td>0.996507</td>\n",
       "    </tr>\n",
       "    <tr>\n",
       "      <th>75%</th>\n",
       "      <td>60963.500000</td>\n",
       "      <td>974.616500</td>\n",
       "      <td>375.738883</td>\n",
       "      <td>216.454654</td>\n",
       "      <td>1.698107</td>\n",
       "      <td>0.808212</td>\n",
       "      <td>62308.750000</td>\n",
       "      <td>278.605705</td>\n",
       "      <td>0.785297</td>\n",
       "      <td>0.990125</td>\n",
       "      <td>0.917283</td>\n",
       "      <td>0.833857</td>\n",
       "      <td>0.007329</td>\n",
       "      <td>0.002162</td>\n",
       "      <td>0.695318</td>\n",
       "      <td>0.997956</td>\n",
       "    </tr>\n",
       "    <tr>\n",
       "      <th>max</th>\n",
       "      <td>251432.000000</td>\n",
       "      <td>1919.868000</td>\n",
       "      <td>719.125690</td>\n",
       "      <td>450.926187</td>\n",
       "      <td>2.350473</td>\n",
       "      <td>0.904984</td>\n",
       "      <td>257425.000000</td>\n",
       "      <td>565.803115</td>\n",
       "      <td>0.836414</td>\n",
       "      <td>0.994049</td>\n",
       "      <td>0.984009</td>\n",
       "      <td>0.946030</td>\n",
       "      <td>0.009002</td>\n",
       "      <td>0.003173</td>\n",
       "      <td>0.894973</td>\n",
       "      <td>0.999674</td>\n",
       "    </tr>\n",
       "  </tbody>\n",
       "</table>\n",
       "</div>"
      ],
      "text/plain": [
       "                Area    Perimeter  MajorAxisLength  MinorAxisLength  \\\n",
       "count     750.000000   750.000000       750.000000       750.000000   \n",
       "mean    53057.461333   856.526845       320.577447       202.055629   \n",
       "std     29446.976695   213.951409        83.984543        45.914581   \n",
       "min     22144.000000   545.278000       199.122967       141.785143   \n",
       "25%     36336.000000   703.288500       254.171134       174.807924   \n",
       "50%     45151.500000   800.566500       300.868796       191.589276   \n",
       "75%     60963.500000   974.616500       375.738883       216.454654   \n",
       "max    251432.000000  1919.868000       719.125690       450.926187   \n",
       "\n",
       "       AspectRation  Eccentricity     ConvexArea  EquivDiameter      Extent  \\\n",
       "count    750.000000    750.000000     750.000000     750.000000  750.000000   \n",
       "mean       1.589865      0.754276   53779.113333     253.116813    0.748570   \n",
       "std        0.246755      0.087670   29909.388487      59.088002    0.050335   \n",
       "min        1.115234      0.442694   22445.000000     167.912526    0.573367   \n",
       "25%        1.432352      0.715949   36672.500000     215.091676    0.719762   \n",
       "50%        1.558308      0.766937   45656.500000     239.767961    0.758405   \n",
       "75%        1.698107      0.808212   62308.750000     278.605705    0.785297   \n",
       "max        2.350473      0.904984  257425.000000     565.803115    0.836414   \n",
       "\n",
       "         Solidity   roundness  Compactness  ShapeFactor1  ShapeFactor2  \\\n",
       "count  750.000000  750.000000   750.000000    750.000000    750.000000   \n",
       "mean     0.987180    0.871183     0.798051      0.006578      0.001699   \n",
       "std      0.004647    0.060906     0.060800      0.001140      0.000578   \n",
       "min      0.957982    0.593708     0.649039      0.002860      0.000667   \n",
       "25%      0.985835    0.827452     0.764651      0.005902      0.001164   \n",
       "50%      0.988403    0.879597     0.799744      0.006674      0.001648   \n",
       "75%      0.990125    0.917283     0.833857      0.007329      0.002162   \n",
       "max      0.994049    0.984009     0.946030      0.009002      0.003173   \n",
       "\n",
       "       ShapeFactor3  ShapeFactor4  \n",
       "count    750.000000    750.000000  \n",
       "mean       0.640577      0.995033  \n",
       "std        0.096964      0.004698  \n",
       "min        0.421251      0.956867  \n",
       "25%        0.584691      0.993739  \n",
       "50%        0.639590      0.996507  \n",
       "75%        0.695318      0.997956  \n",
       "max        0.894973      0.999674  "
      ]
     },
     "execution_count": 9,
     "metadata": {},
     "output_type": "execute_result"
    }
   ],
   "source": [
    "# Take a sample to keep runtime low while seeing what areas are classified as each bean\n",
    "beanSample = beans.sample(750, random_state=20220509)\n",
    "beanSample.describe()"
   ]
  },
  {
   "cell_type": "code",
   "execution_count": 10,
   "id": "cd3c5a9a-bedb-4a71-bd0a-0d420f98e7db",
   "metadata": {
    "execution": {
     "iopub.execute_input": "2023-07-26T13:23:37.709809Z",
     "iopub.status.busy": "2023-07-26T13:23:37.709724Z",
     "iopub.status.idle": "2023-07-26T13:23:37.713371Z",
     "shell.execute_reply": "2023-07-26T13:23:37.713147Z"
    }
   },
   "outputs": [
    {
     "data": {
      "text/html": [
       "<style>#sk-container-id-1 {color: black;background-color: white;}#sk-container-id-1 pre{padding: 0;}#sk-container-id-1 div.sk-toggleable {background-color: white;}#sk-container-id-1 label.sk-toggleable__label {cursor: pointer;display: block;width: 100%;margin-bottom: 0;padding: 0.3em;box-sizing: border-box;text-align: center;}#sk-container-id-1 label.sk-toggleable__label-arrow:before {content: \"▸\";float: left;margin-right: 0.25em;color: #696969;}#sk-container-id-1 label.sk-toggleable__label-arrow:hover:before {color: black;}#sk-container-id-1 div.sk-estimator:hover label.sk-toggleable__label-arrow:before {color: black;}#sk-container-id-1 div.sk-toggleable__content {max-height: 0;max-width: 0;overflow: hidden;text-align: left;background-color: #f0f8ff;}#sk-container-id-1 div.sk-toggleable__content pre {margin: 0.2em;color: black;border-radius: 0.25em;background-color: #f0f8ff;}#sk-container-id-1 input.sk-toggleable__control:checked~div.sk-toggleable__content {max-height: 200px;max-width: 100%;overflow: auto;}#sk-container-id-1 input.sk-toggleable__control:checked~label.sk-toggleable__label-arrow:before {content: \"▾\";}#sk-container-id-1 div.sk-estimator input.sk-toggleable__control:checked~label.sk-toggleable__label {background-color: #d4ebff;}#sk-container-id-1 div.sk-label input.sk-toggleable__control:checked~label.sk-toggleable__label {background-color: #d4ebff;}#sk-container-id-1 input.sk-hidden--visually {border: 0;clip: rect(1px 1px 1px 1px);clip: rect(1px, 1px, 1px, 1px);height: 1px;margin: -1px;overflow: hidden;padding: 0;position: absolute;width: 1px;}#sk-container-id-1 div.sk-estimator {font-family: monospace;background-color: #f0f8ff;border: 1px dotted black;border-radius: 0.25em;box-sizing: border-box;margin-bottom: 0.5em;}#sk-container-id-1 div.sk-estimator:hover {background-color: #d4ebff;}#sk-container-id-1 div.sk-parallel-item::after {content: \"\";width: 100%;border-bottom: 1px solid gray;flex-grow: 1;}#sk-container-id-1 div.sk-label:hover label.sk-toggleable__label {background-color: #d4ebff;}#sk-container-id-1 div.sk-serial::before {content: \"\";position: absolute;border-left: 1px solid gray;box-sizing: border-box;top: 0;bottom: 0;left: 50%;z-index: 0;}#sk-container-id-1 div.sk-serial {display: flex;flex-direction: column;align-items: center;background-color: white;padding-right: 0.2em;padding-left: 0.2em;position: relative;}#sk-container-id-1 div.sk-item {position: relative;z-index: 1;}#sk-container-id-1 div.sk-parallel {display: flex;align-items: stretch;justify-content: center;background-color: white;position: relative;}#sk-container-id-1 div.sk-item::before, #sk-container-id-1 div.sk-parallel-item::before {content: \"\";position: absolute;border-left: 1px solid gray;box-sizing: border-box;top: 0;bottom: 0;left: 50%;z-index: -1;}#sk-container-id-1 div.sk-parallel-item {display: flex;flex-direction: column;z-index: 1;position: relative;background-color: white;}#sk-container-id-1 div.sk-parallel-item:first-child::after {align-self: flex-end;width: 50%;}#sk-container-id-1 div.sk-parallel-item:last-child::after {align-self: flex-start;width: 50%;}#sk-container-id-1 div.sk-parallel-item:only-child::after {width: 0;}#sk-container-id-1 div.sk-dashed-wrapped {border: 1px dashed gray;margin: 0 0.4em 0.5em 0.4em;box-sizing: border-box;padding-bottom: 0.4em;background-color: white;}#sk-container-id-1 div.sk-label label {font-family: monospace;font-weight: bold;display: inline-block;line-height: 1.2em;}#sk-container-id-1 div.sk-label-container {text-align: center;}#sk-container-id-1 div.sk-container {/* jupyter's `normalize.less` sets `[hidden] { display: none; }` but bootstrap.min.css set `[hidden] { display: none !important; }` so we also need the `!important` here to be able to override the default hidden behavior on the sphinx rendered scikit-learn.org. See: https://github.com/scikit-learn/scikit-learn/issues/21755 */display: inline-block !important;position: relative;}#sk-container-id-1 div.sk-text-repr-fallback {display: none;}</style><div id=\"sk-container-id-1\" class=\"sk-top-container\"><div class=\"sk-text-repr-fallback\"><pre>LabelEncoder()</pre><b>In a Jupyter environment, please rerun this cell to show the HTML representation or trust the notebook. <br />On GitHub, the HTML representation is unable to render, please try loading this page with nbviewer.org.</b></div><div class=\"sk-container\" hidden><div class=\"sk-item\"><div class=\"sk-estimator sk-toggleable\"><input class=\"sk-toggleable__control sk-hidden--visually\" id=\"sk-estimator-id-1\" type=\"checkbox\" checked><label for=\"sk-estimator-id-1\" class=\"sk-toggleable__label sk-toggleable__label-arrow\">LabelEncoder</label><div class=\"sk-toggleable__content\"><pre>LabelEncoder()</pre></div></div></div></div></div>"
      ],
      "text/plain": [
       "LabelEncoder()"
      ]
     },
     "execution_count": 10,
     "metadata": {},
     "output_type": "execute_result"
    }
   ],
   "source": [
    "# Create a label encoder so colors match between plots\n",
    "le = preprocessing.LabelEncoder()\n",
    "le.fit(beanSample[\"Class\"])"
   ]
  },
  {
   "cell_type": "code",
   "execution_count": 11,
   "id": "6a8086c3-fb06-4608-9ffa-ac8655f6b282",
   "metadata": {
    "execution": {
     "iopub.execute_input": "2023-07-26T13:23:37.714789Z",
     "iopub.status.busy": "2023-07-26T13:23:37.714695Z",
     "iopub.status.idle": "2023-07-26T13:23:37.718808Z",
     "shell.execute_reply": "2023-07-26T13:23:37.718570Z"
    }
   },
   "outputs": [
    {
     "data": {
      "text/html": [
       "<style>#sk-container-id-2 {color: black;background-color: white;}#sk-container-id-2 pre{padding: 0;}#sk-container-id-2 div.sk-toggleable {background-color: white;}#sk-container-id-2 label.sk-toggleable__label {cursor: pointer;display: block;width: 100%;margin-bottom: 0;padding: 0.3em;box-sizing: border-box;text-align: center;}#sk-container-id-2 label.sk-toggleable__label-arrow:before {content: \"▸\";float: left;margin-right: 0.25em;color: #696969;}#sk-container-id-2 label.sk-toggleable__label-arrow:hover:before {color: black;}#sk-container-id-2 div.sk-estimator:hover label.sk-toggleable__label-arrow:before {color: black;}#sk-container-id-2 div.sk-toggleable__content {max-height: 0;max-width: 0;overflow: hidden;text-align: left;background-color: #f0f8ff;}#sk-container-id-2 div.sk-toggleable__content pre {margin: 0.2em;color: black;border-radius: 0.25em;background-color: #f0f8ff;}#sk-container-id-2 input.sk-toggleable__control:checked~div.sk-toggleable__content {max-height: 200px;max-width: 100%;overflow: auto;}#sk-container-id-2 input.sk-toggleable__control:checked~label.sk-toggleable__label-arrow:before {content: \"▾\";}#sk-container-id-2 div.sk-estimator input.sk-toggleable__control:checked~label.sk-toggleable__label {background-color: #d4ebff;}#sk-container-id-2 div.sk-label input.sk-toggleable__control:checked~label.sk-toggleable__label {background-color: #d4ebff;}#sk-container-id-2 input.sk-hidden--visually {border: 0;clip: rect(1px 1px 1px 1px);clip: rect(1px, 1px, 1px, 1px);height: 1px;margin: -1px;overflow: hidden;padding: 0;position: absolute;width: 1px;}#sk-container-id-2 div.sk-estimator {font-family: monospace;background-color: #f0f8ff;border: 1px dotted black;border-radius: 0.25em;box-sizing: border-box;margin-bottom: 0.5em;}#sk-container-id-2 div.sk-estimator:hover {background-color: #d4ebff;}#sk-container-id-2 div.sk-parallel-item::after {content: \"\";width: 100%;border-bottom: 1px solid gray;flex-grow: 1;}#sk-container-id-2 div.sk-label:hover label.sk-toggleable__label {background-color: #d4ebff;}#sk-container-id-2 div.sk-serial::before {content: \"\";position: absolute;border-left: 1px solid gray;box-sizing: border-box;top: 0;bottom: 0;left: 50%;z-index: 0;}#sk-container-id-2 div.sk-serial {display: flex;flex-direction: column;align-items: center;background-color: white;padding-right: 0.2em;padding-left: 0.2em;position: relative;}#sk-container-id-2 div.sk-item {position: relative;z-index: 1;}#sk-container-id-2 div.sk-parallel {display: flex;align-items: stretch;justify-content: center;background-color: white;position: relative;}#sk-container-id-2 div.sk-item::before, #sk-container-id-2 div.sk-parallel-item::before {content: \"\";position: absolute;border-left: 1px solid gray;box-sizing: border-box;top: 0;bottom: 0;left: 50%;z-index: -1;}#sk-container-id-2 div.sk-parallel-item {display: flex;flex-direction: column;z-index: 1;position: relative;background-color: white;}#sk-container-id-2 div.sk-parallel-item:first-child::after {align-self: flex-end;width: 50%;}#sk-container-id-2 div.sk-parallel-item:last-child::after {align-self: flex-start;width: 50%;}#sk-container-id-2 div.sk-parallel-item:only-child::after {width: 0;}#sk-container-id-2 div.sk-dashed-wrapped {border: 1px dashed gray;margin: 0 0.4em 0.5em 0.4em;box-sizing: border-box;padding-bottom: 0.4em;background-color: white;}#sk-container-id-2 div.sk-label label {font-family: monospace;font-weight: bold;display: inline-block;line-height: 1.2em;}#sk-container-id-2 div.sk-label-container {text-align: center;}#sk-container-id-2 div.sk-container {/* jupyter's `normalize.less` sets `[hidden] { display: none; }` but bootstrap.min.css set `[hidden] { display: none !important; }` so we also need the `!important` here to be able to override the default hidden behavior on the sphinx rendered scikit-learn.org. See: https://github.com/scikit-learn/scikit-learn/issues/21755 */display: inline-block !important;position: relative;}#sk-container-id-2 div.sk-text-repr-fallback {display: none;}</style><div id=\"sk-container-id-2\" class=\"sk-top-container\"><div class=\"sk-text-repr-fallback\"><pre>KNeighborsClassifier()</pre><b>In a Jupyter environment, please rerun this cell to show the HTML representation or trust the notebook. <br />On GitHub, the HTML representation is unable to render, please try loading this page with nbviewer.org.</b></div><div class=\"sk-container\" hidden><div class=\"sk-item\"><div class=\"sk-estimator sk-toggleable\"><input class=\"sk-toggleable__control sk-hidden--visually\" id=\"sk-estimator-id-2\" type=\"checkbox\" checked><label for=\"sk-estimator-id-2\" class=\"sk-toggleable__label sk-toggleable__label-arrow\">KNeighborsClassifier</label><div class=\"sk-toggleable__content\"><pre>KNeighborsClassifier()</pre></div></div></div></div></div>"
      ],
      "text/plain": [
       "KNeighborsClassifier()"
      ]
     },
     "execution_count": 11,
     "metadata": {},
     "output_type": "execute_result"
    }
   ],
   "source": [
    "# Define input and output features\n",
    "X = beanSample[[\"MajorAxisLength\", \"MinorAxisLength\"]]\n",
    "y = beanSample[[\"Class\"]]\n",
    "\n",
    "# Fit model\n",
    "beanKnnClassifier.fit(X, np.ravel(y))"
   ]
  },
  {
   "cell_type": "code",
   "execution_count": 12,
   "id": "5761534f-7488-42f1-ac8f-f76b40f089e6",
   "metadata": {
    "execution": {
     "iopub.execute_input": "2023-07-26T13:23:37.720236Z",
     "iopub.status.busy": "2023-07-26T13:23:37.720164Z",
     "iopub.status.idle": "2023-07-26T13:23:38.171046Z",
     "shell.execute_reply": "2023-07-26T13:23:38.167733Z"
    }
   },
   "outputs": [
    {
     "name": "stderr",
     "output_type": "stream",
     "text": [
      "/Users/slauer/anaconda3/envs/py3_10/lib/python3.10/site-packages/sklearn/base.py:439: UserWarning: X does not have valid feature names, but KNeighborsClassifier was fitted with feature names\n",
      "  warnings.warn(\n"
     ]
    },
    {
     "data": {
      "image/png": "[encoded data removed]",
      "text/plain": [
       "<Figure size 800x600 with 1 Axes>"
      ]
     },
     "metadata": {},
     "output_type": "display_data"
    }
   ],
   "source": [
    "# Defined in the first cell in this section\n",
    "plot_classification_regions(X, y, beanKnnClassifier, le, with_data=False)"
   ]
  }
 ],
 "metadata": {
  "kernelspec": {
   "display_name": "base",
   "language": "python",
   "name": "python3"
  },
  "language_info": {
   "codemirror_mode": {
    "name": "ipython",
    "version": 3
   },
   "file_extension": ".py",
   "mimetype": "text/x-python",
   "name": "python",
   "nbconvert_exporter": "python",
   "pygments_lexer": "ipython3",
   "version": "3.10.12"
  },
  "vscode": {
   "interpreter": {
    "hash": "8da5f44f3c50f4b8c4de790cb93e33dd9ef9127e35d33e4e57b9ae04d20a0668"
   }
  },
  "widgets": {
   "application/vnd.jupyter.widget-state+json": {
    "state": {},
    "version_major": 2,
    "version_minor": 0
   }
  }
 },
 "nbformat": 4,
 "nbformat_minor": 5
}
