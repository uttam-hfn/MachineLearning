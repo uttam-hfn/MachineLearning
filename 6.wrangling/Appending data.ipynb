{
 "cells": [
  {
   "cell_type": "code",
   "execution_count": 1,
   "id": "e9a34cee-185e-4830-9962-b5692081f5bd",
   "metadata": {
    "execution": {
     "iopub.execute_input": "2023-07-26T13:24:33.997278Z",
     "iopub.status.busy": "2023-07-26T13:24:33.997009Z",
     "iopub.status.idle": "2023-07-26T13:24:34.307545Z",
     "shell.execute_reply": "2023-07-26T13:24:34.304468Z"
    }
   },
   "outputs": [
    {
     "data": {
      "text/html": [
       "<div>\n",
       "<style scoped>\n",
       "    .dataframe tbody tr th:only-of-type {\n",
       "        vertical-align: middle;\n",
       "    }\n",
       "\n",
       "    .dataframe tbody tr th {\n",
       "        vertical-align: top;\n",
       "    }\n",
       "\n",
       "    .dataframe thead th {\n",
       "        text-align: right;\n",
       "    }\n",
       "</style>\n",
       "<table border=\"1\" class=\"dataframe\">\n",
       "  <thead>\n",
       "    <tr style=\"text-align: right;\">\n",
       "      <th></th>\n",
       "      <th>Country</th>\n",
       "      <th>Continent</th>\n",
       "      <th>GDP</th>\n",
       "      <th>EducationYears</th>\n",
       "    </tr>\n",
       "  </thead>\n",
       "  <tbody>\n",
       "    <tr>\n",
       "      <th>0</th>\n",
       "      <td>Bangladesh</td>\n",
       "      <td>Asia</td>\n",
       "      <td>350,000,000,000</td>\n",
       "      <td>4.7</td>\n",
       "    </tr>\n",
       "    <tr>\n",
       "      <th>1</th>\n",
       "      <td>China</td>\n",
       "      <td>Asia</td>\n",
       "      <td>13,180,000,000,000</td>\n",
       "      <td>8.5</td>\n",
       "    </tr>\n",
       "    <tr>\n",
       "      <th>2</th>\n",
       "      <td>India</td>\n",
       "      <td>Asia</td>\n",
       "      <td>2,720,000,000,000</td>\n",
       "      <td>5.7</td>\n",
       "    </tr>\n",
       "    <tr>\n",
       "      <th>3</th>\n",
       "      <td>Norway</td>\n",
       "      <td>Europe</td>\n",
       "      <td>362,000,000,000</td>\n",
       "      <td>14.2</td>\n",
       "    </tr>\n",
       "    <tr>\n",
       "      <th>4</th>\n",
       "      <td>United States</td>\n",
       "      <td>North America</td>\n",
       "      <td>20,650,000,000,000</td>\n",
       "      <td>13.5</td>\n",
       "    </tr>\n",
       "  </tbody>\n",
       "</table>\n",
       "</div>"
      ],
      "text/plain": [
       "         Country      Continent                 GDP  EducationYears\n",
       "0     Bangladesh           Asia     350,000,000,000             4.7\n",
       "1          China           Asia  13,180,000,000,000             8.5\n",
       "2          India           Asia   2,720,000,000,000             5.7\n",
       "3         Norway         Europe     362,000,000,000            14.2\n",
       "4  United States  North America  20,650,000,000,000            13.5"
      ]
     },
     "execution_count": 1,
     "metadata": {},
     "output_type": "execute_result"
    }
   ],
   "source": [
    "# Import packages\n",
    "import pandas as pd\n",
    "\n",
    "# Import and display the first dataset\n",
    "appendLeft = pd.read_csv(\"appending data.left.csv\")\n",
    "appendLeft"
   ]
  },
  {
   "cell_type": "code",
   "execution_count": 2,
   "id": "a71ab5f9-9e32-4c10-bd28-26be77fc7ba1",
   "metadata": {
    "execution": {
     "iopub.execute_input": "2023-07-26T13:24:34.310930Z",
     "iopub.status.busy": "2023-07-26T13:24:34.310785Z",
     "iopub.status.idle": "2023-07-26T13:24:34.324972Z",
     "shell.execute_reply": "2023-07-26T13:24:34.323217Z"
    }
   },
   "outputs": [
    {
     "data": {
      "text/html": [
       "<div>\n",
       "<style scoped>\n",
       "    .dataframe tbody tr th:only-of-type {\n",
       "        vertical-align: middle;\n",
       "    }\n",
       "\n",
       "    .dataframe tbody tr th {\n",
       "        vertical-align: top;\n",
       "    }\n",
       "\n",
       "    .dataframe thead th {\n",
       "        text-align: right;\n",
       "    }\n",
       "</style>\n",
       "<table border=\"1\" class=\"dataframe\">\n",
       "  <thead>\n",
       "    <tr style=\"text-align: right;\">\n",
       "      <th></th>\n",
       "      <th>Country</th>\n",
       "      <th>Continent</th>\n",
       "      <th>Population</th>\n",
       "    </tr>\n",
       "  </thead>\n",
       "  <tbody>\n",
       "    <tr>\n",
       "      <th>0</th>\n",
       "      <td>Bangladesh</td>\n",
       "      <td>Asia</td>\n",
       "      <td>129,155,000</td>\n",
       "    </tr>\n",
       "    <tr>\n",
       "      <th>1</th>\n",
       "      <td>Brazil</td>\n",
       "      <td>South America</td>\n",
       "      <td>170,115,000</td>\n",
       "    </tr>\n",
       "    <tr>\n",
       "      <th>2</th>\n",
       "      <td>China</td>\n",
       "      <td>Asia</td>\n",
       "      <td>1,277,558,000</td>\n",
       "    </tr>\n",
       "    <tr>\n",
       "      <th>3</th>\n",
       "      <td>India</td>\n",
       "      <td>Asia</td>\n",
       "      <td>1,013,662,000</td>\n",
       "    </tr>\n",
       "    <tr>\n",
       "      <th>4</th>\n",
       "      <td>United States</td>\n",
       "      <td>North America</td>\n",
       "      <td>278,357,000</td>\n",
       "    </tr>\n",
       "  </tbody>\n",
       "</table>\n",
       "</div>"
      ],
      "text/plain": [
       "         Country      Continent    Population \n",
       "0     Bangladesh           Asia    129,155,000\n",
       "1         Brazil  South America    170,115,000\n",
       "2          China           Asia  1,277,558,000\n",
       "3          India           Asia  1,013,662,000\n",
       "4  United States  North America    278,357,000"
      ]
     },
     "execution_count": 2,
     "metadata": {},
     "output_type": "execute_result"
    }
   ],
   "source": [
    "# Import and display the second dataset\n",
    "appendRight = pd.read_csv(\"appending data.right.csv\")\n",
    "appendRight"
   ]
  },
  {
   "cell_type": "code",
   "execution_count": 3,
   "id": "e101eeb6-cf1a-44eb-bec8-3537261d954b",
   "metadata": {
    "execution": {
     "iopub.execute_input": "2023-07-26T13:24:34.328315Z",
     "iopub.status.busy": "2023-07-26T13:24:34.328158Z",
     "iopub.status.idle": "2023-07-26T13:24:34.334095Z",
     "shell.execute_reply": "2023-07-26T13:24:34.333824Z"
    }
   },
   "outputs": [
    {
     "data": {
      "text/html": [
       "<div>\n",
       "<style scoped>\n",
       "    .dataframe tbody tr th:only-of-type {\n",
       "        vertical-align: middle;\n",
       "    }\n",
       "\n",
       "    .dataframe tbody tr th {\n",
       "        vertical-align: top;\n",
       "    }\n",
       "\n",
       "    .dataframe thead th {\n",
       "        text-align: right;\n",
       "    }\n",
       "</style>\n",
       "<table border=\"1\" class=\"dataframe\">\n",
       "  <thead>\n",
       "    <tr style=\"text-align: right;\">\n",
       "      <th></th>\n",
       "      <th>Country</th>\n",
       "      <th>Continent</th>\n",
       "      <th>GDP</th>\n",
       "      <th>EducationYears</th>\n",
       "      <th>Population</th>\n",
       "    </tr>\n",
       "  </thead>\n",
       "  <tbody>\n",
       "    <tr>\n",
       "      <th>0</th>\n",
       "      <td>Bangladesh</td>\n",
       "      <td>Asia</td>\n",
       "      <td>350,000,000,000</td>\n",
       "      <td>4.7</td>\n",
       "      <td>129,155,000</td>\n",
       "    </tr>\n",
       "    <tr>\n",
       "      <th>1</th>\n",
       "      <td>Brazil</td>\n",
       "      <td>South America</td>\n",
       "      <td>NaN</td>\n",
       "      <td>NaN</td>\n",
       "      <td>170,115,000</td>\n",
       "    </tr>\n",
       "    <tr>\n",
       "      <th>2</th>\n",
       "      <td>China</td>\n",
       "      <td>Asia</td>\n",
       "      <td>13,180,000,000,000</td>\n",
       "      <td>8.5</td>\n",
       "      <td>1,277,558,000</td>\n",
       "    </tr>\n",
       "    <tr>\n",
       "      <th>3</th>\n",
       "      <td>India</td>\n",
       "      <td>Asia</td>\n",
       "      <td>2,720,000,000,000</td>\n",
       "      <td>5.7</td>\n",
       "      <td>1,013,662,000</td>\n",
       "    </tr>\n",
       "    <tr>\n",
       "      <th>4</th>\n",
       "      <td>Norway</td>\n",
       "      <td>Europe</td>\n",
       "      <td>362,000,000,000</td>\n",
       "      <td>14.2</td>\n",
       "      <td>NaN</td>\n",
       "    </tr>\n",
       "    <tr>\n",
       "      <th>5</th>\n",
       "      <td>United States</td>\n",
       "      <td>North America</td>\n",
       "      <td>20,650,000,000,000</td>\n",
       "      <td>13.5</td>\n",
       "      <td>278,357,000</td>\n",
       "    </tr>\n",
       "  </tbody>\n",
       "</table>\n",
       "</div>"
      ],
      "text/plain": [
       "         Country      Continent                 GDP  EducationYears  \\\n",
       "0     Bangladesh           Asia     350,000,000,000             4.7   \n",
       "1         Brazil  South America                 NaN             NaN   \n",
       "2          China           Asia  13,180,000,000,000             8.5   \n",
       "3          India           Asia   2,720,000,000,000             5.7   \n",
       "4         Norway         Europe     362,000,000,000            14.2   \n",
       "5  United States  North America  20,650,000,000,000            13.5   \n",
       "\n",
       "     Population   \n",
       "0    129,155,000  \n",
       "1    170,115,000  \n",
       "2  1,277,558,000  \n",
       "3  1,013,662,000  \n",
       "4            NaN  \n",
       "5    278,357,000  "
      ]
     },
     "execution_count": 3,
     "metadata": {},
     "output_type": "execute_result"
    }
   ],
   "source": [
    "# Join the first and second datasets.\n",
    "# Sort the result along join columns.\n",
    "appendLeft.merge(appendRight, how='outer', sort=True)"
   ]
  }
 ],
 "metadata": {
  "kernelspec": {
   "display_name": "Python 3 (ipykernel)",
   "language": "python",
   "name": "python3"
  },
  "language_info": {
   "codemirror_mode": {
    "name": "ipython",
    "version": 3
   },
   "file_extension": ".py",
   "mimetype": "text/x-python",
   "name": "python",
   "nbconvert_exporter": "python",
   "pygments_lexer": "ipython3",
   "version": "3.10.12"
  },
  "widgets": {
   "application/vnd.jupyter.widget-state+json": {
    "state": {},
    "version_major": 2,
    "version_minor": 0
   }
  }
 },
 "nbformat": 4,
 "nbformat_minor": 5
}
