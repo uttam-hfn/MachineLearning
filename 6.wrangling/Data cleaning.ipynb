{
 "cells": [
  {
   "cell_type": "code",
   "execution_count": 1,
   "id": "b4c04818-070e-4556-8724-9e1147a9a699",
   "metadata": {
    "execution": {
     "iopub.execute_input": "2023-07-26T13:24:32.657525Z",
     "iopub.status.busy": "2023-07-26T13:24:32.656950Z",
     "iopub.status.idle": "2023-07-26T13:24:32.958921Z",
     "shell.execute_reply": "2023-07-26T13:24:32.958577Z"
    }
   },
   "outputs": [],
   "source": [
    "# Import packages\n",
    "import pandas as pd\n",
    "\n",
    "# Import dataset\n",
    "auto = pd.read_csv(\"autodata.csv\")\n",
    "# Display auto"
   ]
  },
  {
   "cell_type": "code",
   "execution_count": 2,
   "id": "a0b8e7a3-6d6d-4507-986c-79e698506f46",
   "metadata": {
    "execution": {
     "iopub.execute_input": "2023-07-26T13:24:32.961103Z",
     "iopub.status.busy": "2023-07-26T13:24:32.960779Z",
     "iopub.status.idle": "2023-07-26T13:24:32.965990Z",
     "shell.execute_reply": "2023-07-26T13:24:32.965625Z"
    }
   },
   "outputs": [],
   "source": [
    "# Remove duplicates from dataset\n",
    "auto.drop_duplicates(inplace=True)\n",
    "# Display auto"
   ]
  },
  {
   "cell_type": "code",
   "execution_count": 3,
   "id": "fc949543-5450-4426-abf1-86c73bbaddd0",
   "metadata": {
    "execution": {
     "iopub.execute_input": "2023-07-26T13:24:32.967491Z",
     "iopub.status.busy": "2023-07-26T13:24:32.967394Z",
     "iopub.status.idle": "2023-07-26T13:24:32.971113Z",
     "shell.execute_reply": "2023-07-26T13:24:32.970864Z"
    }
   },
   "outputs": [],
   "source": [
    "# Remove rows with missing values for both Cylinders and Liters\n",
    "auto.dropna(subset=['Cylinders', 'Liters'], how='all', inplace=True)\n",
    "# Display auto"
   ]
  },
  {
   "cell_type": "code",
   "execution_count": 4,
   "id": "d80a9536-4bcf-45e8-b15d-4bb48b91bc7d",
   "metadata": {
    "execution": {
     "iopub.execute_input": "2023-07-26T13:24:32.972466Z",
     "iopub.status.busy": "2023-07-26T13:24:32.972390Z",
     "iopub.status.idle": "2023-07-26T13:24:32.975613Z",
     "shell.execute_reply": "2023-07-26T13:24:32.975361Z"
    }
   },
   "outputs": [],
   "source": [
    "# Compute mean values of numeric features\n",
    "mean = auto.mean(numeric_only=True)\n",
    "auto.fillna(value=mean, inplace=True)\n",
    "# Display auto"
   ]
  }
 ],
 "metadata": {
  "kernelspec": {
   "display_name": "Python 3.9.15 ('base')",
   "language": "python",
   "name": "python3"
  },
  "language_info": {
   "codemirror_mode": {
    "name": "ipython",
    "version": 3
   },
   "file_extension": ".py",
   "mimetype": "text/x-python",
   "name": "python",
   "nbconvert_exporter": "python",
   "pygments_lexer": "ipython3",
   "version": "3.10.12"
  },
  "vscode": {
   "interpreter": {
    "hash": "8da5f44f3c50f4b8c4de790cb93e33dd9ef9127e35d33e4e57b9ae04d20a0668"
   }
  },
  "widgets": {
   "application/vnd.jupyter.widget-state+json": {
    "state": {},
    "version_major": 2,
    "version_minor": 0
   }
  }
 },
 "nbformat": 4,
 "nbformat_minor": 5
}
