{
 "cells": [
  {
   "cell_type": "code",
   "execution_count": 1,
   "id": "4007c0d0-a8b8-4d6d-8e36-3e56d572a040",
   "metadata": {
    "execution": {
     "iopub.execute_input": "2023-07-26T13:24:31.141177Z",
     "iopub.status.busy": "2023-07-26T13:24:31.140524Z",
     "iopub.status.idle": "2023-07-26T13:24:31.644278Z",
     "shell.execute_reply": "2023-07-26T13:24:31.643885Z"
    }
   },
   "outputs": [
    {
     "data": {
      "text/html": [
       "<div>\n",
       "<style scoped>\n",
       "    .dataframe tbody tr th:only-of-type {\n",
       "        vertical-align: middle;\n",
       "    }\n",
       "\n",
       "    .dataframe tbody tr th {\n",
       "        vertical-align: top;\n",
       "    }\n",
       "\n",
       "    .dataframe thead th {\n",
       "        text-align: right;\n",
       "    }\n",
       "</style>\n",
       "<table border=\"1\" class=\"dataframe\">\n",
       "  <thead>\n",
       "    <tr style=\"text-align: right;\">\n",
       "      <th></th>\n",
       "      <th>Price</th>\n",
       "      <th>Age</th>\n",
       "    </tr>\n",
       "  </thead>\n",
       "  <tbody>\n",
       "    <tr>\n",
       "      <th>0</th>\n",
       "      <td>90300</td>\n",
       "      <td>14</td>\n",
       "    </tr>\n",
       "    <tr>\n",
       "      <th>1</th>\n",
       "      <td>150500</td>\n",
       "      <td>27</td>\n",
       "    </tr>\n",
       "    <tr>\n",
       "      <th>2</th>\n",
       "      <td>269500</td>\n",
       "      <td>22</td>\n",
       "    </tr>\n",
       "    <tr>\n",
       "      <th>3</th>\n",
       "      <td>98000</td>\n",
       "      <td>15</td>\n",
       "    </tr>\n",
       "    <tr>\n",
       "      <th>4</th>\n",
       "      <td>244650</td>\n",
       "      <td>28</td>\n",
       "    </tr>\n",
       "  </tbody>\n",
       "</table>\n",
       "</div>"
      ],
      "text/plain": [
       "    Price  Age\n",
       "0   90300   14\n",
       "1  150500   27\n",
       "2  269500   22\n",
       "3   98000   15\n",
       "4  244650   28"
      ]
     },
     "execution_count": 1,
     "metadata": {},
     "output_type": "execute_result"
    }
   ],
   "source": [
    "# Import packages\n",
    "import pandas as pd\n",
    "from sklearn import preprocessing\n",
    "\n",
    "# Import data into 'original'\n",
    "original = pd.read_csv('featurescaling.csv')\n",
    "\n",
    "original"
   ]
  },
  {
   "cell_type": "code",
   "execution_count": 2,
   "id": "f79777ec-19ff-4ac5-8b1c-46dcfaeeca16",
   "metadata": {
    "execution": {
     "iopub.execute_input": "2023-07-26T13:24:31.646044Z",
     "iopub.status.busy": "2023-07-26T13:24:31.645835Z",
     "iopub.status.idle": "2023-07-26T13:24:31.648665Z",
     "shell.execute_reply": "2023-07-26T13:24:31.648437Z"
    }
   },
   "outputs": [],
   "source": [
    "# Standardize dataframe and return as an array\n",
    "standardizedArray = preprocessing.scale(original)\n",
    "\n",
    "# Convert standardized array to dataframe 'standardized'\n",
    "standardized = pd.DataFrame(standardizedArray, columns=[\"Price\", \"Age\"])"
   ]
  },
  {
   "cell_type": "code",
   "execution_count": 3,
   "id": "bd6ccaf6-91ad-4cb9-9218-0a4044087196",
   "metadata": {
    "execution": {
     "iopub.execute_input": "2023-07-26T13:24:31.650099Z",
     "iopub.status.busy": "2023-07-26T13:24:31.650000Z",
     "iopub.status.idle": "2023-07-26T13:24:31.651505Z",
     "shell.execute_reply": "2023-07-26T13:24:31.651279Z"
    }
   },
   "outputs": [],
   "source": [
    "# Verify that standardized contains the expected values\n"
   ]
  },
  {
   "cell_type": "code",
   "execution_count": 4,
   "id": "19cd2cb1-3cbc-476e-bec3-0b2e37747269",
   "metadata": {
    "execution": {
     "iopub.execute_input": "2023-07-26T13:24:31.652844Z",
     "iopub.status.busy": "2023-07-26T13:24:31.652774Z",
     "iopub.status.idle": "2023-07-26T13:24:31.655188Z",
     "shell.execute_reply": "2023-07-26T13:24:31.654966Z"
    }
   },
   "outputs": [],
   "source": [
    "# Normalize dataframe and return as an array\n",
    "normalizedArray = preprocessing.MinMaxScaler().fit_transform(original)\n",
    "\n",
    "# Convert normalized array to dataframe 'normalized'\n",
    "normalized = pd.DataFrame(normalizedArray, columns=[\"Price\", \"Age\"])"
   ]
  },
  {
   "cell_type": "code",
   "execution_count": 5,
   "id": "f307939c-3e17-48a8-9b41-fcc95bf341c3",
   "metadata": {
    "execution": {
     "iopub.execute_input": "2023-07-26T13:24:31.656488Z",
     "iopub.status.busy": "2023-07-26T13:24:31.656399Z",
     "iopub.status.idle": "2023-07-26T13:24:31.657945Z",
     "shell.execute_reply": "2023-07-26T13:24:31.657691Z"
    }
   },
   "outputs": [],
   "source": [
    "# Verify that normalized contains the expected values\n"
   ]
  }
 ],
 "metadata": {
  "kernelspec": {
   "display_name": "Python 3 (ipykernel)",
   "language": "python",
   "name": "python3"
  },
  "language_info": {
   "codemirror_mode": {
    "name": "ipython",
    "version": 3
   },
   "file_extension": ".py",
   "mimetype": "text/x-python",
   "name": "python",
   "nbconvert_exporter": "python",
   "pygments_lexer": "ipython3",
   "version": "3.10.12"
  },
  "widgets": {
   "application/vnd.jupyter.widget-state+json": {
    "state": {},
    "version_major": 2,
    "version_minor": 0
   }
  }
 },
 "nbformat": 4,
 "nbformat_minor": 5
}
