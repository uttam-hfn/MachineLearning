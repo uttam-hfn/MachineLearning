{
 "cells": [
  {
   "cell_type": "code",
   "execution_count": 1,
   "id": "46386dfe-bd97-47d3-9b21-ebfc320e02f0",
   "metadata": {
    "execution": {
     "iopub.execute_input": "2023-07-26T13:25:20.676506Z",
     "iopub.status.busy": "2023-07-26T13:25:20.675763Z",
     "iopub.status.idle": "2023-07-26T13:25:21.481636Z",
     "shell.execute_reply": "2023-07-26T13:25:21.481306Z"
    }
   },
   "outputs": [],
   "source": [
    "# Import packages\n",
    "import pandas as pd\n",
    "import seaborn as sns\n",
    "import matplotlib.pyplot as plt"
   ]
  },
  {
   "cell_type": "code",
   "execution_count": 2,
   "id": "84660009-92fc-4add-afb1-efe888a835d6",
   "metadata": {
    "execution": {
     "iopub.execute_input": "2023-07-26T13:25:21.483422Z",
     "iopub.status.busy": "2023-07-26T13:25:21.483229Z",
     "iopub.status.idle": "2023-07-26T13:25:21.492446Z",
     "shell.execute_reply": "2023-07-26T13:25:21.492218Z"
    }
   },
   "outputs": [
    {
     "data": {
      "text/html": [
       "<div>\n",
       "<style scoped>\n",
       "    .dataframe tbody tr th:only-of-type {\n",
       "        vertical-align: middle;\n",
       "    }\n",
       "\n",
       "    .dataframe tbody tr th {\n",
       "        vertical-align: top;\n",
       "    }\n",
       "\n",
       "    .dataframe thead th {\n",
       "        text-align: right;\n",
       "    }\n",
       "</style>\n",
       "<table border=\"1\" class=\"dataframe\">\n",
       "  <thead>\n",
       "    <tr style=\"text-align: right;\">\n",
       "      <th></th>\n",
       "      <th>Country</th>\n",
       "      <th>Continent</th>\n",
       "      <th>Years</th>\n",
       "      <th>Internet access</th>\n",
       "      <th>Emissions range</th>\n",
       "      <th>Fertility</th>\n",
       "      <th>Emissions</th>\n",
       "      <th>Internet</th>\n",
       "    </tr>\n",
       "  </thead>\n",
       "  <tbody>\n",
       "    <tr>\n",
       "      <th>0</th>\n",
       "      <td>Afghanistan</td>\n",
       "      <td>Asia</td>\n",
       "      <td>3.8</td>\n",
       "      <td>Low</td>\n",
       "      <td>Low</td>\n",
       "      <td>4.33</td>\n",
       "      <td>0.254</td>\n",
       "      <td>16.8</td>\n",
       "    </tr>\n",
       "    <tr>\n",
       "      <th>1</th>\n",
       "      <td>Albania</td>\n",
       "      <td>Europe</td>\n",
       "      <td>10.0</td>\n",
       "      <td>Moderate</td>\n",
       "      <td>Low</td>\n",
       "      <td>1.71</td>\n",
       "      <td>1.590</td>\n",
       "      <td>65.4</td>\n",
       "    </tr>\n",
       "    <tr>\n",
       "      <th>2</th>\n",
       "      <td>Algeria</td>\n",
       "      <td>Africa</td>\n",
       "      <td>8.0</td>\n",
       "      <td>Low</td>\n",
       "      <td>Moderate</td>\n",
       "      <td>2.64</td>\n",
       "      <td>3.690</td>\n",
       "      <td>49.0</td>\n",
       "    </tr>\n",
       "    <tr>\n",
       "      <th>3</th>\n",
       "      <td>Angola</td>\n",
       "      <td>Africa</td>\n",
       "      <td>5.1</td>\n",
       "      <td>Low</td>\n",
       "      <td>Low</td>\n",
       "      <td>5.55</td>\n",
       "      <td>1.120</td>\n",
       "      <td>29.0</td>\n",
       "    </tr>\n",
       "    <tr>\n",
       "      <th>4</th>\n",
       "      <td>Argentina</td>\n",
       "      <td>Americas</td>\n",
       "      <td>9.9</td>\n",
       "      <td>High</td>\n",
       "      <td>Moderate</td>\n",
       "      <td>2.26</td>\n",
       "      <td>4.410</td>\n",
       "      <td>77.7</td>\n",
       "    </tr>\n",
       "    <tr>\n",
       "      <th>...</th>\n",
       "      <td>...</td>\n",
       "      <td>...</td>\n",
       "      <td>...</td>\n",
       "      <td>...</td>\n",
       "      <td>...</td>\n",
       "      <td>...</td>\n",
       "      <td>...</td>\n",
       "      <td>...</td>\n",
       "    </tr>\n",
       "    <tr>\n",
       "      <th>146</th>\n",
       "      <td>Uruguay</td>\n",
       "      <td>Americas</td>\n",
       "      <td>8.7</td>\n",
       "      <td>High</td>\n",
       "      <td>Moderate</td>\n",
       "      <td>1.97</td>\n",
       "      <td>2.010</td>\n",
       "      <td>80.7</td>\n",
       "    </tr>\n",
       "    <tr>\n",
       "      <th>147</th>\n",
       "      <td>Uzbekistan</td>\n",
       "      <td>Asia</td>\n",
       "      <td>11.5</td>\n",
       "      <td>Moderate</td>\n",
       "      <td>Moderate</td>\n",
       "      <td>2.23</td>\n",
       "      <td>2.810</td>\n",
       "      <td>55.2</td>\n",
       "    </tr>\n",
       "    <tr>\n",
       "      <th>148</th>\n",
       "      <td>Vietnam</td>\n",
       "      <td>Asia</td>\n",
       "      <td>8.2</td>\n",
       "      <td>Moderate</td>\n",
       "      <td>Moderate</td>\n",
       "      <td>1.95</td>\n",
       "      <td>2.160</td>\n",
       "      <td>69.8</td>\n",
       "    </tr>\n",
       "    <tr>\n",
       "      <th>149</th>\n",
       "      <td>Zambia</td>\n",
       "      <td>Africa</td>\n",
       "      <td>7.0</td>\n",
       "      <td>Low</td>\n",
       "      <td>Low</td>\n",
       "      <td>4.87</td>\n",
       "      <td>0.302</td>\n",
       "      <td>14.3</td>\n",
       "    </tr>\n",
       "    <tr>\n",
       "      <th>150</th>\n",
       "      <td>Zimbabwe</td>\n",
       "      <td>Africa</td>\n",
       "      <td>8.2</td>\n",
       "      <td>Low</td>\n",
       "      <td>Low</td>\n",
       "      <td>3.61</td>\n",
       "      <td>0.850</td>\n",
       "      <td>25.0</td>\n",
       "    </tr>\n",
       "  </tbody>\n",
       "</table>\n",
       "<p>151 rows × 8 columns</p>\n",
       "</div>"
      ],
      "text/plain": [
       "         Country Continent  Years Internet access Emissions range  Fertility  \\\n",
       "0    Afghanistan      Asia    3.8             Low             Low       4.33   \n",
       "1        Albania    Europe   10.0        Moderate             Low       1.71   \n",
       "2        Algeria    Africa    8.0             Low        Moderate       2.64   \n",
       "3         Angola    Africa    5.1             Low             Low       5.55   \n",
       "4      Argentina  Americas    9.9            High        Moderate       2.26   \n",
       "..           ...       ...    ...             ...             ...        ...   \n",
       "146      Uruguay  Americas    8.7            High        Moderate       1.97   \n",
       "147   Uzbekistan      Asia   11.5        Moderate        Moderate       2.23   \n",
       "148      Vietnam      Asia    8.2        Moderate        Moderate       1.95   \n",
       "149       Zambia    Africa    7.0             Low             Low       4.87   \n",
       "150     Zimbabwe    Africa    8.2             Low             Low       3.61   \n",
       "\n",
       "     Emissions  Internet  \n",
       "0        0.254      16.8  \n",
       "1        1.590      65.4  \n",
       "2        3.690      49.0  \n",
       "3        1.120      29.0  \n",
       "4        4.410      77.7  \n",
       "..         ...       ...  \n",
       "146      2.010      80.7  \n",
       "147      2.810      55.2  \n",
       "148      2.160      69.8  \n",
       "149      0.302      14.3  \n",
       "150      0.850      25.0  \n",
       "\n",
       "[151 rows x 8 columns]"
      ]
     },
     "execution_count": 2,
     "metadata": {},
     "output_type": "execute_result"
    }
   ],
   "source": [
    "# Load dataset\n",
    "country = pd.read_csv('country_complete.csv')\n",
    "country"
   ]
  },
  {
   "cell_type": "code",
   "execution_count": 3,
   "id": "fa61671d-dbf3-4b12-bada-6ac49bc56504",
   "metadata": {
    "execution": {
     "iopub.execute_input": "2023-07-26T13:25:21.493814Z",
     "iopub.status.busy": "2023-07-26T13:25:21.493737Z",
     "iopub.status.idle": "2023-07-26T13:25:21.652378Z",
     "shell.execute_reply": "2023-07-26T13:25:21.650973Z"
    }
   },
   "outputs": [
    {
     "data": {
      "text/plain": [
       "<Axes: xlabel='Continent', ylabel='Count'>"
      ]
     },
     "execution_count": 3,
     "metadata": {},
     "output_type": "execute_result"
    },
    {
     "data": {
      "image/png": "[encoded data removed]",
      "text/plain": [
       "<Figure size 640x480 with 1 Axes>"
      ]
     },
     "metadata": {},
     "output_type": "display_data"
    }
   ],
   "source": [
    "# Create a barplot for the number of countries in each continent using histplot\n",
    "sns.histplot(x='Continent', data=country, shrink=0.8)"
   ]
  },
  {
   "cell_type": "code",
   "execution_count": 4,
   "id": "dc6927a6-c05a-413c-aa44-383c2238d4db",
   "metadata": {
    "execution": {
     "iopub.execute_input": "2023-07-26T13:25:21.664439Z",
     "iopub.status.busy": "2023-07-26T13:25:21.663463Z",
     "iopub.status.idle": "2023-07-26T13:25:21.761547Z",
     "shell.execute_reply": "2023-07-26T13:25:21.760891Z"
    }
   },
   "outputs": [
    {
     "data": {
      "text/plain": [
       "Text(0, 0.5, 'Count')"
      ]
     },
     "execution_count": 4,
     "metadata": {},
     "output_type": "execute_result"
    },
    {
     "data": {
      "image/png": "[encoded data removed]",
      "text/plain": [
       "<Figure size 640x480 with 1 Axes>"
      ]
     },
     "metadata": {},
     "output_type": "display_data"
    }
   ],
   "source": [
    "# Create a barplot for the number of countries in each continent using countplot\n",
    "sns.countplot(x='Continent', data=country)\n",
    "plt.ylabel(\"Count\")"
   ]
  }
 ],
 "metadata": {
  "kernelspec": {
   "display_name": "Python 3.9.10 64-bit",
   "language": "python",
   "name": "python3"
  },
  "language_info": {
   "codemirror_mode": {
    "name": "ipython",
    "version": 3
   },
   "file_extension": ".py",
   "mimetype": "text/x-python",
   "name": "python",
   "nbconvert_exporter": "python",
   "pygments_lexer": "ipython3",
   "version": "3.10.12"
  },
  "vscode": {
   "interpreter": {
    "hash": "c56527485b7c9dd36c8c8808345694ae9d0a642c0f00dfb6356f9a65494ceb50"
   }
  }
 },
 "nbformat": 4,
 "nbformat_minor": 5
}
