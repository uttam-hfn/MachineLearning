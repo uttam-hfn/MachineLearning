{
 "cells": [
  {
   "cell_type": "code",
   "execution_count": 1,
   "id": "b6eb933d-f981-4d3c-a2d2-06df74d62d87",
   "metadata": {
    "execution": {
     "iopub.execute_input": "2023-07-26T13:26:02.968507Z",
     "iopub.status.busy": "2023-07-26T13:26:02.967365Z",
     "iopub.status.idle": "2023-07-26T13:26:03.658259Z",
     "shell.execute_reply": "2023-07-26T13:26:03.657910Z"
    }
   },
   "outputs": [],
   "source": [
    "# Import packages\n",
    "import pandas as pd\n",
    "import numpy as np\n",
    "import matplotlib.pyplot as plt\n",
    "from sklearn.linear_model import LogisticRegression"
   ]
  },
  {
   "cell_type": "code",
   "execution_count": 2,
   "id": "8bc7029f-b8d2-4692-9abb-c36a8aadd887",
   "metadata": {
    "execution": {
     "iopub.execute_input": "2023-07-26T13:26:03.660425Z",
     "iopub.status.busy": "2023-07-26T13:26:03.660107Z",
     "iopub.status.idle": "2023-07-26T13:26:03.679239Z",
     "shell.execute_reply": "2023-07-26T13:26:03.678840Z"
    }
   },
   "outputs": [
    {
     "data": {
      "text/html": [
       "<div>\n",
       "<style scoped>\n",
       "    .dataframe tbody tr th:only-of-type {\n",
       "        vertical-align: middle;\n",
       "    }\n",
       "\n",
       "    .dataframe tbody tr th {\n",
       "        vertical-align: top;\n",
       "    }\n",
       "\n",
       "    .dataframe thead th {\n",
       "        text-align: right;\n",
       "    }\n",
       "</style>\n",
       "<table border=\"1\" class=\"dataframe\">\n",
       "  <thead>\n",
       "    <tr style=\"text-align: right;\">\n",
       "      <th></th>\n",
       "      <th>ID</th>\n",
       "      <th>Diagnosis</th>\n",
       "      <th>Radius mean</th>\n",
       "      <th>Texture mean</th>\n",
       "      <th>Perimeter mean</th>\n",
       "      <th>Area mean</th>\n",
       "      <th>Smoothness mean</th>\n",
       "      <th>Compactness mean</th>\n",
       "      <th>Concavity mean</th>\n",
       "      <th>Concave points mean</th>\n",
       "      <th>...</th>\n",
       "      <th>Radius worst</th>\n",
       "      <th>Texture worst</th>\n",
       "      <th>Perimeter worst</th>\n",
       "      <th>Area worst</th>\n",
       "      <th>Smoothness worst</th>\n",
       "      <th>Compactness worst</th>\n",
       "      <th>Concavity worst</th>\n",
       "      <th>Concave points worst</th>\n",
       "      <th>Symmetry worst</th>\n",
       "      <th>Fractal dimension worst</th>\n",
       "    </tr>\n",
       "  </thead>\n",
       "  <tbody>\n",
       "    <tr>\n",
       "      <th>0</th>\n",
       "      <td>842302</td>\n",
       "      <td>1</td>\n",
       "      <td>17.99</td>\n",
       "      <td>10.38</td>\n",
       "      <td>122.80</td>\n",
       "      <td>1001.0</td>\n",
       "      <td>0.11840</td>\n",
       "      <td>0.27760</td>\n",
       "      <td>0.30010</td>\n",
       "      <td>0.14710</td>\n",
       "      <td>...</td>\n",
       "      <td>25.380</td>\n",
       "      <td>17.33</td>\n",
       "      <td>184.60</td>\n",
       "      <td>2019.0</td>\n",
       "      <td>0.16220</td>\n",
       "      <td>0.66560</td>\n",
       "      <td>0.7119</td>\n",
       "      <td>0.2654</td>\n",
       "      <td>0.4601</td>\n",
       "      <td>0.11890</td>\n",
       "    </tr>\n",
       "    <tr>\n",
       "      <th>1</th>\n",
       "      <td>842517</td>\n",
       "      <td>1</td>\n",
       "      <td>20.57</td>\n",
       "      <td>17.77</td>\n",
       "      <td>132.90</td>\n",
       "      <td>1326.0</td>\n",
       "      <td>0.08474</td>\n",
       "      <td>0.07864</td>\n",
       "      <td>0.08690</td>\n",
       "      <td>0.07017</td>\n",
       "      <td>...</td>\n",
       "      <td>24.990</td>\n",
       "      <td>23.41</td>\n",
       "      <td>158.80</td>\n",
       "      <td>1956.0</td>\n",
       "      <td>0.12380</td>\n",
       "      <td>0.18660</td>\n",
       "      <td>0.2416</td>\n",
       "      <td>0.1860</td>\n",
       "      <td>0.2750</td>\n",
       "      <td>0.08902</td>\n",
       "    </tr>\n",
       "    <tr>\n",
       "      <th>2</th>\n",
       "      <td>84300903</td>\n",
       "      <td>1</td>\n",
       "      <td>19.69</td>\n",
       "      <td>21.25</td>\n",
       "      <td>130.00</td>\n",
       "      <td>1203.0</td>\n",
       "      <td>0.10960</td>\n",
       "      <td>0.15990</td>\n",
       "      <td>0.19740</td>\n",
       "      <td>0.12790</td>\n",
       "      <td>...</td>\n",
       "      <td>23.570</td>\n",
       "      <td>25.53</td>\n",
       "      <td>152.50</td>\n",
       "      <td>1709.0</td>\n",
       "      <td>0.14440</td>\n",
       "      <td>0.42450</td>\n",
       "      <td>0.4504</td>\n",
       "      <td>0.2430</td>\n",
       "      <td>0.3613</td>\n",
       "      <td>0.08758</td>\n",
       "    </tr>\n",
       "    <tr>\n",
       "      <th>3</th>\n",
       "      <td>84348301</td>\n",
       "      <td>1</td>\n",
       "      <td>11.42</td>\n",
       "      <td>20.38</td>\n",
       "      <td>77.58</td>\n",
       "      <td>386.1</td>\n",
       "      <td>0.14250</td>\n",
       "      <td>0.28390</td>\n",
       "      <td>0.24140</td>\n",
       "      <td>0.10520</td>\n",
       "      <td>...</td>\n",
       "      <td>14.910</td>\n",
       "      <td>26.50</td>\n",
       "      <td>98.87</td>\n",
       "      <td>567.7</td>\n",
       "      <td>0.20980</td>\n",
       "      <td>0.86630</td>\n",
       "      <td>0.6869</td>\n",
       "      <td>0.2575</td>\n",
       "      <td>0.6638</td>\n",
       "      <td>0.17300</td>\n",
       "    </tr>\n",
       "    <tr>\n",
       "      <th>4</th>\n",
       "      <td>84358402</td>\n",
       "      <td>1</td>\n",
       "      <td>20.29</td>\n",
       "      <td>14.34</td>\n",
       "      <td>135.10</td>\n",
       "      <td>1297.0</td>\n",
       "      <td>0.10030</td>\n",
       "      <td>0.13280</td>\n",
       "      <td>0.19800</td>\n",
       "      <td>0.10430</td>\n",
       "      <td>...</td>\n",
       "      <td>22.540</td>\n",
       "      <td>16.67</td>\n",
       "      <td>152.20</td>\n",
       "      <td>1575.0</td>\n",
       "      <td>0.13740</td>\n",
       "      <td>0.20500</td>\n",
       "      <td>0.4000</td>\n",
       "      <td>0.1625</td>\n",
       "      <td>0.2364</td>\n",
       "      <td>0.07678</td>\n",
       "    </tr>\n",
       "    <tr>\n",
       "      <th>...</th>\n",
       "      <td>...</td>\n",
       "      <td>...</td>\n",
       "      <td>...</td>\n",
       "      <td>...</td>\n",
       "      <td>...</td>\n",
       "      <td>...</td>\n",
       "      <td>...</td>\n",
       "      <td>...</td>\n",
       "      <td>...</td>\n",
       "      <td>...</td>\n",
       "      <td>...</td>\n",
       "      <td>...</td>\n",
       "      <td>...</td>\n",
       "      <td>...</td>\n",
       "      <td>...</td>\n",
       "      <td>...</td>\n",
       "      <td>...</td>\n",
       "      <td>...</td>\n",
       "      <td>...</td>\n",
       "      <td>...</td>\n",
       "      <td>...</td>\n",
       "    </tr>\n",
       "    <tr>\n",
       "      <th>564</th>\n",
       "      <td>926424</td>\n",
       "      <td>1</td>\n",
       "      <td>21.56</td>\n",
       "      <td>22.39</td>\n",
       "      <td>142.00</td>\n",
       "      <td>1479.0</td>\n",
       "      <td>0.11100</td>\n",
       "      <td>0.11590</td>\n",
       "      <td>0.24390</td>\n",
       "      <td>0.13890</td>\n",
       "      <td>...</td>\n",
       "      <td>25.450</td>\n",
       "      <td>26.40</td>\n",
       "      <td>166.10</td>\n",
       "      <td>2027.0</td>\n",
       "      <td>0.14100</td>\n",
       "      <td>0.21130</td>\n",
       "      <td>0.4107</td>\n",
       "      <td>0.2216</td>\n",
       "      <td>0.2060</td>\n",
       "      <td>0.07115</td>\n",
       "    </tr>\n",
       "    <tr>\n",
       "      <th>565</th>\n",
       "      <td>926682</td>\n",
       "      <td>1</td>\n",
       "      <td>20.13</td>\n",
       "      <td>28.25</td>\n",
       "      <td>131.20</td>\n",
       "      <td>1261.0</td>\n",
       "      <td>0.09780</td>\n",
       "      <td>0.10340</td>\n",
       "      <td>0.14400</td>\n",
       "      <td>0.09791</td>\n",
       "      <td>...</td>\n",
       "      <td>23.690</td>\n",
       "      <td>38.25</td>\n",
       "      <td>155.00</td>\n",
       "      <td>1731.0</td>\n",
       "      <td>0.11660</td>\n",
       "      <td>0.19220</td>\n",
       "      <td>0.3215</td>\n",
       "      <td>0.1628</td>\n",
       "      <td>0.2572</td>\n",
       "      <td>0.06637</td>\n",
       "    </tr>\n",
       "    <tr>\n",
       "      <th>566</th>\n",
       "      <td>926954</td>\n",
       "      <td>1</td>\n",
       "      <td>16.60</td>\n",
       "      <td>28.08</td>\n",
       "      <td>108.30</td>\n",
       "      <td>858.1</td>\n",
       "      <td>0.08455</td>\n",
       "      <td>0.10230</td>\n",
       "      <td>0.09251</td>\n",
       "      <td>0.05302</td>\n",
       "      <td>...</td>\n",
       "      <td>18.980</td>\n",
       "      <td>34.12</td>\n",
       "      <td>126.70</td>\n",
       "      <td>1124.0</td>\n",
       "      <td>0.11390</td>\n",
       "      <td>0.30940</td>\n",
       "      <td>0.3403</td>\n",
       "      <td>0.1418</td>\n",
       "      <td>0.2218</td>\n",
       "      <td>0.07820</td>\n",
       "    </tr>\n",
       "    <tr>\n",
       "      <th>567</th>\n",
       "      <td>927241</td>\n",
       "      <td>1</td>\n",
       "      <td>20.60</td>\n",
       "      <td>29.33</td>\n",
       "      <td>140.10</td>\n",
       "      <td>1265.0</td>\n",
       "      <td>0.11780</td>\n",
       "      <td>0.27700</td>\n",
       "      <td>0.35140</td>\n",
       "      <td>0.15200</td>\n",
       "      <td>...</td>\n",
       "      <td>25.740</td>\n",
       "      <td>39.42</td>\n",
       "      <td>184.60</td>\n",
       "      <td>1821.0</td>\n",
       "      <td>0.16500</td>\n",
       "      <td>0.86810</td>\n",
       "      <td>0.9387</td>\n",
       "      <td>0.2650</td>\n",
       "      <td>0.4087</td>\n",
       "      <td>0.12400</td>\n",
       "    </tr>\n",
       "    <tr>\n",
       "      <th>568</th>\n",
       "      <td>92751</td>\n",
       "      <td>0</td>\n",
       "      <td>7.76</td>\n",
       "      <td>24.54</td>\n",
       "      <td>47.92</td>\n",
       "      <td>181.0</td>\n",
       "      <td>0.05263</td>\n",
       "      <td>0.04362</td>\n",
       "      <td>0.00000</td>\n",
       "      <td>0.00000</td>\n",
       "      <td>...</td>\n",
       "      <td>9.456</td>\n",
       "      <td>30.37</td>\n",
       "      <td>59.16</td>\n",
       "      <td>268.6</td>\n",
       "      <td>0.08996</td>\n",
       "      <td>0.06444</td>\n",
       "      <td>0.0000</td>\n",
       "      <td>0.0000</td>\n",
       "      <td>0.2871</td>\n",
       "      <td>0.07039</td>\n",
       "    </tr>\n",
       "  </tbody>\n",
       "</table>\n",
       "<p>569 rows × 32 columns</p>\n",
       "</div>"
      ],
      "text/plain": [
       "           ID Diagnosis  Radius mean  Texture mean  Perimeter mean  Area mean  \\\n",
       "0      842302         1        17.99         10.38          122.80     1001.0   \n",
       "1      842517         1        20.57         17.77          132.90     1326.0   \n",
       "2    84300903         1        19.69         21.25          130.00     1203.0   \n",
       "3    84348301         1        11.42         20.38           77.58      386.1   \n",
       "4    84358402         1        20.29         14.34          135.10     1297.0   \n",
       "..        ...       ...          ...           ...             ...        ...   \n",
       "564    926424         1        21.56         22.39          142.00     1479.0   \n",
       "565    926682         1        20.13         28.25          131.20     1261.0   \n",
       "566    926954         1        16.60         28.08          108.30      858.1   \n",
       "567    927241         1        20.60         29.33          140.10     1265.0   \n",
       "568     92751         0         7.76         24.54           47.92      181.0   \n",
       "\n",
       "     Smoothness mean  Compactness mean  Concavity mean  Concave points mean  \\\n",
       "0            0.11840           0.27760         0.30010              0.14710   \n",
       "1            0.08474           0.07864         0.08690              0.07017   \n",
       "2            0.10960           0.15990         0.19740              0.12790   \n",
       "3            0.14250           0.28390         0.24140              0.10520   \n",
       "4            0.10030           0.13280         0.19800              0.10430   \n",
       "..               ...               ...             ...                  ...   \n",
       "564          0.11100           0.11590         0.24390              0.13890   \n",
       "565          0.09780           0.10340         0.14400              0.09791   \n",
       "566          0.08455           0.10230         0.09251              0.05302   \n",
       "567          0.11780           0.27700         0.35140              0.15200   \n",
       "568          0.05263           0.04362         0.00000              0.00000   \n",
       "\n",
       "     ...  Radius worst  Texture worst  Perimeter worst  Area worst  \\\n",
       "0    ...        25.380          17.33           184.60      2019.0   \n",
       "1    ...        24.990          23.41           158.80      1956.0   \n",
       "2    ...        23.570          25.53           152.50      1709.0   \n",
       "3    ...        14.910          26.50            98.87       567.7   \n",
       "4    ...        22.540          16.67           152.20      1575.0   \n",
       "..   ...           ...            ...              ...         ...   \n",
       "564  ...        25.450          26.40           166.10      2027.0   \n",
       "565  ...        23.690          38.25           155.00      1731.0   \n",
       "566  ...        18.980          34.12           126.70      1124.0   \n",
       "567  ...        25.740          39.42           184.60      1821.0   \n",
       "568  ...         9.456          30.37            59.16       268.6   \n",
       "\n",
       "     Smoothness worst  Compactness worst  Concavity worst  \\\n",
       "0             0.16220            0.66560           0.7119   \n",
       "1             0.12380            0.18660           0.2416   \n",
       "2             0.14440            0.42450           0.4504   \n",
       "3             0.20980            0.86630           0.6869   \n",
       "4             0.13740            0.20500           0.4000   \n",
       "..                ...                ...              ...   \n",
       "564           0.14100            0.21130           0.4107   \n",
       "565           0.11660            0.19220           0.3215   \n",
       "566           0.11390            0.30940           0.3403   \n",
       "567           0.16500            0.86810           0.9387   \n",
       "568           0.08996            0.06444           0.0000   \n",
       "\n",
       "     Concave points worst  Symmetry worst  Fractal dimension worst  \n",
       "0                  0.2654          0.4601                  0.11890  \n",
       "1                  0.1860          0.2750                  0.08902  \n",
       "2                  0.2430          0.3613                  0.08758  \n",
       "3                  0.2575          0.6638                  0.17300  \n",
       "4                  0.1625          0.2364                  0.07678  \n",
       "..                    ...             ...                      ...  \n",
       "564                0.2216          0.2060                  0.07115  \n",
       "565                0.1628          0.2572                  0.06637  \n",
       "566                0.1418          0.2218                  0.07820  \n",
       "567                0.2650          0.4087                  0.12400  \n",
       "568                0.0000          0.2871                  0.07039  \n",
       "\n",
       "[569 rows x 32 columns]"
      ]
     },
     "execution_count": 2,
     "metadata": {},
     "output_type": "execute_result"
    }
   ],
   "source": [
    "# Load the Wisconsin Breast Cancer dataset\n",
    "WBCD = pd.read_csv(\"WisconsinBreastCancerDatabase.csv\")\n",
    "# Convert Diagnosis to 0 and 1.\n",
    "WBCD.loc[WBCD['Diagnosis'] == 'B', 'Diagnosis'] = 0\n",
    "WBCD.loc[WBCD['Diagnosis'] == 'M', 'Diagnosis'] = 1\n",
    "WBCD"
   ]
  },
  {
   "cell_type": "code",
   "execution_count": 3,
   "id": "81841e6d-b2d9-4b15-85d3-98acbb0e13c0",
   "metadata": {
    "execution": {
     "iopub.execute_input": "2023-07-26T13:26:03.680839Z",
     "iopub.status.busy": "2023-07-26T13:26:03.680706Z",
     "iopub.status.idle": "2023-07-26T13:26:03.683307Z",
     "shell.execute_reply": "2023-07-26T13:26:03.682998Z"
    }
   },
   "outputs": [],
   "source": [
    "# Store relevant columns as variables\n",
    "X = WBCD[['Radius mean']].values.reshape(-1, 1)\n",
    "y = WBCD[['Diagnosis']].values.reshape(-1, 1).astype(int)"
   ]
  },
  {
   "cell_type": "code",
   "execution_count": 4,
   "id": "ebd783a8-2f78-4d94-98ff-779f5ddaa0cd",
   "metadata": {
    "execution": {
     "iopub.execute_input": "2023-07-26T13:26:03.684817Z",
     "iopub.status.busy": "2023-07-26T13:26:03.684701Z",
     "iopub.status.idle": "2023-07-26T13:26:03.912840Z",
     "shell.execute_reply": "2023-07-26T13:26:03.909068Z"
    }
   },
   "outputs": [
    {
     "data": {
      "text/plain": [
       "Text(0, 0.5, 'Probability of malignant tumor')"
      ]
     },
     "execution_count": 4,
     "metadata": {},
     "output_type": "execute_result"
    },
    {
     "data": {
      "image/png": "[encoded data removed]",
      "text/plain": [
       "<Figure size 640x480 with 1 Axes>"
      ]
     },
     "metadata": {},
     "output_type": "display_data"
    }
   ],
   "source": [
    "# Logistic regression predicting diagnosis from tumor radius\n",
    "logisticModel = LogisticRegression()\n",
    "logisticModel.fit(X, np.ravel(y.astype(int)))\n",
    "\n",
    "# Graph logistic regression probabilities\n",
    "plt.scatter(X, y)\n",
    "xDelta = np.linspace(X.min(), X.max(), 10000)\n",
    "yPredicted = logisticModel.predict(X).reshape(-1, 1).astype(int)\n",
    "yDeltaProb = logisticModel.predict_proba(xDelta.reshape(-1, 1))[:, 1]\n",
    "plt.plot(xDelta, yDeltaProb, color='red')\n",
    "plt.xlabel('Radius', fontsize=14)\n",
    "plt.ylabel('Probability of malignant tumor', fontsize=14)"
   ]
  },
  {
   "cell_type": "code",
   "execution_count": 5,
   "id": "1a40acc0-4d0b-4f63-b1ca-8c61cec157a3",
   "metadata": {
    "execution": {
     "iopub.execute_input": "2023-07-26T13:26:03.924854Z",
     "iopub.status.busy": "2023-07-26T13:26:03.923826Z",
     "iopub.status.idle": "2023-07-26T13:26:03.933899Z",
     "shell.execute_reply": "2023-07-26T13:26:03.932240Z"
    }
   },
   "outputs": [
    {
     "data": {
      "text/plain": [
       "array([[1.02475609]])"
      ]
     },
     "execution_count": 5,
     "metadata": {},
     "output_type": "execute_result"
    }
   ],
   "source": [
    "# Display the slope parameter estimate\n",
    "logisticModel.coef_"
   ]
  },
  {
   "cell_type": "code",
   "execution_count": 6,
   "id": "39ea0480-5b88-4a20-b52b-704bb16fb3ff",
   "metadata": {
    "execution": {
     "iopub.execute_input": "2023-07-26T13:26:03.944984Z",
     "iopub.status.busy": "2023-07-26T13:26:03.943159Z",
     "iopub.status.idle": "2023-07-26T13:26:03.953503Z",
     "shell.execute_reply": "2023-07-26T13:26:03.950619Z"
    }
   },
   "outputs": [
    {
     "data": {
      "text/plain": [
       "array([-15.120902])"
      ]
     },
     "execution_count": 6,
     "metadata": {},
     "output_type": "execute_result"
    }
   ],
   "source": [
    "# Display the intercept parameter estimate\n",
    "logisticModel.intercept_"
   ]
  },
  {
   "cell_type": "code",
   "execution_count": 7,
   "id": "617ebc84-00c4-48b6-b50f-3d4aed73851e",
   "metadata": {
    "execution": {
     "iopub.execute_input": "2023-07-26T13:26:03.958201Z",
     "iopub.status.busy": "2023-07-26T13:26:03.957619Z",
     "iopub.status.idle": "2023-07-26T13:26:03.973986Z",
     "shell.execute_reply": "2023-07-26T13:26:03.968162Z"
    }
   },
   "outputs": [
    {
     "data": {
      "text/plain": [
       "array([0.85803604, 0.14196396])"
      ]
     },
     "execution_count": 7,
     "metadata": {},
     "output_type": "execute_result"
    }
   ],
   "source": [
    "# Predict the probability a tumor with radius mean 13 is benign / malignant\n",
    "pHatProb = logisticModel.predict_proba([[13]])\n",
    "pHatProb[0]"
   ]
  },
  {
   "cell_type": "code",
   "execution_count": 8,
   "id": "68a18d14-35cf-4b76-8c20-1661b2f0ad3f",
   "metadata": {
    "execution": {
     "iopub.execute_input": "2023-07-26T13:26:03.977819Z",
     "iopub.status.busy": "2023-07-26T13:26:03.977643Z",
     "iopub.status.idle": "2023-07-26T13:26:03.990871Z",
     "shell.execute_reply": "2023-07-26T13:26:03.988398Z"
    }
   },
   "outputs": [
    {
     "data": {
      "text/plain": [
       "0"
      ]
     },
     "execution_count": 8,
     "metadata": {},
     "output_type": "execute_result"
    }
   ],
   "source": [
    "# Classify whether tumor with radius mean 13 is benign (0) or malignant (1)\n",
    "pHat = logisticModel.predict([[13]])\n",
    "pHat[0]"
   ]
  },
  {
   "cell_type": "code",
   "execution_count": 9,
   "id": "d35360d0-86f9-457e-b849-8c59cab7d5b9",
   "metadata": {
    "execution": {
     "iopub.execute_input": "2023-07-26T13:26:03.997197Z",
     "iopub.status.busy": "2023-07-26T13:26:03.997010Z",
     "iopub.status.idle": "2023-07-26T13:26:04.007346Z",
     "shell.execute_reply": "2023-07-26T13:26:04.006489Z"
    }
   },
   "outputs": [
    {
     "name": "stdout",
     "output_type": "stream",
     "text": [
      "A tumor with radius mean 13 has predicted probability: \n",
      " 0.8580360397250095 of being benign\n",
      " 0.14196396027499042 of being malignant\n",
      " and overall is classified to be benign\n"
     ]
    }
   ],
   "source": [
    "print(\n",
    "    \"A tumor with radius mean 13 has predicted probability: \\n\",\n",
    "    pHatProb[0][0],\n",
    "    \"of being benign\\n\",\n",
    "    pHatProb[0][1],\n",
    "    \"of being malignant\\n\",\n",
    "    \"and overall is classified to be benign\",\n",
    ")"
   ]
  }
 ],
 "metadata": {
  "kernelspec": {
   "display_name": "Python 3 (ipykernel)",
   "language": "python",
   "name": "python3"
  },
  "language_info": {
   "codemirror_mode": {
    "name": "ipython",
    "version": 3
   },
   "file_extension": ".py",
   "mimetype": "text/x-python",
   "name": "python",
   "nbconvert_exporter": "python",
   "pygments_lexer": "ipython3",
   "version": "3.10.12"
  }
 },
 "nbformat": 4,
 "nbformat_minor": 5
}
