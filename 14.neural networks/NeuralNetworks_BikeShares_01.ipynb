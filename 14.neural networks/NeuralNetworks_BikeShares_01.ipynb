{
 "cells": [
  {
   "cell_type": "code",
   "execution_count": 1,
   "id": "89ec373a",
   "metadata": {
    "execution": {
     "iopub.execute_input": "2023-07-26T13:27:52.843051Z",
     "iopub.status.busy": "2023-07-26T13:27:52.842744Z",
     "iopub.status.idle": "2023-07-26T13:27:53.597836Z",
     "shell.execute_reply": "2023-07-26T13:27:53.597518Z"
    }
   },
   "outputs": [
    {
     "data": {
      "text/html": [
       "<div>\n",
       "<style scoped>\n",
       "    .dataframe tbody tr th:only-of-type {\n",
       "        vertical-align: middle;\n",
       "    }\n",
       "\n",
       "    .dataframe tbody tr th {\n",
       "        vertical-align: top;\n",
       "    }\n",
       "\n",
       "    .dataframe thead th {\n",
       "        text-align: right;\n",
       "    }\n",
       "</style>\n",
       "<table border=\"1\" class=\"dataframe\">\n",
       "  <thead>\n",
       "    <tr style=\"text-align: right;\">\n",
       "      <th></th>\n",
       "      <th>season</th>\n",
       "      <th>yr</th>\n",
       "      <th>month</th>\n",
       "      <th>holiday</th>\n",
       "      <th>weekday</th>\n",
       "      <th>workingday</th>\n",
       "      <th>weathersit</th>\n",
       "      <th>temp</th>\n",
       "      <th>atemp</th>\n",
       "      <th>hum</th>\n",
       "      <th>windspeed</th>\n",
       "      <th>casual</th>\n",
       "      <th>registered</th>\n",
       "      <th>total</th>\n",
       "    </tr>\n",
       "  </thead>\n",
       "  <tbody>\n",
       "    <tr>\n",
       "      <th>count</th>\n",
       "      <td>731.000000</td>\n",
       "      <td>731.000000</td>\n",
       "      <td>731.000000</td>\n",
       "      <td>731.000000</td>\n",
       "      <td>731.000000</td>\n",
       "      <td>731.000000</td>\n",
       "      <td>731.000000</td>\n",
       "      <td>731.000000</td>\n",
       "      <td>731.000000</td>\n",
       "      <td>731.000000</td>\n",
       "      <td>731.000000</td>\n",
       "      <td>731.000000</td>\n",
       "      <td>731.000000</td>\n",
       "      <td>731.000000</td>\n",
       "    </tr>\n",
       "    <tr>\n",
       "      <th>mean</th>\n",
       "      <td>2.496580</td>\n",
       "      <td>1.500684</td>\n",
       "      <td>6.519836</td>\n",
       "      <td>0.028728</td>\n",
       "      <td>2.997264</td>\n",
       "      <td>0.683995</td>\n",
       "      <td>1.395349</td>\n",
       "      <td>59.499316</td>\n",
       "      <td>59.547196</td>\n",
       "      <td>0.627894</td>\n",
       "      <td>12.767442</td>\n",
       "      <td>848.176471</td>\n",
       "      <td>3656.172367</td>\n",
       "      <td>4504.348837</td>\n",
       "    </tr>\n",
       "    <tr>\n",
       "      <th>std</th>\n",
       "      <td>1.110807</td>\n",
       "      <td>0.500342</td>\n",
       "      <td>3.451913</td>\n",
       "      <td>0.167155</td>\n",
       "      <td>2.004787</td>\n",
       "      <td>0.465233</td>\n",
       "      <td>0.544894</td>\n",
       "      <td>15.497801</td>\n",
       "      <td>19.371958</td>\n",
       "      <td>0.142429</td>\n",
       "      <td>5.190939</td>\n",
       "      <td>686.622488</td>\n",
       "      <td>1560.256377</td>\n",
       "      <td>1937.211452</td>\n",
       "    </tr>\n",
       "    <tr>\n",
       "      <th>min</th>\n",
       "      <td>1.000000</td>\n",
       "      <td>1.000000</td>\n",
       "      <td>1.000000</td>\n",
       "      <td>0.000000</td>\n",
       "      <td>0.000000</td>\n",
       "      <td>0.000000</td>\n",
       "      <td>1.000000</td>\n",
       "      <td>23.000000</td>\n",
       "      <td>13.000000</td>\n",
       "      <td>0.000000</td>\n",
       "      <td>2.000000</td>\n",
       "      <td>2.000000</td>\n",
       "      <td>20.000000</td>\n",
       "      <td>22.000000</td>\n",
       "    </tr>\n",
       "    <tr>\n",
       "      <th>25%</th>\n",
       "      <td>2.000000</td>\n",
       "      <td>1.000000</td>\n",
       "      <td>4.000000</td>\n",
       "      <td>0.000000</td>\n",
       "      <td>1.000000</td>\n",
       "      <td>0.000000</td>\n",
       "      <td>1.000000</td>\n",
       "      <td>46.000000</td>\n",
       "      <td>43.000000</td>\n",
       "      <td>0.520000</td>\n",
       "      <td>9.000000</td>\n",
       "      <td>315.500000</td>\n",
       "      <td>2497.000000</td>\n",
       "      <td>3152.000000</td>\n",
       "    </tr>\n",
       "    <tr>\n",
       "      <th>50%</th>\n",
       "      <td>3.000000</td>\n",
       "      <td>2.000000</td>\n",
       "      <td>7.000000</td>\n",
       "      <td>0.000000</td>\n",
       "      <td>3.000000</td>\n",
       "      <td>1.000000</td>\n",
       "      <td>1.000000</td>\n",
       "      <td>60.000000</td>\n",
       "      <td>61.000000</td>\n",
       "      <td>0.626667</td>\n",
       "      <td>12.000000</td>\n",
       "      <td>713.000000</td>\n",
       "      <td>3662.000000</td>\n",
       "      <td>4548.000000</td>\n",
       "    </tr>\n",
       "    <tr>\n",
       "      <th>75%</th>\n",
       "      <td>3.000000</td>\n",
       "      <td>2.000000</td>\n",
       "      <td>10.000000</td>\n",
       "      <td>0.000000</td>\n",
       "      <td>5.000000</td>\n",
       "      <td>1.000000</td>\n",
       "      <td>2.000000</td>\n",
       "      <td>73.000000</td>\n",
       "      <td>75.500000</td>\n",
       "      <td>0.730209</td>\n",
       "      <td>16.000000</td>\n",
       "      <td>1096.000000</td>\n",
       "      <td>4776.500000</td>\n",
       "      <td>5956.000000</td>\n",
       "    </tr>\n",
       "    <tr>\n",
       "      <th>max</th>\n",
       "      <td>4.000000</td>\n",
       "      <td>2.000000</td>\n",
       "      <td>12.000000</td>\n",
       "      <td>1.000000</td>\n",
       "      <td>6.000000</td>\n",
       "      <td>1.000000</td>\n",
       "      <td>3.000000</td>\n",
       "      <td>90.000000</td>\n",
       "      <td>103.000000</td>\n",
       "      <td>0.972500</td>\n",
       "      <td>34.000000</td>\n",
       "      <td>3410.000000</td>\n",
       "      <td>6946.000000</td>\n",
       "      <td>8714.000000</td>\n",
       "    </tr>\n",
       "  </tbody>\n",
       "</table>\n",
       "</div>"
      ],
      "text/plain": [
       "           season          yr       month     holiday     weekday  workingday  \\\n",
       "count  731.000000  731.000000  731.000000  731.000000  731.000000  731.000000   \n",
       "mean     2.496580    1.500684    6.519836    0.028728    2.997264    0.683995   \n",
       "std      1.110807    0.500342    3.451913    0.167155    2.004787    0.465233   \n",
       "min      1.000000    1.000000    1.000000    0.000000    0.000000    0.000000   \n",
       "25%      2.000000    1.000000    4.000000    0.000000    1.000000    0.000000   \n",
       "50%      3.000000    2.000000    7.000000    0.000000    3.000000    1.000000   \n",
       "75%      3.000000    2.000000   10.000000    0.000000    5.000000    1.000000   \n",
       "max      4.000000    2.000000   12.000000    1.000000    6.000000    1.000000   \n",
       "\n",
       "       weathersit        temp       atemp         hum   windspeed  \\\n",
       "count  731.000000  731.000000  731.000000  731.000000  731.000000   \n",
       "mean     1.395349   59.499316   59.547196    0.627894   12.767442   \n",
       "std      0.544894   15.497801   19.371958    0.142429    5.190939   \n",
       "min      1.000000   23.000000   13.000000    0.000000    2.000000   \n",
       "25%      1.000000   46.000000   43.000000    0.520000    9.000000   \n",
       "50%      1.000000   60.000000   61.000000    0.626667   12.000000   \n",
       "75%      2.000000   73.000000   75.500000    0.730209   16.000000   \n",
       "max      3.000000   90.000000  103.000000    0.972500   34.000000   \n",
       "\n",
       "            casual   registered        total  \n",
       "count   731.000000   731.000000   731.000000  \n",
       "mean    848.176471  3656.172367  4504.348837  \n",
       "std     686.622488  1560.256377  1937.211452  \n",
       "min       2.000000    20.000000    22.000000  \n",
       "25%     315.500000  2497.000000  3152.000000  \n",
       "50%     713.000000  3662.000000  4548.000000  \n",
       "75%    1096.000000  4776.500000  5956.000000  \n",
       "max    3410.000000  6946.000000  8714.000000  "
      ]
     },
     "execution_count": 1,
     "metadata": {},
     "output_type": "execute_result"
    }
   ],
   "source": [
    "# Import packages and data\n",
    "import numpy as np\n",
    "import pandas as pd\n",
    "import matplotlib.pyplot as plt\n",
    "import seaborn as sns\n",
    "\n",
    "bikes = pd.read_csv('bike_share_day.csv').dropna()\n",
    "bikes.describe()"
   ]
  },
  {
   "cell_type": "code",
   "execution_count": 2,
   "id": "3c97dfcd",
   "metadata": {
    "execution": {
     "iopub.execute_input": "2023-07-26T13:27:53.599406Z",
     "iopub.status.busy": "2023-07-26T13:27:53.599297Z",
     "iopub.status.idle": "2023-07-26T13:27:53.602360Z",
     "shell.execute_reply": "2023-07-26T13:27:53.602121Z"
    }
   },
   "outputs": [],
   "source": [
    "# Convert text features to strings\n",
    "bikes['season'] = bikes['season'].astype(str)\n",
    "bikes['month'] = bikes['month'].astype(str)\n",
    "bikes['weekday'] = bikes['weekday'].astype(str)\n",
    "bikes['weathersit'] = bikes['weathersit'].astype(str)"
   ]
  },
  {
   "cell_type": "code",
   "execution_count": 3,
   "id": "dee46ceb",
   "metadata": {
    "execution": {
     "iopub.execute_input": "2023-07-26T13:27:53.603758Z",
     "iopub.status.busy": "2023-07-26T13:27:53.603683Z",
     "iopub.status.idle": "2023-07-26T13:27:53.797013Z",
     "shell.execute_reply": "2023-07-26T13:27:53.795223Z"
    }
   },
   "outputs": [
    {
     "data": {
      "text/plain": [
       "Text(0, 0.5, 'Count')"
      ]
     },
     "execution_count": 3,
     "metadata": {},
     "output_type": "execute_result"
    },
    {
     "data": {
      "image/png": "[encoded data removed]",
      "text/plain": [
       "<Figure size 640x480 with 1 Axes>"
      ]
     },
     "metadata": {},
     "output_type": "display_data"
    }
   ],
   "source": [
    "# Plot weekday and workingday\n",
    "p = sns.histplot(data=bikes, x='weekday', hue='workingday', multiple='stack')\n",
    "p.set_xlabel('weekday', fontsize=14)\n",
    "p.set_ylabel('Count', fontsize=14)"
   ]
  },
  {
   "cell_type": "code",
   "execution_count": 4,
   "id": "a7813c92",
   "metadata": {
    "execution": {
     "iopub.execute_input": "2023-07-26T13:27:53.809142Z",
     "iopub.status.busy": "2023-07-26T13:27:53.807677Z",
     "iopub.status.idle": "2023-07-26T13:27:53.965778Z",
     "shell.execute_reply": "2023-07-26T13:27:53.965492Z"
    }
   },
   "outputs": [
    {
     "data": {
      "text/plain": [
       "Text(0, 0.5, 'Count')"
      ]
     },
     "execution_count": 4,
     "metadata": {},
     "output_type": "execute_result"
    },
    {
     "data": {
      "image/png": "[encoded data removed]",
      "text/plain": [
       "<Figure size 640x480 with 1 Axes>"
      ]
     },
     "metadata": {},
     "output_type": "display_data"
    }
   ],
   "source": [
    "# Plot number of days in each season\n",
    "p = sns.histplot(data=bikes, x='season', hue='season', alpha=0.7)\n",
    "p.set_xlabel('season', fontsize=14)\n",
    "p.set_ylabel('Count', fontsize=14)"
   ]
  },
  {
   "cell_type": "code",
   "execution_count": 5,
   "id": "bd737506",
   "metadata": {
    "execution": {
     "iopub.execute_input": "2023-07-26T13:27:53.967373Z",
     "iopub.status.busy": "2023-07-26T13:27:53.967267Z",
     "iopub.status.idle": "2023-07-26T13:27:54.093267Z",
     "shell.execute_reply": "2023-07-26T13:27:54.092988Z"
    }
   },
   "outputs": [
    {
     "data": {
      "text/plain": [
       "Text(0, 0.5, 'Count')"
      ]
     },
     "execution_count": 5,
     "metadata": {},
     "output_type": "execute_result"
    },
    {
     "data": {
      "image/png": "[encoded data removed]",
      "text/plain": [
       "<Figure size 640x480 with 1 Axes>"
      ]
     },
     "metadata": {},
     "output_type": "display_data"
    }
   ],
   "source": [
    "# Plot seasons and months\n",
    "p = sns.histplot(data=bikes, x='month', hue='season', multiple='stack')\n",
    "p.set_xlabel('month', fontsize=14)\n",
    "p.set_ylabel('Count', fontsize=14)"
   ]
  }
 ],
 "metadata": {
  "kernelspec": {
   "display_name": "Python 3",
   "language": "python",
   "name": "python3"
  },
  "language_info": {
   "codemirror_mode": {
    "name": "ipython",
    "version": 3
   },
   "file_extension": ".py",
   "mimetype": "text/x-python",
   "name": "python",
   "nbconvert_exporter": "python",
   "pygments_lexer": "ipython3",
   "version": "3.10.12"
  },
  "vscode": {
   "interpreter": {
    "hash": "c56527485b7c9dd36c8c8808345694ae9d0a642c0f00dfb6356f9a65494ceb50"
   }
  }
 },
 "nbformat": 4,
 "nbformat_minor": 5
}
