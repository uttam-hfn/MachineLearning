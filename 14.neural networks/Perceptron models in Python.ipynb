{
 "cells": [
  {
   "cell_type": "code",
   "execution_count": 1,
   "id": "acaa19fd-a581-4562-8963-42b2e76f7bb5",
   "metadata": {
    "execution": {
     "iopub.execute_input": "2023-07-26T13:27:28.853303Z",
     "iopub.status.busy": "2023-07-26T13:27:28.852881Z",
     "iopub.status.idle": "2023-07-26T13:27:29.603062Z",
     "shell.execute_reply": "2023-07-26T13:27:29.602761Z"
    }
   },
   "outputs": [],
   "source": [
    "# Loads the necessary libraries\n",
    "import pandas as pd\n",
    "import numpy as np\n",
    "import seaborn as sns\n",
    "from sklearn.linear_model import Perceptron\n",
    "from sklearn.model_selection import train_test_split\n",
    "from sklearn.preprocessing import StandardScaler\n",
    "from sklearn.metrics import accuracy_score, classification_report, confusion_matrix"
   ]
  },
  {
   "cell_type": "code",
   "execution_count": 2,
   "id": "c1ce0799-cd10-4b64-b74b-a1f5295223dc",
   "metadata": {
    "execution": {
     "iopub.execute_input": "2023-07-26T13:27:29.604834Z",
     "iopub.status.busy": "2023-07-26T13:27:29.604708Z",
     "iopub.status.idle": "2023-07-26T13:27:29.607628Z",
     "shell.execute_reply": "2023-07-26T13:27:29.607406Z"
    }
   },
   "outputs": [],
   "source": [
    "# Loads haberman.csv\n",
    "haberman = pd.read_csv('haberman.csv')"
   ]
  },
  {
   "cell_type": "code",
   "execution_count": 3,
   "id": "a3c776dc-b8f4-493d-8bcc-2f7eae23013f",
   "metadata": {
    "execution": {
     "iopub.execute_input": "2023-07-26T13:27:29.609177Z",
     "iopub.status.busy": "2023-07-26T13:27:29.608986Z",
     "iopub.status.idle": "2023-07-26T13:27:29.614095Z",
     "shell.execute_reply": "2023-07-26T13:27:29.613862Z"
    }
   },
   "outputs": [
    {
     "data": {
      "text/html": [
       "<div>\n",
       "<style scoped>\n",
       "    .dataframe tbody tr th:only-of-type {\n",
       "        vertical-align: middle;\n",
       "    }\n",
       "\n",
       "    .dataframe tbody tr th {\n",
       "        vertical-align: top;\n",
       "    }\n",
       "\n",
       "    .dataframe thead th {\n",
       "        text-align: right;\n",
       "    }\n",
       "</style>\n",
       "<table border=\"1\" class=\"dataframe\">\n",
       "  <thead>\n",
       "    <tr style=\"text-align: right;\">\n",
       "      <th></th>\n",
       "      <th>Age</th>\n",
       "      <th>Year</th>\n",
       "      <th>Nodes</th>\n",
       "      <th>Survived</th>\n",
       "    </tr>\n",
       "  </thead>\n",
       "  <tbody>\n",
       "    <tr>\n",
       "      <th>0</th>\n",
       "      <td>30</td>\n",
       "      <td>64</td>\n",
       "      <td>1</td>\n",
       "      <td>1</td>\n",
       "    </tr>\n",
       "    <tr>\n",
       "      <th>1</th>\n",
       "      <td>30</td>\n",
       "      <td>62</td>\n",
       "      <td>3</td>\n",
       "      <td>1</td>\n",
       "    </tr>\n",
       "    <tr>\n",
       "      <th>2</th>\n",
       "      <td>30</td>\n",
       "      <td>65</td>\n",
       "      <td>0</td>\n",
       "      <td>1</td>\n",
       "    </tr>\n",
       "    <tr>\n",
       "      <th>3</th>\n",
       "      <td>31</td>\n",
       "      <td>59</td>\n",
       "      <td>2</td>\n",
       "      <td>1</td>\n",
       "    </tr>\n",
       "    <tr>\n",
       "      <th>4</th>\n",
       "      <td>31</td>\n",
       "      <td>65</td>\n",
       "      <td>4</td>\n",
       "      <td>1</td>\n",
       "    </tr>\n",
       "    <tr>\n",
       "      <th>...</th>\n",
       "      <td>...</td>\n",
       "      <td>...</td>\n",
       "      <td>...</td>\n",
       "      <td>...</td>\n",
       "    </tr>\n",
       "    <tr>\n",
       "      <th>301</th>\n",
       "      <td>75</td>\n",
       "      <td>62</td>\n",
       "      <td>1</td>\n",
       "      <td>1</td>\n",
       "    </tr>\n",
       "    <tr>\n",
       "      <th>302</th>\n",
       "      <td>76</td>\n",
       "      <td>67</td>\n",
       "      <td>0</td>\n",
       "      <td>1</td>\n",
       "    </tr>\n",
       "    <tr>\n",
       "      <th>303</th>\n",
       "      <td>77</td>\n",
       "      <td>65</td>\n",
       "      <td>3</td>\n",
       "      <td>1</td>\n",
       "    </tr>\n",
       "    <tr>\n",
       "      <th>304</th>\n",
       "      <td>78</td>\n",
       "      <td>65</td>\n",
       "      <td>1</td>\n",
       "      <td>0</td>\n",
       "    </tr>\n",
       "    <tr>\n",
       "      <th>305</th>\n",
       "      <td>83</td>\n",
       "      <td>58</td>\n",
       "      <td>2</td>\n",
       "      <td>0</td>\n",
       "    </tr>\n",
       "  </tbody>\n",
       "</table>\n",
       "<p>306 rows × 4 columns</p>\n",
       "</div>"
      ],
      "text/plain": [
       "     Age  Year  Nodes  Survived\n",
       "0     30    64      1         1\n",
       "1     30    62      3         1\n",
       "2     30    65      0         1\n",
       "3     31    59      2         1\n",
       "4     31    65      4         1\n",
       "..   ...   ...    ...       ...\n",
       "301   75    62      1         1\n",
       "302   76    67      0         1\n",
       "303   77    65      3         1\n",
       "304   78    65      1         0\n",
       "305   83    58      2         0\n",
       "\n",
       "[306 rows x 4 columns]"
      ]
     },
     "execution_count": 3,
     "metadata": {},
     "output_type": "execute_result"
    }
   ],
   "source": [
    "haberman"
   ]
  },
  {
   "cell_type": "code",
   "execution_count": 4,
   "id": "db0f4c79-7ba8-4dfd-a34f-84f6df7dc561",
   "metadata": {
    "execution": {
     "iopub.execute_input": "2023-07-26T13:27:29.615490Z",
     "iopub.status.busy": "2023-07-26T13:27:29.615414Z",
     "iopub.status.idle": "2023-07-26T13:27:29.617696Z",
     "shell.execute_reply": "2023-07-26T13:27:29.617452Z"
    }
   },
   "outputs": [],
   "source": [
    "# Slices the features of the dataset\n",
    "X = haberman[['Age', 'Year', 'Nodes']]\n",
    "y = haberman[[\"Survived\"]]"
   ]
  },
  {
   "cell_type": "code",
   "execution_count": 5,
   "id": "8b9e236f-5138-48f8-9956-5057a4e76737",
   "metadata": {
    "execution": {
     "iopub.execute_input": "2023-07-26T13:27:29.619012Z",
     "iopub.status.busy": "2023-07-26T13:27:29.618935Z",
     "iopub.status.idle": "2023-07-26T13:27:29.621708Z",
     "shell.execute_reply": "2023-07-26T13:27:29.621486Z"
    }
   },
   "outputs": [],
   "source": [
    "# Scales the features\n",
    "scaler = StandardScaler()\n",
    "X_scaled = pd.DataFrame(scaler.fit_transform(X), columns=['Age', 'Year', 'Nodes'])"
   ]
  },
  {
   "cell_type": "code",
   "execution_count": 6,
   "id": "a0adc634-db13-4e74-85e4-3c37ac9e53da",
   "metadata": {
    "execution": {
     "iopub.execute_input": "2023-07-26T13:27:29.622962Z",
     "iopub.status.busy": "2023-07-26T13:27:29.622892Z",
     "iopub.status.idle": "2023-07-26T13:27:29.626523Z",
     "shell.execute_reply": "2023-07-26T13:27:29.626269Z"
    }
   },
   "outputs": [
    {
     "data": {
      "text/html": [
       "<div>\n",
       "<style scoped>\n",
       "    .dataframe tbody tr th:only-of-type {\n",
       "        vertical-align: middle;\n",
       "    }\n",
       "\n",
       "    .dataframe tbody tr th {\n",
       "        vertical-align: top;\n",
       "    }\n",
       "\n",
       "    .dataframe thead th {\n",
       "        text-align: right;\n",
       "    }\n",
       "</style>\n",
       "<table border=\"1\" class=\"dataframe\">\n",
       "  <thead>\n",
       "    <tr style=\"text-align: right;\">\n",
       "      <th></th>\n",
       "      <th>Age</th>\n",
       "      <th>Year</th>\n",
       "      <th>Nodes</th>\n",
       "    </tr>\n",
       "  </thead>\n",
       "  <tbody>\n",
       "    <tr>\n",
       "      <th>0</th>\n",
       "      <td>-2.082140</td>\n",
       "      <td>0.353584</td>\n",
       "      <td>-0.421592</td>\n",
       "    </tr>\n",
       "    <tr>\n",
       "      <th>1</th>\n",
       "      <td>-2.082140</td>\n",
       "      <td>-0.262921</td>\n",
       "      <td>-0.142959</td>\n",
       "    </tr>\n",
       "    <tr>\n",
       "      <th>2</th>\n",
       "      <td>-2.082140</td>\n",
       "      <td>0.661837</td>\n",
       "      <td>-0.560909</td>\n",
       "    </tr>\n",
       "    <tr>\n",
       "      <th>3</th>\n",
       "      <td>-1.989426</td>\n",
       "      <td>-1.187680</td>\n",
       "      <td>-0.282275</td>\n",
       "    </tr>\n",
       "    <tr>\n",
       "      <th>4</th>\n",
       "      <td>-1.989426</td>\n",
       "      <td>0.661837</td>\n",
       "      <td>-0.003642</td>\n",
       "    </tr>\n",
       "    <tr>\n",
       "      <th>...</th>\n",
       "      <td>...</td>\n",
       "      <td>...</td>\n",
       "      <td>...</td>\n",
       "    </tr>\n",
       "    <tr>\n",
       "      <th>301</th>\n",
       "      <td>2.090018</td>\n",
       "      <td>-0.262921</td>\n",
       "      <td>-0.421592</td>\n",
       "    </tr>\n",
       "    <tr>\n",
       "      <th>302</th>\n",
       "      <td>2.182732</td>\n",
       "      <td>1.278342</td>\n",
       "      <td>-0.560909</td>\n",
       "    </tr>\n",
       "    <tr>\n",
       "      <th>303</th>\n",
       "      <td>2.275447</td>\n",
       "      <td>0.661837</td>\n",
       "      <td>-0.142959</td>\n",
       "    </tr>\n",
       "    <tr>\n",
       "      <th>304</th>\n",
       "      <td>2.368162</td>\n",
       "      <td>0.661837</td>\n",
       "      <td>-0.421592</td>\n",
       "    </tr>\n",
       "    <tr>\n",
       "      <th>305</th>\n",
       "      <td>2.831735</td>\n",
       "      <td>-1.495933</td>\n",
       "      <td>-0.282275</td>\n",
       "    </tr>\n",
       "  </tbody>\n",
       "</table>\n",
       "<p>306 rows × 3 columns</p>\n",
       "</div>"
      ],
      "text/plain": [
       "          Age      Year     Nodes\n",
       "0   -2.082140  0.353584 -0.421592\n",
       "1   -2.082140 -0.262921 -0.142959\n",
       "2   -2.082140  0.661837 -0.560909\n",
       "3   -1.989426 -1.187680 -0.282275\n",
       "4   -1.989426  0.661837 -0.003642\n",
       "..        ...       ...       ...\n",
       "301  2.090018 -0.262921 -0.421592\n",
       "302  2.182732  1.278342 -0.560909\n",
       "303  2.275447  0.661837 -0.142959\n",
       "304  2.368162  0.661837 -0.421592\n",
       "305  2.831735 -1.495933 -0.282275\n",
       "\n",
       "[306 rows x 3 columns]"
      ]
     },
     "execution_count": 6,
     "metadata": {},
     "output_type": "execute_result"
    }
   ],
   "source": [
    "X_scaled"
   ]
  },
  {
   "cell_type": "code",
   "execution_count": 7,
   "id": "1c3b9ed5-dd0a-4dfa-9791-20dea32559f2",
   "metadata": {
    "execution": {
     "iopub.execute_input": "2023-07-26T13:27:29.627900Z",
     "iopub.status.busy": "2023-07-26T13:27:29.627824Z",
     "iopub.status.idle": "2023-07-26T13:27:29.630076Z",
     "shell.execute_reply": "2023-07-26T13:27:29.629829Z"
    }
   },
   "outputs": [],
   "source": [
    "# Splits the data into train and test sets\n",
    "X_train, X_test, y_train, y_test = train_test_split(\n",
    "    X_scaled, y, test_size=0.2, random_state=123\n",
    ")"
   ]
  },
  {
   "cell_type": "code",
   "execution_count": 8,
   "id": "662f66c0-3b22-4c08-9fe7-85878dece2a5",
   "metadata": {
    "execution": {
     "iopub.execute_input": "2023-07-26T13:27:29.631345Z",
     "iopub.status.busy": "2023-07-26T13:27:29.631273Z",
     "iopub.status.idle": "2023-07-26T13:27:29.635112Z",
     "shell.execute_reply": "2023-07-26T13:27:29.634896Z"
    }
   },
   "outputs": [
    {
     "data": {
      "text/html": [
       "<style>#sk-container-id-1 {color: black;background-color: white;}#sk-container-id-1 pre{padding: 0;}#sk-container-id-1 div.sk-toggleable {background-color: white;}#sk-container-id-1 label.sk-toggleable__label {cursor: pointer;display: block;width: 100%;margin-bottom: 0;padding: 0.3em;box-sizing: border-box;text-align: center;}#sk-container-id-1 label.sk-toggleable__label-arrow:before {content: \"▸\";float: left;margin-right: 0.25em;color: #696969;}#sk-container-id-1 label.sk-toggleable__label-arrow:hover:before {color: black;}#sk-container-id-1 div.sk-estimator:hover label.sk-toggleable__label-arrow:before {color: black;}#sk-container-id-1 div.sk-toggleable__content {max-height: 0;max-width: 0;overflow: hidden;text-align: left;background-color: #f0f8ff;}#sk-container-id-1 div.sk-toggleable__content pre {margin: 0.2em;color: black;border-radius: 0.25em;background-color: #f0f8ff;}#sk-container-id-1 input.sk-toggleable__control:checked~div.sk-toggleable__content {max-height: 200px;max-width: 100%;overflow: auto;}#sk-container-id-1 input.sk-toggleable__control:checked~label.sk-toggleable__label-arrow:before {content: \"▾\";}#sk-container-id-1 div.sk-estimator input.sk-toggleable__control:checked~label.sk-toggleable__label {background-color: #d4ebff;}#sk-container-id-1 div.sk-label input.sk-toggleable__control:checked~label.sk-toggleable__label {background-color: #d4ebff;}#sk-container-id-1 input.sk-hidden--visually {border: 0;clip: rect(1px 1px 1px 1px);clip: rect(1px, 1px, 1px, 1px);height: 1px;margin: -1px;overflow: hidden;padding: 0;position: absolute;width: 1px;}#sk-container-id-1 div.sk-estimator {font-family: monospace;background-color: #f0f8ff;border: 1px dotted black;border-radius: 0.25em;box-sizing: border-box;margin-bottom: 0.5em;}#sk-container-id-1 div.sk-estimator:hover {background-color: #d4ebff;}#sk-container-id-1 div.sk-parallel-item::after {content: \"\";width: 100%;border-bottom: 1px solid gray;flex-grow: 1;}#sk-container-id-1 div.sk-label:hover label.sk-toggleable__label {background-color: #d4ebff;}#sk-container-id-1 div.sk-serial::before {content: \"\";position: absolute;border-left: 1px solid gray;box-sizing: border-box;top: 0;bottom: 0;left: 50%;z-index: 0;}#sk-container-id-1 div.sk-serial {display: flex;flex-direction: column;align-items: center;background-color: white;padding-right: 0.2em;padding-left: 0.2em;position: relative;}#sk-container-id-1 div.sk-item {position: relative;z-index: 1;}#sk-container-id-1 div.sk-parallel {display: flex;align-items: stretch;justify-content: center;background-color: white;position: relative;}#sk-container-id-1 div.sk-item::before, #sk-container-id-1 div.sk-parallel-item::before {content: \"\";position: absolute;border-left: 1px solid gray;box-sizing: border-box;top: 0;bottom: 0;left: 50%;z-index: -1;}#sk-container-id-1 div.sk-parallel-item {display: flex;flex-direction: column;z-index: 1;position: relative;background-color: white;}#sk-container-id-1 div.sk-parallel-item:first-child::after {align-self: flex-end;width: 50%;}#sk-container-id-1 div.sk-parallel-item:last-child::after {align-self: flex-start;width: 50%;}#sk-container-id-1 div.sk-parallel-item:only-child::after {width: 0;}#sk-container-id-1 div.sk-dashed-wrapped {border: 1px dashed gray;margin: 0 0.4em 0.5em 0.4em;box-sizing: border-box;padding-bottom: 0.4em;background-color: white;}#sk-container-id-1 div.sk-label label {font-family: monospace;font-weight: bold;display: inline-block;line-height: 1.2em;}#sk-container-id-1 div.sk-label-container {text-align: center;}#sk-container-id-1 div.sk-container {/* jupyter's `normalize.less` sets `[hidden] { display: none; }` but bootstrap.min.css set `[hidden] { display: none !important; }` so we also need the `!important` here to be able to override the default hidden behavior on the sphinx rendered scikit-learn.org. See: https://github.com/scikit-learn/scikit-learn/issues/21755 */display: inline-block !important;position: relative;}#sk-container-id-1 div.sk-text-repr-fallback {display: none;}</style><div id=\"sk-container-id-1\" class=\"sk-top-container\"><div class=\"sk-text-repr-fallback\"><pre>Perceptron(eta0=0.1, max_iter=20000, tol=1e-05)</pre><b>In a Jupyter environment, please rerun this cell to show the HTML representation or trust the notebook. <br />On GitHub, the HTML representation is unable to render, please try loading this page with nbviewer.org.</b></div><div class=\"sk-container\" hidden><div class=\"sk-item\"><div class=\"sk-estimator sk-toggleable\"><input class=\"sk-toggleable__control sk-hidden--visually\" id=\"sk-estimator-id-1\" type=\"checkbox\" checked><label for=\"sk-estimator-id-1\" class=\"sk-toggleable__label sk-toggleable__label-arrow\">Perceptron</label><div class=\"sk-toggleable__content\"><pre>Perceptron(eta0=0.1, max_iter=20000, tol=1e-05)</pre></div></div></div></div></div>"
      ],
      "text/plain": [
       "Perceptron(eta0=0.1, max_iter=20000, tol=1e-05)"
      ]
     },
     "execution_count": 8,
     "metadata": {},
     "output_type": "execute_result"
    }
   ],
   "source": [
    "# Initializes and fits a perceptron model\n",
    "clf = Perceptron(tol=0.00001, eta0=0.1, max_iter=20000)\n",
    "clf.fit(X_train, np.ravel(y_train))"
   ]
  },
  {
   "cell_type": "code",
   "execution_count": 9,
   "id": "a82a2730-c61f-418d-b9e7-6f04a8484306",
   "metadata": {
    "execution": {
     "iopub.execute_input": "2023-07-26T13:27:29.636436Z",
     "iopub.status.busy": "2023-07-26T13:27:29.636359Z",
     "iopub.status.idle": "2023-07-26T13:27:29.638371Z",
     "shell.execute_reply": "2023-07-26T13:27:29.638126Z"
    }
   },
   "outputs": [],
   "source": [
    "# Creates a list of predictions from the test features\n",
    "y_pred = clf.predict(X_test)"
   ]
  },
  {
   "cell_type": "code",
   "execution_count": 10,
   "id": "0b529154-adaf-4a1c-a249-0732911cc46d",
   "metadata": {
    "execution": {
     "iopub.execute_input": "2023-07-26T13:27:29.639719Z",
     "iopub.status.busy": "2023-07-26T13:27:29.639645Z",
     "iopub.status.idle": "2023-07-26T13:27:29.641627Z",
     "shell.execute_reply": "2023-07-26T13:27:29.641387Z"
    }
   },
   "outputs": [
    {
     "data": {
      "text/plain": [
       "array([1, 1, 1, 0, 1, 1, 1, 1, 1, 0, 1, 0, 1, 0, 0, 1, 0, 0, 1, 0, 0, 1,\n",
       "       0, 0, 0, 1, 1, 1, 0, 1, 1, 0, 1, 1, 0, 1, 1, 1, 1, 1, 0, 1, 1, 1,\n",
       "       0, 1, 1, 1, 1, 1, 1, 1, 0, 1, 0, 1, 1, 0, 1, 1, 0, 1])"
      ]
     },
     "execution_count": 10,
     "metadata": {},
     "output_type": "execute_result"
    }
   ],
   "source": [
    "# Show model predictions\n",
    "y_pred"
   ]
  },
  {
   "cell_type": "code",
   "execution_count": 11,
   "id": "572b0d82-1eca-4eab-87ca-c94162e615e9",
   "metadata": {
    "execution": {
     "iopub.execute_input": "2023-07-26T13:27:29.642904Z",
     "iopub.status.busy": "2023-07-26T13:27:29.642831Z",
     "iopub.status.idle": "2023-07-26T13:27:29.644815Z",
     "shell.execute_reply": "2023-07-26T13:27:29.644597Z"
    }
   },
   "outputs": [
    {
     "data": {
      "text/plain": [
       "array([1, 1, 1, 1, 1, 1, 0, 1, 1, 0, 1, 0, 1, 1, 1, 1, 0, 1, 1, 1, 1, 1,\n",
       "       0, 1, 1, 1, 1, 1, 0, 1, 1, 1, 1, 0, 0, 0, 1, 1, 1, 1, 0, 1, 1, 1,\n",
       "       0, 1, 0, 1, 1, 0, 1, 1, 1, 1, 1, 0, 1, 1, 1, 1, 1, 0])"
      ]
     },
     "execution_count": 11,
     "metadata": {},
     "output_type": "execute_result"
    }
   ],
   "source": [
    "# Show actual values\n",
    "np.ravel(y_test)"
   ]
  },
  {
   "cell_type": "code",
   "execution_count": 12,
   "id": "27c5ef11-dd3b-485b-8592-b89e23b5a449",
   "metadata": {
    "execution": {
     "iopub.execute_input": "2023-07-26T13:27:29.646179Z",
     "iopub.status.busy": "2023-07-26T13:27:29.646112Z",
     "iopub.status.idle": "2023-07-26T13:27:29.647966Z",
     "shell.execute_reply": "2023-07-26T13:27:29.647739Z"
    }
   },
   "outputs": [
    {
     "name": "stdout",
     "output_type": "stream",
     "text": [
      "[[-0.20821401 -0.0879427  -0.30686072]]\n",
      "[0.1]\n"
     ]
    }
   ],
   "source": [
    "# Finds the weights\n",
    "print(clf.coef_)\n",
    "print(clf.intercept_)"
   ]
  },
  {
   "cell_type": "code",
   "execution_count": 13,
   "id": "f6be00fa-0e06-4c7c-866d-7a3121b82e74",
   "metadata": {
    "execution": {
     "iopub.execute_input": "2023-07-26T13:27:29.649265Z",
     "iopub.status.busy": "2023-07-26T13:27:29.649193Z",
     "iopub.status.idle": "2023-07-26T13:27:29.652078Z",
     "shell.execute_reply": "2023-07-26T13:27:29.651836Z"
    }
   },
   "outputs": [
    {
     "data": {
      "text/plain": [
       "0.6774193548387096"
      ]
     },
     "execution_count": 13,
     "metadata": {},
     "output_type": "execute_result"
    }
   ],
   "source": [
    "# Finds the accuracy score\n",
    "accuracy_score(y_pred, y_test)"
   ]
  },
  {
   "cell_type": "code",
   "execution_count": 14,
   "id": "666da360-7737-491b-a9f1-aae07201e42a",
   "metadata": {
    "execution": {
     "iopub.execute_input": "2023-07-26T13:27:29.653413Z",
     "iopub.status.busy": "2023-07-26T13:27:29.653340Z",
     "iopub.status.idle": "2023-07-26T13:27:29.786314Z",
     "shell.execute_reply": "2023-07-26T13:27:29.782304Z"
    }
   },
   "outputs": [
    {
     "data": {
      "text/plain": [
       "<Axes: >"
      ]
     },
     "execution_count": 14,
     "metadata": {},
     "output_type": "execute_result"
    },
    {
     "data": {
      "image/png": "[encoded data removed]",
      "text/plain": [
       "<Figure size 640x480 with 2 Axes>"
      ]
     },
     "metadata": {},
     "output_type": "display_data"
    }
   ],
   "source": [
    "# Displays a heatmap for the confusion matrix\n",
    "sns.heatmap(confusion_matrix(y_pred, y_test), annot=True)"
   ]
  },
  {
   "cell_type": "code",
   "execution_count": 15,
   "id": "a90abaac-d582-4021-ba4a-bfdde143b1f5",
   "metadata": {
    "execution": {
     "iopub.execute_input": "2023-07-26T13:27:29.793335Z",
     "iopub.status.busy": "2023-07-26T13:27:29.793023Z",
     "iopub.status.idle": "2023-07-26T13:27:29.808855Z",
     "shell.execute_reply": "2023-07-26T13:27:29.807903Z"
    }
   },
   "outputs": [
    {
     "name": "stdout",
     "output_type": "stream",
     "text": [
      "              precision    recall  f1-score   support\n",
      "\n",
      "           0       0.53      0.38      0.44        21\n",
      "           1       0.72      0.83      0.77        41\n",
      "\n",
      "    accuracy                           0.68        62\n",
      "   macro avg       0.63      0.61      0.61        62\n",
      "weighted avg       0.66      0.68      0.66        62\n",
      "\n"
     ]
    }
   ],
   "source": [
    "# Displays the classification report for the model\n",
    "print(classification_report(y_pred, y_test))"
   ]
  }
 ],
 "metadata": {
  "kernelspec": {
   "display_name": "Python 3 (ipykernel)",
   "language": "python",
   "name": "python3"
  },
  "language_info": {
   "codemirror_mode": {
    "name": "ipython",
    "version": 3
   },
   "file_extension": ".py",
   "mimetype": "text/x-python",
   "name": "python",
   "nbconvert_exporter": "python",
   "pygments_lexer": "ipython3",
   "version": "3.10.12"
  }
 },
 "nbformat": 4,
 "nbformat_minor": 5
}
