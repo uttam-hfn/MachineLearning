{
 "cells": [
  {
   "cell_type": "code",
   "execution_count": 1,
   "id": "b66ead05-7370-4fc4-8f1f-8febe8ffbf34",
   "metadata": {
    "execution": {
     "iopub.execute_input": "2023-07-26T13:26:54.765995Z",
     "iopub.status.busy": "2023-07-26T13:26:54.765543Z",
     "iopub.status.idle": "2023-07-26T13:26:55.401290Z",
     "shell.execute_reply": "2023-07-26T13:26:55.400946Z"
    }
   },
   "outputs": [],
   "source": [
    "# Import packages\n",
    "import pandas as pd\n",
    "import numpy as np\n",
    "import matplotlib.pyplot as plt\n",
    "from sklearn import metrics\n",
    "from sklearn.linear_model import LogisticRegression"
   ]
  },
  {
   "cell_type": "code",
   "execution_count": 2,
   "id": "08769f5d-9dc2-4415-87e3-a816b0c01d21",
   "metadata": {
    "execution": {
     "iopub.execute_input": "2023-07-26T13:26:55.403137Z",
     "iopub.status.busy": "2023-07-26T13:26:55.402933Z",
     "iopub.status.idle": "2023-07-26T13:26:55.408068Z",
     "shell.execute_reply": "2023-07-26T13:26:55.407820Z"
    }
   },
   "outputs": [],
   "source": [
    "# Load breast cancer data and hot encodes categorical variable\n",
    "WBCD = pd.read_csv(\"WisconsinBreastCancerDatabase.csv\")\n",
    "WBCD.loc[WBCD['Diagnosis'] == 'B', 'Diagnosis'] = 0\n",
    "WBCD.loc[WBCD['Diagnosis'] == 'M', 'Diagnosis'] = 1"
   ]
  },
  {
   "cell_type": "code",
   "execution_count": 3,
   "id": "e7be2863-b1a2-4f13-8bce-b51430eaa29d",
   "metadata": {
    "execution": {
     "iopub.execute_input": "2023-07-26T13:26:55.409592Z",
     "iopub.status.busy": "2023-07-26T13:26:55.409505Z",
     "iopub.status.idle": "2023-07-26T13:26:55.411918Z",
     "shell.execute_reply": "2023-07-26T13:26:55.411693Z"
    }
   },
   "outputs": [],
   "source": [
    "# Store relevant columns as variables\n",
    "X = WBCD[['Radius mean']].values.reshape(-1, 1)\n",
    "y = WBCD[['Diagnosis']].values.reshape(-1, 1).astype(int)"
   ]
  },
  {
   "cell_type": "code",
   "execution_count": 4,
   "id": "5a9df6a1-175e-4aed-aaa4-7dd28df736e5",
   "metadata": {
    "execution": {
     "iopub.execute_input": "2023-07-26T13:26:55.413244Z",
     "iopub.status.busy": "2023-07-26T13:26:55.413164Z",
     "iopub.status.idle": "2023-07-26T13:26:55.418886Z",
     "shell.execute_reply": "2023-07-26T13:26:55.418644Z"
    }
   },
   "outputs": [],
   "source": [
    "# Logistic regression predicting diagnosis from tumor radius\n",
    "logisticModel = LogisticRegression()\n",
    "logisticModel.fit(X, np.ravel(y.astype(int)))\n",
    "cutoff = 0.5\n",
    "yPredictedProb = logisticModel.predict_proba(X)[:, 1]\n",
    "yPredLowCutoff = []\n",
    "for i in range(0, yPredictedProb.size):\n",
    "    if yPredictedProb[i] < cutoff:\n",
    "        yPredLowCutoff.append(0)\n",
    "    else:\n",
    "        yPredLowCutoff.append(1)"
   ]
  },
  {
   "cell_type": "code",
   "execution_count": 5,
   "id": "8a5cca06",
   "metadata": {
    "execution": {
     "iopub.execute_input": "2023-07-26T13:26:55.420285Z",
     "iopub.status.busy": "2023-07-26T13:26:55.420210Z",
     "iopub.status.idle": "2023-07-26T13:26:55.424046Z",
     "shell.execute_reply": "2023-07-26T13:26:55.423797Z"
    }
   },
   "outputs": [
    {
     "data": {
      "text/plain": [
       "array([[333,  24],\n",
       "       [ 45, 167]])"
      ]
     },
     "execution_count": 5,
     "metadata": {},
     "output_type": "execute_result"
    }
   ],
   "source": [
    "# Display confusion matrix\n",
    "metrics.confusion_matrix(y, yPredLowCutoff)"
   ]
  },
  {
   "cell_type": "code",
   "execution_count": 6,
   "id": "7f9f92c3-4772-410e-8f6e-d7e6cd69be8c",
   "metadata": {
    "execution": {
     "iopub.execute_input": "2023-07-26T13:26:55.425466Z",
     "iopub.status.busy": "2023-07-26T13:26:55.425386Z",
     "iopub.status.idle": "2023-07-26T13:26:55.427692Z",
     "shell.execute_reply": "2023-07-26T13:26:55.427465Z"
    }
   },
   "outputs": [
    {
     "data": {
      "text/plain": [
       "0.8787346221441125"
      ]
     },
     "execution_count": 6,
     "metadata": {},
     "output_type": "execute_result"
    }
   ],
   "source": [
    "# Display accuracy\n",
    "metrics.accuracy_score(y, yPredLowCutoff)"
   ]
  },
  {
   "cell_type": "code",
   "execution_count": 7,
   "id": "7abb1acd-0f81-4d0d-9952-dccef7232475",
   "metadata": {
    "execution": {
     "iopub.execute_input": "2023-07-26T13:26:55.429071Z",
     "iopub.status.busy": "2023-07-26T13:26:55.428996Z",
     "iopub.status.idle": "2023-07-26T13:26:55.431920Z",
     "shell.execute_reply": "2023-07-26T13:26:55.431688Z"
    }
   },
   "outputs": [
    {
     "data": {
      "text/plain": [
       "0.8743455497382199"
      ]
     },
     "execution_count": 7,
     "metadata": {},
     "output_type": "execute_result"
    }
   ],
   "source": [
    "# Display precision\n",
    "metrics.precision_score(y, yPredLowCutoff)"
   ]
  },
  {
   "cell_type": "code",
   "execution_count": 8,
   "id": "59d58e6a-d4bd-449d-9266-51345c593acf",
   "metadata": {
    "execution": {
     "iopub.execute_input": "2023-07-26T13:26:55.433214Z",
     "iopub.status.busy": "2023-07-26T13:26:55.433134Z",
     "iopub.status.idle": "2023-07-26T13:26:55.435924Z",
     "shell.execute_reply": "2023-07-26T13:26:55.435678Z"
    }
   },
   "outputs": [
    {
     "data": {
      "text/plain": [
       "0.7877358490566038"
      ]
     },
     "execution_count": 8,
     "metadata": {},
     "output_type": "execute_result"
    }
   ],
   "source": [
    "# Display recall\n",
    "metrics.recall_score(y, yPredLowCutoff)"
   ]
  },
  {
   "cell_type": "code",
   "execution_count": 9,
   "id": "f69a2977-0f5d-4f20-8a8b-b6ce3f9e7c00",
   "metadata": {
    "execution": {
     "iopub.execute_input": "2023-07-26T13:26:55.437273Z",
     "iopub.status.busy": "2023-07-26T13:26:55.437199Z",
     "iopub.status.idle": "2023-07-26T13:26:55.560288Z",
     "shell.execute_reply": "2023-07-26T13:26:55.556524Z"
    }
   },
   "outputs": [
    {
     "data": {
      "image/png": "[encoded data removed]",
      "text/plain": [
       "<Figure size 640x480 with 1 Axes>"
      ]
     },
     "metadata": {},
     "output_type": "display_data"
    }
   ],
   "source": [
    "# Plot the ROC curve\n",
    "pred = logisticModel.predict_proba(X)[:, 1]\n",
    "fpr, tpr, thresholds = metrics.roc_curve(y, pred)\n",
    "roc_auc = metrics.auc(fpr, tpr)\n",
    "display = metrics.RocCurveDisplay(\n",
    "    fpr=fpr, tpr=tpr, roc_auc=roc_auc, pos_label='Malignant, 1'\n",
    ")\n",
    "display.plot()\n",
    "plt.show()"
   ]
  }
 ],
 "metadata": {
  "kernelspec": {
   "display_name": "Python 3 (ipykernel)",
   "language": "python",
   "name": "python3"
  },
  "language_info": {
   "codemirror_mode": {
    "name": "ipython",
    "version": 3
   },
   "file_extension": ".py",
   "mimetype": "text/x-python",
   "name": "python",
   "nbconvert_exporter": "python",
   "pygments_lexer": "ipython3",
   "version": "3.10.12"
  }
 },
 "nbformat": 4,
 "nbformat_minor": 5
}
