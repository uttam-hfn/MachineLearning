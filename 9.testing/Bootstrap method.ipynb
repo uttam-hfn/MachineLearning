{
 "cells": [
  {
   "cell_type": "code",
   "execution_count": 1,
   "id": "c0574c91-ef7d-4a9d-9b70-f0cb3386c4dd",
   "metadata": {
    "execution": {
     "iopub.execute_input": "2023-07-26T13:26:58.664872Z",
     "iopub.status.busy": "2023-07-26T13:26:58.664281Z",
     "iopub.status.idle": "2023-07-26T13:26:59.322413Z",
     "shell.execute_reply": "2023-07-26T13:26:59.322080Z"
    }
   },
   "outputs": [],
   "source": [
    "# Import packages and functions\n",
    "import matplotlib.pyplot as plt\n",
    "import pandas as pd\n",
    "import numpy as np\n",
    "from sklearn.utils import resample\n",
    "from sklearn.linear_model import LinearRegression\n",
    "from sklearn.metrics import mean_squared_error"
   ]
  },
  {
   "cell_type": "code",
   "execution_count": 2,
   "id": "576ca686-8346-47e9-9ed9-df03bee119f4",
   "metadata": {
    "execution": {
     "iopub.execute_input": "2023-07-26T13:26:59.324331Z",
     "iopub.status.busy": "2023-07-26T13:26:59.324119Z",
     "iopub.status.idle": "2023-07-26T13:26:59.327670Z",
     "shell.execute_reply": "2023-07-26T13:26:59.327418Z"
    }
   },
   "outputs": [],
   "source": [
    "# Load data set\n",
    "badDrivers = pd.read_csv('bad-drivers.csv')"
   ]
  },
  {
   "cell_type": "code",
   "execution_count": 3,
   "id": "9c169db7-b0ba-4680-a447-e7c877675eb0",
   "metadata": {
    "execution": {
     "iopub.execute_input": "2023-07-26T13:26:59.328998Z",
     "iopub.status.busy": "2023-07-26T13:26:59.328925Z",
     "iopub.status.idle": "2023-07-26T13:26:59.363278Z",
     "shell.execute_reply": "2023-07-26T13:26:59.362984Z"
    }
   },
   "outputs": [],
   "source": [
    "# Create bootstrap samples and collect errors\n",
    "\n",
    "bootstrapErrors = []\n",
    "for i in range(0, 30):\n",
    "    # Create the bootstrap sample and the out-of-bag sample\n",
    "    boot = resample(badDrivers, replace=True, n_samples=51)\n",
    "    oob = badDrivers[~badDrivers.index.isin(boot.index)]\n",
    "\n",
    "    # Fit a linear model to the bootstrap sample\n",
    "    XBoot = boot[\n",
    "        ['Losses incurred by insurance companies for collisions per insured driver ($)']\n",
    "    ].values.reshape(-1, 1)\n",
    "    yBoot = boot[['Car Insurance Premiums ($)']].values.reshape(-1, 1)\n",
    "    linModel = LinearRegression()\n",
    "    linModel.fit(XBoot, yBoot)\n",
    "\n",
    "    # Predict y values for the out-of-bag sample\n",
    "    XOob = oob[\n",
    "        ['Losses incurred by insurance companies for collisions per insured driver ($)']\n",
    "    ].values.reshape(-1, 1)\n",
    "    YOob = oob[['Car Insurance Premiums ($)']].values.reshape(-1, 1)\n",
    "    YOobPredicted = linModel.predict(XOob)\n",
    "\n",
    "    # Calculate the error\n",
    "    bootError = mean_squared_error(YOob, YOobPredicted)\n",
    "    bootstrapErrors.append(bootError)"
   ]
  },
  {
   "cell_type": "code",
   "execution_count": 4,
   "id": "a038b6b5-06a5-4d7f-9b14-1de6c7c00265",
   "metadata": {
    "execution": {
     "iopub.execute_input": "2023-07-26T13:26:59.364719Z",
     "iopub.status.busy": "2023-07-26T13:26:59.364631Z",
     "iopub.status.idle": "2023-07-26T13:26:59.368105Z",
     "shell.execute_reply": "2023-07-26T13:26:59.367855Z"
    }
   },
   "outputs": [
    {
     "data": {
      "text/plain": [
       "21177.72496866153"
      ]
     },
     "execution_count": 4,
     "metadata": {},
     "output_type": "execute_result"
    }
   ],
   "source": [
    "# Calculate the mean of the errors\n",
    "np.mean(bootstrapErrors)"
   ]
  },
  {
   "cell_type": "code",
   "execution_count": 5,
   "id": "d0511ed8-9239-43a5-aff7-4d04f28363ef",
   "metadata": {
    "execution": {
     "iopub.execute_input": "2023-07-26T13:26:59.369469Z",
     "iopub.status.busy": "2023-07-26T13:26:59.369392Z",
     "iopub.status.idle": "2023-07-26T13:26:59.371388Z",
     "shell.execute_reply": "2023-07-26T13:26:59.371166Z"
    }
   },
   "outputs": [
    {
     "data": {
      "text/plain": [
       "5073.939338686727"
      ]
     },
     "execution_count": 5,
     "metadata": {},
     "output_type": "execute_result"
    }
   ],
   "source": [
    "# Calculate the standard deviation of the errors\n",
    "np.std(bootstrapErrors)"
   ]
  },
  {
   "cell_type": "code",
   "execution_count": 6,
   "id": "39fc1edc-5650-43e0-a66d-a7f5862dddf3",
   "metadata": {
    "execution": {
     "iopub.execute_input": "2023-07-26T13:26:59.372837Z",
     "iopub.status.busy": "2023-07-26T13:26:59.372761Z",
     "iopub.status.idle": "2023-07-26T13:26:59.468307Z",
     "shell.execute_reply": "2023-07-26T13:26:59.466735Z"
    }
   },
   "outputs": [
    {
     "data": {
      "text/plain": [
       "[]"
      ]
     },
     "execution_count": 6,
     "metadata": {},
     "output_type": "execute_result"
    },
    {
     "data": {
      "image/png": "[encoded data removed]",
      "text/plain": [
       "<Figure size 640x480 with 1 Axes>"
      ]
     },
     "metadata": {},
     "output_type": "display_data"
    }
   ],
   "source": [
    "# Plot the errors\n",
    "plt.plot(bootstrapErrors, np.zeros_like(bootstrapErrors), '.')\n",
    "plt.xlabel('Bootstrap errors (MSE)', fontsize=14)\n",
    "plt.gca().axes.yaxis.set_ticks([])"
   ]
  }
 ],
 "metadata": {
  "kernelspec": {
   "display_name": "Python 3 (ipykernel)",
   "language": "python",
   "name": "python3"
  },
  "language_info": {
   "codemirror_mode": {
    "name": "ipython",
    "version": 3
   },
   "file_extension": ".py",
   "mimetype": "text/x-python",
   "name": "python",
   "nbconvert_exporter": "python",
   "pygments_lexer": "ipython3",
   "version": "3.10.12"
  },
  "widgets": {
   "application/vnd.jupyter.widget-state+json": {
    "state": {},
    "version_major": 2,
    "version_minor": 0
   }
  }
 },
 "nbformat": 4,
 "nbformat_minor": 5
}
