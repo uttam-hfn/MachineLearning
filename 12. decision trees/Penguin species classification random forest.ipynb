{
 "cells": [
  {
   "cell_type": "code",
   "execution_count": 1,
   "id": "b6ce2273-1aea-4c27-ae88-30c77e767336",
   "metadata": {
    "execution": {
     "iopub.execute_input": "2023-07-26T13:27:15.495509Z",
     "iopub.status.busy": "2023-07-26T13:27:15.495080Z",
     "iopub.status.idle": "2023-07-26T13:27:16.373801Z",
     "shell.execute_reply": "2023-07-26T13:27:16.373479Z"
    }
   },
   "outputs": [],
   "source": [
    "# Import packages and functions\n",
    "import pandas as pd\n",
    "import matplotlib.pyplot as plt\n",
    "\n",
    "from sklearn import metrics, tree\n",
    "from sklearn.ensemble import RandomForestClassifier\n",
    "from sklearn.model_selection import train_test_split\n",
    "from palmerpenguins import load_penguins"
   ]
  },
  {
   "cell_type": "code",
   "execution_count": 2,
   "id": "8ea81bb4-eccf-4e8f-a01e-cb55b65503f1",
   "metadata": {
    "execution": {
     "iopub.execute_input": "2023-07-26T13:27:16.375498Z",
     "iopub.status.busy": "2023-07-26T13:27:16.375371Z",
     "iopub.status.idle": "2023-07-26T13:27:16.387990Z",
     "shell.execute_reply": "2023-07-26T13:27:16.387717Z"
    }
   },
   "outputs": [
    {
     "data": {
      "text/html": [
       "<div>\n",
       "<style scoped>\n",
       "    .dataframe tbody tr th:only-of-type {\n",
       "        vertical-align: middle;\n",
       "    }\n",
       "\n",
       "    .dataframe tbody tr th {\n",
       "        vertical-align: top;\n",
       "    }\n",
       "\n",
       "    .dataframe thead th {\n",
       "        text-align: right;\n",
       "    }\n",
       "</style>\n",
       "<table border=\"1\" class=\"dataframe\">\n",
       "  <thead>\n",
       "    <tr style=\"text-align: right;\">\n",
       "      <th></th>\n",
       "      <th>species</th>\n",
       "      <th>island</th>\n",
       "      <th>bill_length_mm</th>\n",
       "      <th>bill_depth_mm</th>\n",
       "      <th>flipper_length_mm</th>\n",
       "      <th>body_mass_g</th>\n",
       "      <th>sex</th>\n",
       "      <th>year</th>\n",
       "    </tr>\n",
       "  </thead>\n",
       "  <tbody>\n",
       "    <tr>\n",
       "      <th>count</th>\n",
       "      <td>333</td>\n",
       "      <td>333</td>\n",
       "      <td>333.000000</td>\n",
       "      <td>333.000000</td>\n",
       "      <td>333.000000</td>\n",
       "      <td>333.000000</td>\n",
       "      <td>333</td>\n",
       "      <td>333.000000</td>\n",
       "    </tr>\n",
       "    <tr>\n",
       "      <th>unique</th>\n",
       "      <td>3</td>\n",
       "      <td>3</td>\n",
       "      <td>NaN</td>\n",
       "      <td>NaN</td>\n",
       "      <td>NaN</td>\n",
       "      <td>NaN</td>\n",
       "      <td>2</td>\n",
       "      <td>NaN</td>\n",
       "    </tr>\n",
       "    <tr>\n",
       "      <th>top</th>\n",
       "      <td>Adelie</td>\n",
       "      <td>Biscoe</td>\n",
       "      <td>NaN</td>\n",
       "      <td>NaN</td>\n",
       "      <td>NaN</td>\n",
       "      <td>NaN</td>\n",
       "      <td>male</td>\n",
       "      <td>NaN</td>\n",
       "    </tr>\n",
       "    <tr>\n",
       "      <th>freq</th>\n",
       "      <td>146</td>\n",
       "      <td>163</td>\n",
       "      <td>NaN</td>\n",
       "      <td>NaN</td>\n",
       "      <td>NaN</td>\n",
       "      <td>NaN</td>\n",
       "      <td>168</td>\n",
       "      <td>NaN</td>\n",
       "    </tr>\n",
       "    <tr>\n",
       "      <th>mean</th>\n",
       "      <td>NaN</td>\n",
       "      <td>NaN</td>\n",
       "      <td>43.992793</td>\n",
       "      <td>17.164865</td>\n",
       "      <td>200.966967</td>\n",
       "      <td>4207.057057</td>\n",
       "      <td>NaN</td>\n",
       "      <td>2008.042042</td>\n",
       "    </tr>\n",
       "    <tr>\n",
       "      <th>std</th>\n",
       "      <td>NaN</td>\n",
       "      <td>NaN</td>\n",
       "      <td>5.468668</td>\n",
       "      <td>1.969235</td>\n",
       "      <td>14.015765</td>\n",
       "      <td>805.215802</td>\n",
       "      <td>NaN</td>\n",
       "      <td>0.812944</td>\n",
       "    </tr>\n",
       "    <tr>\n",
       "      <th>min</th>\n",
       "      <td>NaN</td>\n",
       "      <td>NaN</td>\n",
       "      <td>32.100000</td>\n",
       "      <td>13.100000</td>\n",
       "      <td>172.000000</td>\n",
       "      <td>2700.000000</td>\n",
       "      <td>NaN</td>\n",
       "      <td>2007.000000</td>\n",
       "    </tr>\n",
       "    <tr>\n",
       "      <th>25%</th>\n",
       "      <td>NaN</td>\n",
       "      <td>NaN</td>\n",
       "      <td>39.500000</td>\n",
       "      <td>15.600000</td>\n",
       "      <td>190.000000</td>\n",
       "      <td>3550.000000</td>\n",
       "      <td>NaN</td>\n",
       "      <td>2007.000000</td>\n",
       "    </tr>\n",
       "    <tr>\n",
       "      <th>50%</th>\n",
       "      <td>NaN</td>\n",
       "      <td>NaN</td>\n",
       "      <td>44.500000</td>\n",
       "      <td>17.300000</td>\n",
       "      <td>197.000000</td>\n",
       "      <td>4050.000000</td>\n",
       "      <td>NaN</td>\n",
       "      <td>2008.000000</td>\n",
       "    </tr>\n",
       "    <tr>\n",
       "      <th>75%</th>\n",
       "      <td>NaN</td>\n",
       "      <td>NaN</td>\n",
       "      <td>48.600000</td>\n",
       "      <td>18.700000</td>\n",
       "      <td>213.000000</td>\n",
       "      <td>4775.000000</td>\n",
       "      <td>NaN</td>\n",
       "      <td>2009.000000</td>\n",
       "    </tr>\n",
       "    <tr>\n",
       "      <th>max</th>\n",
       "      <td>NaN</td>\n",
       "      <td>NaN</td>\n",
       "      <td>59.600000</td>\n",
       "      <td>21.500000</td>\n",
       "      <td>231.000000</td>\n",
       "      <td>6300.000000</td>\n",
       "      <td>NaN</td>\n",
       "      <td>2009.000000</td>\n",
       "    </tr>\n",
       "  </tbody>\n",
       "</table>\n",
       "</div>"
      ],
      "text/plain": [
       "       species  island  bill_length_mm  bill_depth_mm  flipper_length_mm  \\\n",
       "count      333     333      333.000000     333.000000         333.000000   \n",
       "unique       3       3             NaN            NaN                NaN   \n",
       "top     Adelie  Biscoe             NaN            NaN                NaN   \n",
       "freq       146     163             NaN            NaN                NaN   \n",
       "mean       NaN     NaN       43.992793      17.164865         200.966967   \n",
       "std        NaN     NaN        5.468668       1.969235          14.015765   \n",
       "min        NaN     NaN       32.100000      13.100000         172.000000   \n",
       "25%        NaN     NaN       39.500000      15.600000         190.000000   \n",
       "50%        NaN     NaN       44.500000      17.300000         197.000000   \n",
       "75%        NaN     NaN       48.600000      18.700000         213.000000   \n",
       "max        NaN     NaN       59.600000      21.500000         231.000000   \n",
       "\n",
       "        body_mass_g   sex         year  \n",
       "count    333.000000   333   333.000000  \n",
       "unique          NaN     2          NaN  \n",
       "top             NaN  male          NaN  \n",
       "freq            NaN   168          NaN  \n",
       "mean    4207.057057   NaN  2008.042042  \n",
       "std      805.215802   NaN     0.812944  \n",
       "min     2700.000000   NaN  2007.000000  \n",
       "25%     3550.000000   NaN  2007.000000  \n",
       "50%     4050.000000   NaN  2008.000000  \n",
       "75%     4775.000000   NaN  2009.000000  \n",
       "max     6300.000000   NaN  2009.000000  "
      ]
     },
     "execution_count": 2,
     "metadata": {},
     "output_type": "execute_result"
    }
   ],
   "source": [
    "# Load the penguins data from palmerpenguins module\n",
    "penguins = load_penguins()\n",
    "\n",
    "# Drop penguins with missing values\n",
    "penguins = penguins.dropna()\n",
    "\n",
    "# Calculate summary statistics using .describe()\n",
    "penguins.describe(include='all')"
   ]
  },
  {
   "cell_type": "code",
   "execution_count": 3,
   "id": "194c1f41-1aca-48be-b3f7-cae49c4cd39f",
   "metadata": {
    "execution": {
     "iopub.execute_input": "2023-07-26T13:27:16.389472Z",
     "iopub.status.busy": "2023-07-26T13:27:16.389390Z",
     "iopub.status.idle": "2023-07-26T13:27:16.396962Z",
     "shell.execute_reply": "2023-07-26T13:27:16.396680Z"
    },
    "tags": []
   },
   "outputs": [
    {
     "data": {
      "text/html": [
       "<div>\n",
       "<style scoped>\n",
       "    .dataframe tbody tr th:only-of-type {\n",
       "        vertical-align: middle;\n",
       "    }\n",
       "\n",
       "    .dataframe tbody tr th {\n",
       "        vertical-align: top;\n",
       "    }\n",
       "\n",
       "    .dataframe thead th {\n",
       "        text-align: right;\n",
       "    }\n",
       "</style>\n",
       "<table border=\"1\" class=\"dataframe\">\n",
       "  <thead>\n",
       "    <tr style=\"text-align: right;\">\n",
       "      <th></th>\n",
       "      <th>bill_length_mm</th>\n",
       "      <th>bill_depth_mm</th>\n",
       "      <th>flipper_length_mm</th>\n",
       "      <th>body_mass_g</th>\n",
       "      <th>year</th>\n",
       "      <th>island_Dream</th>\n",
       "      <th>island_Torgersen</th>\n",
       "      <th>sex_male</th>\n",
       "    </tr>\n",
       "  </thead>\n",
       "  <tbody>\n",
       "    <tr>\n",
       "      <th>0</th>\n",
       "      <td>39.1</td>\n",
       "      <td>18.7</td>\n",
       "      <td>181.0</td>\n",
       "      <td>3750.0</td>\n",
       "      <td>2007</td>\n",
       "      <td>0</td>\n",
       "      <td>1</td>\n",
       "      <td>1</td>\n",
       "    </tr>\n",
       "    <tr>\n",
       "      <th>1</th>\n",
       "      <td>39.5</td>\n",
       "      <td>17.4</td>\n",
       "      <td>186.0</td>\n",
       "      <td>3800.0</td>\n",
       "      <td>2007</td>\n",
       "      <td>0</td>\n",
       "      <td>1</td>\n",
       "      <td>0</td>\n",
       "    </tr>\n",
       "    <tr>\n",
       "      <th>2</th>\n",
       "      <td>40.3</td>\n",
       "      <td>18.0</td>\n",
       "      <td>195.0</td>\n",
       "      <td>3250.0</td>\n",
       "      <td>2007</td>\n",
       "      <td>0</td>\n",
       "      <td>1</td>\n",
       "      <td>0</td>\n",
       "    </tr>\n",
       "    <tr>\n",
       "      <th>4</th>\n",
       "      <td>36.7</td>\n",
       "      <td>19.3</td>\n",
       "      <td>193.0</td>\n",
       "      <td>3450.0</td>\n",
       "      <td>2007</td>\n",
       "      <td>0</td>\n",
       "      <td>1</td>\n",
       "      <td>0</td>\n",
       "    </tr>\n",
       "    <tr>\n",
       "      <th>5</th>\n",
       "      <td>39.3</td>\n",
       "      <td>20.6</td>\n",
       "      <td>190.0</td>\n",
       "      <td>3650.0</td>\n",
       "      <td>2007</td>\n",
       "      <td>0</td>\n",
       "      <td>1</td>\n",
       "      <td>1</td>\n",
       "    </tr>\n",
       "    <tr>\n",
       "      <th>...</th>\n",
       "      <td>...</td>\n",
       "      <td>...</td>\n",
       "      <td>...</td>\n",
       "      <td>...</td>\n",
       "      <td>...</td>\n",
       "      <td>...</td>\n",
       "      <td>...</td>\n",
       "      <td>...</td>\n",
       "    </tr>\n",
       "    <tr>\n",
       "      <th>339</th>\n",
       "      <td>55.8</td>\n",
       "      <td>19.8</td>\n",
       "      <td>207.0</td>\n",
       "      <td>4000.0</td>\n",
       "      <td>2009</td>\n",
       "      <td>1</td>\n",
       "      <td>0</td>\n",
       "      <td>1</td>\n",
       "    </tr>\n",
       "    <tr>\n",
       "      <th>340</th>\n",
       "      <td>43.5</td>\n",
       "      <td>18.1</td>\n",
       "      <td>202.0</td>\n",
       "      <td>3400.0</td>\n",
       "      <td>2009</td>\n",
       "      <td>1</td>\n",
       "      <td>0</td>\n",
       "      <td>0</td>\n",
       "    </tr>\n",
       "    <tr>\n",
       "      <th>341</th>\n",
       "      <td>49.6</td>\n",
       "      <td>18.2</td>\n",
       "      <td>193.0</td>\n",
       "      <td>3775.0</td>\n",
       "      <td>2009</td>\n",
       "      <td>1</td>\n",
       "      <td>0</td>\n",
       "      <td>1</td>\n",
       "    </tr>\n",
       "    <tr>\n",
       "      <th>342</th>\n",
       "      <td>50.8</td>\n",
       "      <td>19.0</td>\n",
       "      <td>210.0</td>\n",
       "      <td>4100.0</td>\n",
       "      <td>2009</td>\n",
       "      <td>1</td>\n",
       "      <td>0</td>\n",
       "      <td>1</td>\n",
       "    </tr>\n",
       "    <tr>\n",
       "      <th>343</th>\n",
       "      <td>50.2</td>\n",
       "      <td>18.7</td>\n",
       "      <td>198.0</td>\n",
       "      <td>3775.0</td>\n",
       "      <td>2009</td>\n",
       "      <td>1</td>\n",
       "      <td>0</td>\n",
       "      <td>0</td>\n",
       "    </tr>\n",
       "  </tbody>\n",
       "</table>\n",
       "<p>333 rows × 8 columns</p>\n",
       "</div>"
      ],
      "text/plain": [
       "     bill_length_mm  bill_depth_mm  flipper_length_mm  body_mass_g  year  \\\n",
       "0              39.1           18.7              181.0       3750.0  2007   \n",
       "1              39.5           17.4              186.0       3800.0  2007   \n",
       "2              40.3           18.0              195.0       3250.0  2007   \n",
       "4              36.7           19.3              193.0       3450.0  2007   \n",
       "5              39.3           20.6              190.0       3650.0  2007   \n",
       "..              ...            ...                ...          ...   ...   \n",
       "339            55.8           19.8              207.0       4000.0  2009   \n",
       "340            43.5           18.1              202.0       3400.0  2009   \n",
       "341            49.6           18.2              193.0       3775.0  2009   \n",
       "342            50.8           19.0              210.0       4100.0  2009   \n",
       "343            50.2           18.7              198.0       3775.0  2009   \n",
       "\n",
       "     island_Dream  island_Torgersen  sex_male  \n",
       "0               0                 1         1  \n",
       "1               0                 1         0  \n",
       "2               0                 1         0  \n",
       "4               0                 1         0  \n",
       "5               0                 1         1  \n",
       "..            ...               ...       ...  \n",
       "339             1                 0         1  \n",
       "340             1                 0         0  \n",
       "341             1                 0         1  \n",
       "342             1                 0         1  \n",
       "343             1                 0         0  \n",
       "\n",
       "[333 rows x 8 columns]"
      ]
     },
     "execution_count": 3,
     "metadata": {},
     "output_type": "execute_result"
    }
   ],
   "source": [
    "# y = output features\n",
    "y = penguins['species']\n",
    "\n",
    "# X = input features\n",
    "X = penguins.drop('species', axis=1)\n",
    "\n",
    "# Convert categorical inputs like species and island into dummy variables\n",
    "X = pd.get_dummies(X, drop_first=True)\n",
    "\n",
    "X"
   ]
  },
  {
   "cell_type": "code",
   "execution_count": 4,
   "id": "79da18c9-f41d-41e7-aae0-d5fa009cdd13",
   "metadata": {
    "execution": {
     "iopub.execute_input": "2023-07-26T13:27:16.398509Z",
     "iopub.status.busy": "2023-07-26T13:27:16.398397Z",
     "iopub.status.idle": "2023-07-26T13:27:16.448839Z",
     "shell.execute_reply": "2023-07-26T13:27:16.448568Z"
    }
   },
   "outputs": [
    {
     "data": {
      "text/html": [
       "<style>#sk-container-id-1 {color: black;background-color: white;}#sk-container-id-1 pre{padding: 0;}#sk-container-id-1 div.sk-toggleable {background-color: white;}#sk-container-id-1 label.sk-toggleable__label {cursor: pointer;display: block;width: 100%;margin-bottom: 0;padding: 0.3em;box-sizing: border-box;text-align: center;}#sk-container-id-1 label.sk-toggleable__label-arrow:before {content: \"▸\";float: left;margin-right: 0.25em;color: #696969;}#sk-container-id-1 label.sk-toggleable__label-arrow:hover:before {color: black;}#sk-container-id-1 div.sk-estimator:hover label.sk-toggleable__label-arrow:before {color: black;}#sk-container-id-1 div.sk-toggleable__content {max-height: 0;max-width: 0;overflow: hidden;text-align: left;background-color: #f0f8ff;}#sk-container-id-1 div.sk-toggleable__content pre {margin: 0.2em;color: black;border-radius: 0.25em;background-color: #f0f8ff;}#sk-container-id-1 input.sk-toggleable__control:checked~div.sk-toggleable__content {max-height: 200px;max-width: 100%;overflow: auto;}#sk-container-id-1 input.sk-toggleable__control:checked~label.sk-toggleable__label-arrow:before {content: \"▾\";}#sk-container-id-1 div.sk-estimator input.sk-toggleable__control:checked~label.sk-toggleable__label {background-color: #d4ebff;}#sk-container-id-1 div.sk-label input.sk-toggleable__control:checked~label.sk-toggleable__label {background-color: #d4ebff;}#sk-container-id-1 input.sk-hidden--visually {border: 0;clip: rect(1px 1px 1px 1px);clip: rect(1px, 1px, 1px, 1px);height: 1px;margin: -1px;overflow: hidden;padding: 0;position: absolute;width: 1px;}#sk-container-id-1 div.sk-estimator {font-family: monospace;background-color: #f0f8ff;border: 1px dotted black;border-radius: 0.25em;box-sizing: border-box;margin-bottom: 0.5em;}#sk-container-id-1 div.sk-estimator:hover {background-color: #d4ebff;}#sk-container-id-1 div.sk-parallel-item::after {content: \"\";width: 100%;border-bottom: 1px solid gray;flex-grow: 1;}#sk-container-id-1 div.sk-label:hover label.sk-toggleable__label {background-color: #d4ebff;}#sk-container-id-1 div.sk-serial::before {content: \"\";position: absolute;border-left: 1px solid gray;box-sizing: border-box;top: 0;bottom: 0;left: 50%;z-index: 0;}#sk-container-id-1 div.sk-serial {display: flex;flex-direction: column;align-items: center;background-color: white;padding-right: 0.2em;padding-left: 0.2em;position: relative;}#sk-container-id-1 div.sk-item {position: relative;z-index: 1;}#sk-container-id-1 div.sk-parallel {display: flex;align-items: stretch;justify-content: center;background-color: white;position: relative;}#sk-container-id-1 div.sk-item::before, #sk-container-id-1 div.sk-parallel-item::before {content: \"\";position: absolute;border-left: 1px solid gray;box-sizing: border-box;top: 0;bottom: 0;left: 50%;z-index: -1;}#sk-container-id-1 div.sk-parallel-item {display: flex;flex-direction: column;z-index: 1;position: relative;background-color: white;}#sk-container-id-1 div.sk-parallel-item:first-child::after {align-self: flex-end;width: 50%;}#sk-container-id-1 div.sk-parallel-item:last-child::after {align-self: flex-start;width: 50%;}#sk-container-id-1 div.sk-parallel-item:only-child::after {width: 0;}#sk-container-id-1 div.sk-dashed-wrapped {border: 1px dashed gray;margin: 0 0.4em 0.5em 0.4em;box-sizing: border-box;padding-bottom: 0.4em;background-color: white;}#sk-container-id-1 div.sk-label label {font-family: monospace;font-weight: bold;display: inline-block;line-height: 1.2em;}#sk-container-id-1 div.sk-label-container {text-align: center;}#sk-container-id-1 div.sk-container {/* jupyter's `normalize.less` sets `[hidden] { display: none; }` but bootstrap.min.css set `[hidden] { display: none !important; }` so we also need the `!important` here to be able to override the default hidden behavior on the sphinx rendered scikit-learn.org. See: https://github.com/scikit-learn/scikit-learn/issues/21755 */display: inline-block !important;position: relative;}#sk-container-id-1 div.sk-text-repr-fallback {display: none;}</style><div id=\"sk-container-id-1\" class=\"sk-top-container\"><div class=\"sk-text-repr-fallback\"><pre>RandomForestClassifier(max_depth=2, random_state=99)</pre><b>In a Jupyter environment, please rerun this cell to show the HTML representation or trust the notebook. <br />On GitHub, the HTML representation is unable to render, please try loading this page with nbviewer.org.</b></div><div class=\"sk-container\" hidden><div class=\"sk-item\"><div class=\"sk-estimator sk-toggleable\"><input class=\"sk-toggleable__control sk-hidden--visually\" id=\"sk-estimator-id-1\" type=\"checkbox\" checked><label for=\"sk-estimator-id-1\" class=\"sk-toggleable__label sk-toggleable__label-arrow\">RandomForestClassifier</label><div class=\"sk-toggleable__content\"><pre>RandomForestClassifier(max_depth=2, random_state=99)</pre></div></div></div></div></div>"
      ],
      "text/plain": [
       "RandomForestClassifier(max_depth=2, random_state=99)"
      ]
     },
     "execution_count": 4,
     "metadata": {},
     "output_type": "execute_result"
    }
   ],
   "source": [
    "# Create a training/testing split\n",
    "X_train, X_test, y_train, y_test = train_test_split(\n",
    "    X, y, test_size=0.3, random_state=8675309\n",
    ")\n",
    "\n",
    "# Initialize the random forest model\n",
    "rfModel = RandomForestClassifier(max_depth=2, max_features='sqrt', random_state=99)\n",
    "\n",
    "# Fit the random forest model on the training data\n",
    "rfModel.fit(X_train, y_train)"
   ]
  },
  {
   "cell_type": "code",
   "execution_count": 5,
   "id": "25e9ed06-b795-454d-9fe7-4ce326c726ea",
   "metadata": {
    "execution": {
     "iopub.execute_input": "2023-07-26T13:27:16.450372Z",
     "iopub.status.busy": "2023-07-26T13:27:16.450288Z",
     "iopub.status.idle": "2023-07-26T13:27:16.456703Z",
     "shell.execute_reply": "2023-07-26T13:27:16.456457Z"
    }
   },
   "outputs": [
    {
     "data": {
      "text/html": [
       "<div>\n",
       "<style scoped>\n",
       "    .dataframe tbody tr th:only-of-type {\n",
       "        vertical-align: middle;\n",
       "    }\n",
       "\n",
       "    .dataframe tbody tr th {\n",
       "        vertical-align: top;\n",
       "    }\n",
       "\n",
       "    .dataframe thead th {\n",
       "        text-align: right;\n",
       "    }\n",
       "</style>\n",
       "<table border=\"1\" class=\"dataframe\">\n",
       "  <thead>\n",
       "    <tr style=\"text-align: right;\">\n",
       "      <th></th>\n",
       "      <th>feature</th>\n",
       "      <th>importance</th>\n",
       "    </tr>\n",
       "  </thead>\n",
       "  <tbody>\n",
       "    <tr>\n",
       "      <th>2</th>\n",
       "      <td>flipper_length_mm</td>\n",
       "      <td>0.233537</td>\n",
       "    </tr>\n",
       "    <tr>\n",
       "      <th>1</th>\n",
       "      <td>bill_depth_mm</td>\n",
       "      <td>0.221468</td>\n",
       "    </tr>\n",
       "    <tr>\n",
       "      <th>0</th>\n",
       "      <td>bill_length_mm</td>\n",
       "      <td>0.215703</td>\n",
       "    </tr>\n",
       "    <tr>\n",
       "      <th>3</th>\n",
       "      <td>body_mass_g</td>\n",
       "      <td>0.192141</td>\n",
       "    </tr>\n",
       "    <tr>\n",
       "      <th>5</th>\n",
       "      <td>island_Dream</td>\n",
       "      <td>0.108376</td>\n",
       "    </tr>\n",
       "    <tr>\n",
       "      <th>6</th>\n",
       "      <td>island_Torgersen</td>\n",
       "      <td>0.026108</td>\n",
       "    </tr>\n",
       "    <tr>\n",
       "      <th>7</th>\n",
       "      <td>sex_male</td>\n",
       "      <td>0.001715</td>\n",
       "    </tr>\n",
       "    <tr>\n",
       "      <th>4</th>\n",
       "      <td>year</td>\n",
       "      <td>0.000951</td>\n",
       "    </tr>\n",
       "  </tbody>\n",
       "</table>\n",
       "</div>"
      ],
      "text/plain": [
       "             feature  importance\n",
       "2  flipper_length_mm    0.233537\n",
       "1      bill_depth_mm    0.221468\n",
       "0     bill_length_mm    0.215703\n",
       "3        body_mass_g    0.192141\n",
       "5       island_Dream    0.108376\n",
       "6   island_Torgersen    0.026108\n",
       "7           sex_male    0.001715\n",
       "4               year    0.000951"
      ]
     },
     "execution_count": 5,
     "metadata": {},
     "output_type": "execute_result"
    }
   ],
   "source": [
    "pd.DataFrame(\n",
    "    data={\n",
    "        'feature': rfModel.feature_names_in_,\n",
    "        'importance': rfModel.feature_importances_,\n",
    "    }\n",
    ").sort_values('importance', ascending=False)"
   ]
  },
  {
   "cell_type": "code",
   "execution_count": 6,
   "id": "6a7f5176-b126-4a22-9859-539725ed8e41",
   "metadata": {
    "execution": {
     "iopub.execute_input": "2023-07-26T13:27:16.458104Z",
     "iopub.status.busy": "2023-07-26T13:27:16.458021Z",
     "iopub.status.idle": "2023-07-26T13:27:16.463273Z",
     "shell.execute_reply": "2023-07-26T13:27:16.463039Z"
    }
   },
   "outputs": [],
   "source": [
    "# Predict species on the testing data\n",
    "y_pred = rfModel.predict(X_test)"
   ]
  },
  {
   "cell_type": "code",
   "execution_count": 7,
   "id": "b469fd28-068c-42bd-8f8d-d4b9114cca3a",
   "metadata": {
    "execution": {
     "iopub.execute_input": "2023-07-26T13:27:16.464563Z",
     "iopub.status.busy": "2023-07-26T13:27:16.464489Z",
     "iopub.status.idle": "2023-07-26T13:27:16.567976Z",
     "shell.execute_reply": "2023-07-26T13:27:16.566980Z"
    }
   },
   "outputs": [
    {
     "data": {
      "text/plain": [
       "<sklearn.metrics._plot.confusion_matrix.ConfusionMatrixDisplay at 0x1585b2cb0>"
      ]
     },
     "execution_count": 7,
     "metadata": {},
     "output_type": "execute_result"
    },
    {
     "data": {
      "image/png": "[encoded data removed]",
      "text/plain": [
       "<Figure size 640x480 with 2 Axes>"
      ]
     },
     "metadata": {},
     "output_type": "display_data"
    }
   ],
   "source": [
    "# Calculate a confusion matrix\n",
    "metrics.confusion_matrix(y_test, y_pred)\n",
    "\n",
    "# Plot the confusion matrix\n",
    "metrics.ConfusionMatrixDisplay.from_predictions(y_test, y_pred)"
   ]
  },
  {
   "cell_type": "code",
   "execution_count": 8,
   "id": "a7ce23b6",
   "metadata": {
    "execution": {
     "iopub.execute_input": "2023-07-26T13:27:16.580197Z",
     "iopub.status.busy": "2023-07-26T13:27:16.579661Z",
     "iopub.status.idle": "2023-07-26T13:27:16.601864Z",
     "shell.execute_reply": "2023-07-26T13:27:16.600741Z"
    }
   },
   "outputs": [
    {
     "name": "stdout",
     "output_type": "stream",
     "text": [
      "Gini index  0.35684541672184994\n"
     ]
    }
   ],
   "source": [
    "# Calculate the Gini index\n",
    "probs = pd.DataFrame(data=rfModel.predict_proba(X_test))\n",
    "print(\"Gini index \", (probs * (1 - probs)).mean().sum())"
   ]
  },
  {
   "cell_type": "code",
   "execution_count": 9,
   "id": "b67a2c13",
   "metadata": {
    "execution": {
     "iopub.execute_input": "2023-07-26T13:27:16.606286Z",
     "iopub.status.busy": "2023-07-26T13:27:16.605987Z",
     "iopub.status.idle": "2023-07-26T13:27:16.789495Z",
     "shell.execute_reply": "2023-07-26T13:27:16.789192Z"
    }
   },
   "outputs": [
    {
     "data": {
      "text/plain": [
       "[Text(0.5, 0.8333333333333334, 'bill_depth_mm <= 16.35\\ngini = 0.634\\nsamples = 144\\nvalue = [106, 47, 80]'),\n",
       " Text(0.25, 0.5, 'bill_length_mm <= 39.7\\ngini = 0.049\\nsamples = 48\\nvalue = [2, 0, 77]'),\n",
       " Text(0.125, 0.16666666666666666, 'gini = 0.0\\nsamples = 2\\nvalue = [2, 0, 0]'),\n",
       " Text(0.375, 0.16666666666666666, 'gini = 0.0\\nsamples = 46\\nvalue = [0, 0, 77]'),\n",
       " Text(0.75, 0.5, 'island_Torgersen <= 0.5\\ngini = 0.45\\nsamples = 96\\nvalue = [104, 47, 3]'),\n",
       " Text(0.625, 0.16666666666666666, 'gini = 0.514\\nsamples = 72\\nvalue = [64, 47, 3]'),\n",
       " Text(0.875, 0.16666666666666666, 'gini = 0.0\\nsamples = 24\\nvalue = [40, 0, 0]')]"
      ]
     },
     "execution_count": 9,
     "metadata": {},
     "output_type": "execute_result"
    },
    {
     "data": {
      "image/png": "[encoded data removed]",
      "text/plain": [
       "<Figure size 1500x800 with 1 Axes>"
      ]
     },
     "metadata": {},
     "output_type": "display_data"
    }
   ],
   "source": [
    "# Save the first random forest tree as singleTree\n",
    "singleTree = rfModel.estimators_[0]\n",
    "\n",
    "# Set image size\n",
    "plt.figure(figsize=[15, 8])\n",
    "\n",
    "# Plot a single regression tree\n",
    "tree.plot_tree(singleTree, feature_names=X.columns, filled=False, fontsize=10)"
   ]
  }
 ],
 "metadata": {
  "kernelspec": {
   "display_name": "Python 3 (ipykernel)",
   "language": "python",
   "name": "python3"
  },
  "language_info": {
   "codemirror_mode": {
    "name": "ipython",
    "version": 3
   },
   "file_extension": ".py",
   "mimetype": "text/x-python",
   "name": "python",
   "nbconvert_exporter": "python",
   "pygments_lexer": "ipython3",
   "version": "3.10.12"
  }
 },
 "nbformat": 4,
 "nbformat_minor": 5
}
